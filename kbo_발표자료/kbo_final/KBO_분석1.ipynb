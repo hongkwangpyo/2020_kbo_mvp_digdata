{
 "cells": [
  {
   "cell_type": "code",
   "execution_count": 1,
   "metadata": {
    "id": "FxkFzyCUZj7E"
   },
   "outputs": [],
   "source": [
    "import numpy as np\n",
    "import pandas as pd\n",
    "import matplotlib.pyplot as plt\n",
    "from scipy import stats\n",
    "import seaborn as sns"
   ]
  },
  {
   "cell_type": "code",
   "execution_count": 49,
   "metadata": {
    "id": "_4btmSjBbL-x"
   },
   "outputs": [],
   "source": [
    "from sklearn.model_selection import train_test_split\n",
    "from sklearn.metrics import confusion_matrix\n",
    "from sklearn.metrics import accuracy_score\n",
    "from sklearn.metrics import precision_score\n",
    "from sklearn.metrics import recall_score"
   ]
  },
  {
   "cell_type": "code",
   "execution_count": 4,
   "metadata": {
    "id": "zjz6kUGQayrb"
   },
   "outputs": [],
   "source": [
    "import matplotlib.cm as cm\n",
    "import math\n",
    "from matplotlib.colors import ListedColormap\n",
    "\n",
    "def plot_decision_regions(X, y, classifier, resolution=0.02):\n",
    "\n",
    "    # 마커와 컬러맵을 설정합니다\n",
    "    markers = ('s', 'x', 'o', '^', 'v')\n",
    "    colors = ('red', 'blue', 'lightgreen', 'gray', 'cyan')\n",
    "    cmap = ListedColormap(colors[:len(np.unique(y))])\n",
    "\n",
    "    # 결정 경계를 그립니다\n",
    "    x1_min, x1_max = X[:, 0].min() - 1, X[:, 0].max() + 1\n",
    "    x2_min, x2_max = X[:, 1].min() - 1, X[:, 1].max() + 1\n",
    "    xx1, xx2 = np.meshgrid(np.arange(x1_min, x1_max, resolution),\n",
    "                           np.arange(x2_min, x2_max, resolution))\n",
    "    Z = classifier.predict(np.array([xx1.ravel(), xx2.ravel()]).T)\n",
    "    Z = Z.reshape(xx1.shape)\n",
    "    plt.contourf(xx1, xx2, Z, alpha=0.3, cmap=cmap)\n",
    "    plt.xlim(xx1.min(), xx1.max())\n",
    "    plt.ylim(xx2.min(), xx2.max())\n",
    "\n",
    "    # 샘플의 산점도를 그립니다\n",
    "    for idx, cl in enumerate(np.unique(y)):\n",
    "        plt.scatter(x=X[y == cl, 0], y=X[y == cl, 1],\n",
    "                    alpha=0.8, c=colors[idx],\n",
    "                    marker=markers[idx], label=cl, \n",
    "                    edgecolor='black')"
   ]
  },
  {
   "cell_type": "code",
   "execution_count": 5,
   "metadata": {
    "colab": {
     "base_uri": "https://localhost:8080/",
     "height": 385
    },
    "id": "vlrFZfNvaiSL",
    "outputId": "427a1114-4b47-4a28-9044-de431ea945c9"
   },
   "outputs": [
    {
     "data": {
      "text/html": [
       "<div>\n",
       "<style scoped>\n",
       "    .dataframe tbody tr th:only-of-type {\n",
       "        vertical-align: middle;\n",
       "    }\n",
       "\n",
       "    .dataframe tbody tr th {\n",
       "        vertical-align: top;\n",
       "    }\n",
       "\n",
       "    .dataframe thead th {\n",
       "        text-align: right;\n",
       "    }\n",
       "</style>\n",
       "<table border=\"1\" class=\"dataframe\">\n",
       "  <thead>\n",
       "    <tr style=\"text-align: right;\">\n",
       "      <th></th>\n",
       "      <th>Unnamed: 0</th>\n",
       "      <th>player_team</th>\n",
       "      <th>player_ERA</th>\n",
       "      <th>player_GP</th>\n",
       "      <th>player_CG</th>\n",
       "      <th>player_SHO</th>\n",
       "      <th>player_W</th>\n",
       "      <th>player_L</th>\n",
       "      <th>player_SV</th>\n",
       "      <th>player_HLD</th>\n",
       "      <th>player_WPCT</th>\n",
       "      <th>player_TBF</th>\n",
       "      <th>player_IP</th>\n",
       "      <th>player_HP</th>\n",
       "      <th>player_HRP</th>\n",
       "      <th>player_BBP</th>\n",
       "      <th>player_HBPP</th>\n",
       "      <th>player_SOP</th>\n",
       "      <th>player_RP</th>\n",
       "      <th>player_ER</th>\n",
       "      <th>mvp</th>\n",
       "    </tr>\n",
       "  </thead>\n",
       "  <tbody>\n",
       "    <tr>\n",
       "      <th>0</th>\n",
       "      <td>75</td>\n",
       "      <td>0.857143</td>\n",
       "      <td>0.541985</td>\n",
       "      <td>0.345455</td>\n",
       "      <td>0.500</td>\n",
       "      <td>0.666667</td>\n",
       "      <td>0.909091</td>\n",
       "      <td>0.9</td>\n",
       "      <td>0.000000</td>\n",
       "      <td>0.0</td>\n",
       "      <td>0.544393</td>\n",
       "      <td>1.000000</td>\n",
       "      <td>1.000000</td>\n",
       "      <td>0.970297</td>\n",
       "      <td>0.571429</td>\n",
       "      <td>1.000000</td>\n",
       "      <td>0.705882</td>\n",
       "      <td>1.000000</td>\n",
       "      <td>1.000000</td>\n",
       "      <td>1.000000</td>\n",
       "      <td>0</td>\n",
       "    </tr>\n",
       "    <tr>\n",
       "      <th>1</th>\n",
       "      <td>76</td>\n",
       "      <td>0.857143</td>\n",
       "      <td>0.412214</td>\n",
       "      <td>0.363636</td>\n",
       "      <td>0.750</td>\n",
       "      <td>0.333333</td>\n",
       "      <td>0.909091</td>\n",
       "      <td>1.0</td>\n",
       "      <td>0.111111</td>\n",
       "      <td>0.0</td>\n",
       "      <td>0.500000</td>\n",
       "      <td>0.879406</td>\n",
       "      <td>0.888889</td>\n",
       "      <td>0.990099</td>\n",
       "      <td>1.000000</td>\n",
       "      <td>0.811881</td>\n",
       "      <td>0.176471</td>\n",
       "      <td>0.637681</td>\n",
       "      <td>0.867647</td>\n",
       "      <td>0.797101</td>\n",
       "      <td>0</td>\n",
       "    </tr>\n",
       "    <tr>\n",
       "      <th>2</th>\n",
       "      <td>77</td>\n",
       "      <td>0.571429</td>\n",
       "      <td>0.706107</td>\n",
       "      <td>0.254545</td>\n",
       "      <td>1.000</td>\n",
       "      <td>1.000000</td>\n",
       "      <td>0.727273</td>\n",
       "      <td>0.6</td>\n",
       "      <td>0.000000</td>\n",
       "      <td>0.0</td>\n",
       "      <td>0.605140</td>\n",
       "      <td>0.580705</td>\n",
       "      <td>0.587179</td>\n",
       "      <td>0.782178</td>\n",
       "      <td>0.666667</td>\n",
       "      <td>0.306931</td>\n",
       "      <td>0.470588</td>\n",
       "      <td>0.210145</td>\n",
       "      <td>0.823529</td>\n",
       "      <td>0.826087</td>\n",
       "      <td>0</td>\n",
       "    </tr>\n",
       "    <tr>\n",
       "      <th>3</th>\n",
       "      <td>78</td>\n",
       "      <td>0.428571</td>\n",
       "      <td>0.522901</td>\n",
       "      <td>0.400000</td>\n",
       "      <td>0.125</td>\n",
       "      <td>0.000000</td>\n",
       "      <td>0.545455</td>\n",
       "      <td>0.4</td>\n",
       "      <td>0.111111</td>\n",
       "      <td>0.0</td>\n",
       "      <td>0.630841</td>\n",
       "      <td>0.625232</td>\n",
       "      <td>0.587179</td>\n",
       "      <td>0.801980</td>\n",
       "      <td>0.666667</td>\n",
       "      <td>0.524752</td>\n",
       "      <td>0.411765</td>\n",
       "      <td>0.449275</td>\n",
       "      <td>0.838235</td>\n",
       "      <td>0.681159</td>\n",
       "      <td>0</td>\n",
       "    </tr>\n",
       "    <tr>\n",
       "      <th>4</th>\n",
       "      <td>79</td>\n",
       "      <td>0.142857</td>\n",
       "      <td>0.545802</td>\n",
       "      <td>0.272727</td>\n",
       "      <td>0.125</td>\n",
       "      <td>0.333333</td>\n",
       "      <td>0.909091</td>\n",
       "      <td>0.2</td>\n",
       "      <td>0.055556</td>\n",
       "      <td>0.0</td>\n",
       "      <td>0.967290</td>\n",
       "      <td>0.582560</td>\n",
       "      <td>0.581197</td>\n",
       "      <td>0.683168</td>\n",
       "      <td>0.904762</td>\n",
       "      <td>0.287129</td>\n",
       "      <td>0.882353</td>\n",
       "      <td>0.427536</td>\n",
       "      <td>0.676471</td>\n",
       "      <td>0.695652</td>\n",
       "      <td>0</td>\n",
       "    </tr>\n",
       "    <tr>\n",
       "      <th>5</th>\n",
       "      <td>80</td>\n",
       "      <td>1.000000</td>\n",
       "      <td>0.664122</td>\n",
       "      <td>0.254545</td>\n",
       "      <td>0.000</td>\n",
       "      <td>0.000000</td>\n",
       "      <td>1.000000</td>\n",
       "      <td>0.2</td>\n",
       "      <td>0.000000</td>\n",
       "      <td>0.0</td>\n",
       "      <td>1.000000</td>\n",
       "      <td>0.525046</td>\n",
       "      <td>0.484615</td>\n",
       "      <td>0.831683</td>\n",
       "      <td>0.571429</td>\n",
       "      <td>0.356436</td>\n",
       "      <td>0.117647</td>\n",
       "      <td>0.239130</td>\n",
       "      <td>0.691176</td>\n",
       "      <td>0.710145</td>\n",
       "      <td>0</td>\n",
       "    </tr>\n",
       "    <tr>\n",
       "      <th>6</th>\n",
       "      <td>81</td>\n",
       "      <td>0.142857</td>\n",
       "      <td>0.496183</td>\n",
       "      <td>0.363636</td>\n",
       "      <td>0.000</td>\n",
       "      <td>0.000000</td>\n",
       "      <td>0.818182</td>\n",
       "      <td>0.4</td>\n",
       "      <td>0.000000</td>\n",
       "      <td>0.0</td>\n",
       "      <td>0.778037</td>\n",
       "      <td>0.506494</td>\n",
       "      <td>0.452991</td>\n",
       "      <td>0.683168</td>\n",
       "      <td>0.238095</td>\n",
       "      <td>0.554455</td>\n",
       "      <td>0.352941</td>\n",
       "      <td>0.137681</td>\n",
       "      <td>0.588235</td>\n",
       "      <td>0.565217</td>\n",
       "      <td>0</td>\n",
       "    </tr>\n",
       "    <tr>\n",
       "      <th>7</th>\n",
       "      <td>82</td>\n",
       "      <td>0.714286</td>\n",
       "      <td>0.832061</td>\n",
       "      <td>0.272727</td>\n",
       "      <td>0.000</td>\n",
       "      <td>0.000000</td>\n",
       "      <td>0.545455</td>\n",
       "      <td>0.5</td>\n",
       "      <td>0.000000</td>\n",
       "      <td>0.0</td>\n",
       "      <td>0.560748</td>\n",
       "      <td>0.487941</td>\n",
       "      <td>0.410256</td>\n",
       "      <td>0.653465</td>\n",
       "      <td>0.476190</td>\n",
       "      <td>0.544554</td>\n",
       "      <td>0.529412</td>\n",
       "      <td>0.021739</td>\n",
       "      <td>0.750000</td>\n",
       "      <td>0.768116</td>\n",
       "      <td>0</td>\n",
       "    </tr>\n",
       "    <tr>\n",
       "      <th>8</th>\n",
       "      <td>83</td>\n",
       "      <td>0.714286</td>\n",
       "      <td>0.820611</td>\n",
       "      <td>0.236364</td>\n",
       "      <td>0.000</td>\n",
       "      <td>0.000000</td>\n",
       "      <td>0.363636</td>\n",
       "      <td>0.7</td>\n",
       "      <td>0.000000</td>\n",
       "      <td>0.0</td>\n",
       "      <td>0.315421</td>\n",
       "      <td>0.441558</td>\n",
       "      <td>0.384615</td>\n",
       "      <td>0.603960</td>\n",
       "      <td>0.333333</td>\n",
       "      <td>0.465347</td>\n",
       "      <td>0.176471</td>\n",
       "      <td>0.195652</td>\n",
       "      <td>0.661765</td>\n",
       "      <td>0.739130</td>\n",
       "      <td>0</td>\n",
       "    </tr>\n",
       "    <tr>\n",
       "      <th>9</th>\n",
       "      <td>84</td>\n",
       "      <td>0.285714</td>\n",
       "      <td>0.736641</td>\n",
       "      <td>0.163636</td>\n",
       "      <td>0.625</td>\n",
       "      <td>0.333333</td>\n",
       "      <td>0.909091</td>\n",
       "      <td>0.5</td>\n",
       "      <td>0.000000</td>\n",
       "      <td>0.0</td>\n",
       "      <td>0.754673</td>\n",
       "      <td>0.378479</td>\n",
       "      <td>0.367521</td>\n",
       "      <td>1.000000</td>\n",
       "      <td>0.190476</td>\n",
       "      <td>0.099010</td>\n",
       "      <td>0.058824</td>\n",
       "      <td>0.000000</td>\n",
       "      <td>0.617647</td>\n",
       "      <td>0.666667</td>\n",
       "      <td>0</td>\n",
       "    </tr>\n",
       "  </tbody>\n",
       "</table>\n",
       "</div>"
      ],
      "text/plain": [
       "   Unnamed: 0  player_team  player_ERA  ...  player_RP  player_ER  mvp\n",
       "0          75     0.857143    0.541985  ...   1.000000   1.000000    0\n",
       "1          76     0.857143    0.412214  ...   0.867647   0.797101    0\n",
       "2          77     0.571429    0.706107  ...   0.823529   0.826087    0\n",
       "3          78     0.428571    0.522901  ...   0.838235   0.681159    0\n",
       "4          79     0.142857    0.545802  ...   0.676471   0.695652    0\n",
       "5          80     1.000000    0.664122  ...   0.691176   0.710145    0\n",
       "6          81     0.142857    0.496183  ...   0.588235   0.565217    0\n",
       "7          82     0.714286    0.832061  ...   0.750000   0.768116    0\n",
       "8          83     0.714286    0.820611  ...   0.661765   0.739130    0\n",
       "9          84     0.285714    0.736641  ...   0.617647   0.666667    0\n",
       "\n",
       "[10 rows x 21 columns]"
      ]
     },
     "execution_count": 5,
     "metadata": {
      "tags": []
     },
     "output_type": "execute_result"
    }
   ],
   "source": [
    "pit = pd.read_excel('https://github.com/siestageek/datasets/blob/master/xlsx/df_pit_2(%EC%88%98%EC%A0%95).xlsx?raw=true')\n",
    "pit.head(10)"
   ]
  },
  {
   "cell_type": "code",
   "execution_count": 139,
   "metadata": {
    "colab": {
     "base_uri": "https://localhost:8080/",
     "height": 90
    },
    "id": "S9kKoYwYbcxA",
    "outputId": "9fb0d2f3-e571-4046-96f2-a74933f7f652"
   },
   "outputs": [
    {
     "name": "stdout",
     "output_type": "stream",
     "text": [
      "종속변수 값 비율\n",
      " 0    466\n",
      "1      9\n",
      "Name: mvp, dtype: int64\n"
     ]
    }
   ],
   "source": [
    "data = pit.loc[:, ['player_W','player_WPCT']].to_numpy()    # 'player_ERA'\n",
    "target = pit.loc[:, 'mvp']\n",
    "\n",
    "print(\"종속변수 값 비율\\n\", target.value_counts())\n",
    "\n",
    "# 데이터 분할\n",
    "x_train, x_test, y_train, y_test = \\\n",
    "    train_test_split(data, target, test_size=0.3,\n",
    "            random_state=2010061100, stratify=target)\n",
    "    "
   ]
  },
  {
   "cell_type": "code",
   "execution_count": 140,
   "metadata": {
    "colab": {
     "base_uri": "https://localhost:8080/",
     "height": 678
    },
    "id": "51lVx4_lfoGK",
    "outputId": "d0d06498-681c-4597-ea3f-a5880635b991"
   },
   "outputs": [
    {
     "name": "stdout",
     "output_type": "stream",
     "text": [
      "훈련 정확도 0.9819277108433735\n",
      "예측정확도 0.9790209790209791\n",
      "[[140   0]\n",
      " [  3   0]]\n",
      "정밀도 1.0\n",
      "재현율 0.9790209790209791\n"
     ]
    },
    {
     "name": "stderr",
     "output_type": "stream",
     "text": [
      "/usr/local/lib/python3.6/dist-packages/sklearn/metrics/_classification.py:1272: UndefinedMetricWarning: Recall is ill-defined and being set to 0.0 in labels with no true samples. Use `zero_division` parameter to control this behavior.\n",
      "  _warn_prf(average, modifier, msg_start, len(result))\n"
     ]
    },
    {
     "data": {
      "image/png": "[encoded data removed]",
      "text/plain": [
       "<Figure size 432x288 with 1 Axes>"
      ]
     },
     "metadata": {
      "needs_background": "light",
      "tags": []
     },
     "output_type": "display_data"
    },
    {
     "data": {
      "image/png": "[encoded data removed]",
      "text/plain": [
       "<Figure size 432x288 with 1 Axes>"
      ]
     },
     "metadata": {
      "needs_background": "light",
      "tags": []
     },
     "output_type": "display_data"
    }
   ],
   "source": [
    "# 로지스틱 회귀\n",
    "\n",
    "from sklearn.linear_model import LogisticRegression\n",
    "\n",
    "lr = LogisticRegression()\n",
    "lr.fit(x_train, y_train)\n",
    "\n",
    "print('훈련 정확도', lr.score(x_train, y_train))\n",
    "\n",
    "pred = lr.predict(x_test)\n",
    "\n",
    "# 모델 평가\n",
    "print('예측정확도', accuracy_score(pred, y_test))\n",
    "print(confusion_matrix(y_test, pred))\n",
    "print('정밀도', precision_score(pred, y_test, average='weighted'))\n",
    "print('재현율', recall_score(pred, y_test, average='weighted'))\n",
    "\n",
    "plot_decision_regions(x_train, y_train, lr)\n",
    "plt.show()\n",
    "\n",
    "plot_decision_regions(x_test, y_test, lr)\n",
    "plt.show()"
   ]
  },
  {
   "cell_type": "code",
   "execution_count": 141,
   "metadata": {
    "colab": {
     "base_uri": "https://localhost:8080/",
     "height": 72
    },
    "id": "BcglqRmBfobX",
    "outputId": "2519824f-176d-427b-9da6-8b6a7570dc70"
   },
   "outputs": [
    {
     "name": "stdout",
     "output_type": "stream",
     "text": [
      "훈련 정확도 0.9810526315789474\n",
      "[[466   0]\n",
      " [  9   0]]\n"
     ]
    }
   ],
   "source": [
    "lr = LogisticRegression()\n",
    "lr.fit(data, target)\n",
    "\n",
    "print('훈련 정확도', lr.score(data, target))\n",
    "\n",
    "print(confusion_matrix(target, lr.predict(data)))\n"
   ]
  },
  {
   "cell_type": "code",
   "execution_count": 71,
   "metadata": {
    "colab": {
     "base_uri": "https://localhost:8080/",
     "height": 622
    },
    "id": "B5JsnJqnfn6f",
    "outputId": "a36efdc8-e7b2-4876-a582-8de68bed5b3c"
   },
   "outputs": [
    {
     "name": "stdout",
     "output_type": "stream",
     "text": [
      "훈련 정확도 0.9909638554216867\n",
      "예측정확도 0.986013986013986\n",
      "[[140   0]\n",
      " [  2   1]]\n",
      "정밀도 0.9953379953379954\n",
      "재현율 0.986013986013986\n"
     ]
    },
    {
     "data": {
      "image/png": "[encoded data removed]",
      "text/plain": [
       "<Figure size 432x288 with 1 Axes>"
      ]
     },
     "metadata": {
      "needs_background": "light",
      "tags": []
     },
     "output_type": "display_data"
    },
    {
     "data": {
      "image/png": "[encoded data removed]",
      "text/plain": [
       "<Figure size 432x288 with 1 Axes>"
      ]
     },
     "metadata": {
      "needs_background": "light",
      "tags": []
     },
     "output_type": "display_data"
    }
   ],
   "source": [
    "# 의사결정나무\n",
    "\n",
    "from sklearn.tree import DecisionTreeClassifier\n",
    "\n",
    "dt = DecisionTreeClassifier()\n",
    "dt.fit(x_train, y_train)\n",
    "\n",
    "print('훈련 정확도', dt.score(x_train, y_train))\n",
    "\n",
    "pred = dt.predict(x_test)\n",
    "\n",
    "# 모델 평가\n",
    "print('예측정확도', accuracy_score(pred, y_test))\n",
    "print(confusion_matrix(y_test, pred))\n",
    "print('정밀도', precision_score(pred, y_test, average='weighted'))\n",
    "print('재현율', recall_score(pred, y_test, average='weighted'))\n",
    "\n",
    "plot_decision_regions(x_train, y_train, dt)\n",
    "plt.show()\n",
    "\n",
    "plot_decision_regions(x_test, y_test, dt)\n",
    "plt.show()"
   ]
  },
  {
   "cell_type": "code",
   "execution_count": 62,
   "metadata": {
    "colab": {
     "base_uri": "https://localhost:8080/",
     "height": 72
    },
    "id": "FsNkdkt9hGSw",
    "outputId": "be97e960-0617-4418-b781-fc57aea54c81"
   },
   "outputs": [
    {
     "name": "stdout",
     "output_type": "stream",
     "text": [
      "훈련 정확도 1.0\n",
      "[[466   0]\n",
      " [  9   0]]\n"
     ]
    }
   ],
   "source": [
    "dt = DecisionTreeClassifier()\n",
    "dt.fit(data, target)\n",
    "\n",
    "print('훈련 정확도', dt.score(data, target))\n",
    "\n",
    "print(confusion_matrix(target, lr.predict(data)))"
   ]
  },
  {
   "cell_type": "code",
   "execution_count": 72,
   "metadata": {
    "colab": {
     "base_uri": "https://localhost:8080/",
     "height": 678
    },
    "id": "cxzFx0lNbPYg",
    "outputId": "ef7d20b6-6f9a-4a52-827e-a81a1ae5f2c8"
   },
   "outputs": [
    {
     "name": "stdout",
     "output_type": "stream",
     "text": [
      "훈련 정확도 0.9819277108433735\n",
      "예측정확도 0.9790209790209791\n",
      "[[140   0]\n",
      " [  3   0]]\n",
      "정밀도 1.0\n",
      "재현율 0.9790209790209791\n"
     ]
    },
    {
     "name": "stderr",
     "output_type": "stream",
     "text": [
      "/usr/local/lib/python3.6/dist-packages/sklearn/metrics/_classification.py:1272: UndefinedMetricWarning: Recall is ill-defined and being set to 0.0 in labels with no true samples. Use `zero_division` parameter to control this behavior.\n",
      "  _warn_prf(average, modifier, msg_start, len(result))\n"
     ]
    },
    {
     "data": {
      "image/png": "[encoded data removed]",
      "text/plain": [
       "<Figure size 432x288 with 1 Axes>"
      ]
     },
     "metadata": {
      "needs_background": "light",
      "tags": []
     },
     "output_type": "display_data"
    },
    {
     "data": {
      "image/png": "[encoded data removed]",
      "text/plain": [
       "<Figure size 432x288 with 1 Axes>"
      ]
     },
     "metadata": {
      "needs_background": "light",
      "tags": []
     },
     "output_type": "display_data"
    }
   ],
   "source": [
    "# 나이브 베이즈\n",
    "\n",
    "from sklearn.naive_bayes import MultinomialNB\n",
    "from sklearn.naive_bayes import BernoulliNB\n",
    "\n",
    "bayes = BernoulliNB()\n",
    "bayes.fit(x_train, y_train)\n",
    "print('훈련 정확도', bayes.score(x_train, y_train))\n",
    "\n",
    "pred = bayes.predict(x_test)\n",
    "\n",
    "# 모델 평가\n",
    "print('예측정확도', accuracy_score(pred, y_test))\n",
    "print(confusion_matrix(y_test, pred))\n",
    "print('정밀도', precision_score(pred, y_test, average='weighted'))\n",
    "print('재현율', recall_score(pred, y_test, average='weighted'))\n",
    "\n",
    "plot_decision_regions(x_train, y_train, bayes)\n",
    "plt.show()\n",
    "\n",
    "plot_decision_regions(x_test, y_test, bayes)\n",
    "plt.show()"
   ]
  },
  {
   "cell_type": "code",
   "execution_count": 23,
   "metadata": {
    "colab": {
     "base_uri": "https://localhost:8080/",
     "height": 72
    },
    "id": "w_k6hAeYcKmc",
    "outputId": "78fc37f5-3893-489a-f14f-4d88c6aad240"
   },
   "outputs": [
    {
     "name": "stdout",
     "output_type": "stream",
     "text": [
      "훈련 정확도 0.9810526315789474\n",
      "[[466   0]\n",
      " [  9   0]]\n"
     ]
    }
   ],
   "source": [
    "bayes = BernoulliNB()\n",
    "bayes.fit(data, target)\n",
    "print('훈련 정확도', bayes.score(data, target))\n",
    "\n",
    "# 모델 평가\n",
    "print(confusion_matrix(target, bayes.predict(data)))"
   ]
  },
  {
   "cell_type": "code",
   "execution_count": 73,
   "metadata": {
    "colab": {
     "base_uri": "https://localhost:8080/",
     "height": 622
    },
    "id": "CvQP0rMxdRA7",
    "outputId": "b4a258cc-3c5e-441e-80a7-9320ca64b5b1"
   },
   "outputs": [
    {
     "name": "stdout",
     "output_type": "stream",
     "text": [
      "훈련정확도 0.9849397590361446\n",
      "예측정확도 0.986013986013986\n",
      "[[140   0]\n",
      " [  2   1]]\n",
      "정밀도 0.9953379953379954\n",
      "재현율 0.986013986013986\n"
     ]
    },
    {
     "data": {
      "image/png": "[encoded data removed]",
      "text/plain": [
       "<Figure size 432x288 with 1 Axes>"
      ]
     },
     "metadata": {
      "needs_background": "light",
      "tags": []
     },
     "output_type": "display_data"
    },
    {
     "data": {
      "image/png": "[encoded data removed]",
      "text/plain": [
       "<Figure size 432x288 with 1 Axes>"
      ]
     },
     "metadata": {
      "needs_background": "light",
      "tags": []
     },
     "output_type": "display_data"
    }
   ],
   "source": [
    "# KNN\n",
    "\n",
    "from sklearn.neighbors import KNeighborsClassifier\n",
    "\n",
    "# knn 분석 : k=4\n",
    "knn = KNeighborsClassifier(n_neighbors=10)\n",
    "knn.fit(x_train, y_train)\n",
    "\n",
    "pred = knn.predict(x_test)\n",
    "\n",
    "print('훈련정확도', knn.score(x_train, y_train))\n",
    "print('예측정확도', accuracy_score(pred, y_test))\n",
    "\n",
    "print(confusion_matrix(y_test, pred))\n",
    "\n",
    "print('정밀도', precision_score(pred, y_test, average='weighted'))\n",
    "print('재현율', recall_score(pred, y_test, average='weighted'))\n",
    "\n",
    "plot_decision_regions(x_train, y_train, knn)\n",
    "plt.show()\n",
    "\n",
    "plot_decision_regions(x_test, y_test, knn)\n",
    "plt.show()"
   ]
  },
  {
   "cell_type": "code",
   "execution_count": 43,
   "metadata": {
    "colab": {
     "base_uri": "https://localhost:8080/",
     "height": 72
    },
    "id": "rYhS3IEtd3Z0",
    "outputId": "418b533f-6408-4f20-dbba-e47a0c583fd6"
   },
   "outputs": [
    {
     "name": "stdout",
     "output_type": "stream",
     "text": [
      "훈련정확도 0.9936842105263158\n",
      "[[464   2]\n",
      " [  1   8]]\n"
     ]
    }
   ],
   "source": [
    "knn = KNeighborsClassifier(n_neighbors=10)\n",
    "knn.fit(data, target)\n",
    "\n",
    "print('훈련정확도', knn.score(data, target))\n",
    "\n",
    "print(confusion_matrix(target, knn.predict(data)))"
   ]
  },
  {
   "cell_type": "code",
   "execution_count": 44,
   "metadata": {
    "colab": {
     "base_uri": "https://localhost:8080/",
     "height": 1000
    },
    "id": "R0WqH_n4e8hQ",
    "outputId": "dc6334c9-1a2d-4ae2-f959-a6a1edff98e9"
   },
   "outputs": [
    {
     "name": "stderr",
     "output_type": "stream",
     "text": [
      "/usr/local/lib/python3.6/dist-packages/sklearn/model_selection/_split.py:667: UserWarning: The least populated class in y has only 6 members, which is less than n_splits=10.\n",
      "  % (min_groups, self.n_splits)), UserWarning)\n",
      "/usr/local/lib/python3.6/dist-packages/sklearn/model_selection/_split.py:667: UserWarning: The least populated class in y has only 6 members, which is less than n_splits=10.\n",
      "  % (min_groups, self.n_splits)), UserWarning)\n",
      "/usr/local/lib/python3.6/dist-packages/sklearn/model_selection/_split.py:667: UserWarning: The least populated class in y has only 6 members, which is less than n_splits=10.\n",
      "  % (min_groups, self.n_splits)), UserWarning)\n",
      "/usr/local/lib/python3.6/dist-packages/sklearn/model_selection/_split.py:667: UserWarning: The least populated class in y has only 6 members, which is less than n_splits=10.\n",
      "  % (min_groups, self.n_splits)), UserWarning)\n",
      "/usr/local/lib/python3.6/dist-packages/sklearn/model_selection/_split.py:667: UserWarning: The least populated class in y has only 6 members, which is less than n_splits=10.\n",
      "  % (min_groups, self.n_splits)), UserWarning)\n",
      "/usr/local/lib/python3.6/dist-packages/sklearn/model_selection/_split.py:667: UserWarning: The least populated class in y has only 6 members, which is less than n_splits=10.\n",
      "  % (min_groups, self.n_splits)), UserWarning)\n",
      "/usr/local/lib/python3.6/dist-packages/sklearn/model_selection/_split.py:667: UserWarning: The least populated class in y has only 6 members, which is less than n_splits=10.\n",
      "  % (min_groups, self.n_splits)), UserWarning)\n",
      "/usr/local/lib/python3.6/dist-packages/sklearn/model_selection/_split.py:667: UserWarning: The least populated class in y has only 6 members, which is less than n_splits=10.\n",
      "  % (min_groups, self.n_splits)), UserWarning)\n",
      "/usr/local/lib/python3.6/dist-packages/sklearn/model_selection/_split.py:667: UserWarning: The least populated class in y has only 6 members, which is less than n_splits=10.\n",
      "  % (min_groups, self.n_splits)), UserWarning)\n",
      "/usr/local/lib/python3.6/dist-packages/sklearn/model_selection/_split.py:667: UserWarning: The least populated class in y has only 6 members, which is less than n_splits=10.\n",
      "  % (min_groups, self.n_splits)), UserWarning)\n",
      "/usr/local/lib/python3.6/dist-packages/sklearn/model_selection/_split.py:667: UserWarning: The least populated class in y has only 6 members, which is less than n_splits=10.\n",
      "  % (min_groups, self.n_splits)), UserWarning)\n",
      "/usr/local/lib/python3.6/dist-packages/sklearn/model_selection/_split.py:667: UserWarning: The least populated class in y has only 6 members, which is less than n_splits=10.\n",
      "  % (min_groups, self.n_splits)), UserWarning)\n",
      "/usr/local/lib/python3.6/dist-packages/sklearn/model_selection/_split.py:667: UserWarning: The least populated class in y has only 6 members, which is less than n_splits=10.\n",
      "  % (min_groups, self.n_splits)), UserWarning)\n",
      "/usr/local/lib/python3.6/dist-packages/sklearn/model_selection/_split.py:667: UserWarning: The least populated class in y has only 6 members, which is less than n_splits=10.\n",
      "  % (min_groups, self.n_splits)), UserWarning)\n",
      "/usr/local/lib/python3.6/dist-packages/sklearn/model_selection/_split.py:667: UserWarning: The least populated class in y has only 6 members, which is less than n_splits=10.\n",
      "  % (min_groups, self.n_splits)), UserWarning)\n",
      "/usr/local/lib/python3.6/dist-packages/sklearn/model_selection/_split.py:667: UserWarning: The least populated class in y has only 6 members, which is less than n_splits=10.\n",
      "  % (min_groups, self.n_splits)), UserWarning)\n",
      "/usr/local/lib/python3.6/dist-packages/sklearn/model_selection/_split.py:667: UserWarning: The least populated class in y has only 6 members, which is less than n_splits=10.\n",
      "  % (min_groups, self.n_splits)), UserWarning)\n",
      "/usr/local/lib/python3.6/dist-packages/sklearn/model_selection/_split.py:667: UserWarning: The least populated class in y has only 6 members, which is less than n_splits=10.\n",
      "  % (min_groups, self.n_splits)), UserWarning)\n",
      "/usr/local/lib/python3.6/dist-packages/sklearn/model_selection/_split.py:667: UserWarning: The least populated class in y has only 6 members, which is less than n_splits=10.\n",
      "  % (min_groups, self.n_splits)), UserWarning)\n",
      "/usr/local/lib/python3.6/dist-packages/sklearn/model_selection/_split.py:667: UserWarning: The least populated class in y has only 6 members, which is less than n_splits=10.\n",
      "  % (min_groups, self.n_splits)), UserWarning)\n",
      "/usr/local/lib/python3.6/dist-packages/sklearn/model_selection/_split.py:667: UserWarning: The least populated class in y has only 6 members, which is less than n_splits=10.\n",
      "  % (min_groups, self.n_splits)), UserWarning)\n",
      "/usr/local/lib/python3.6/dist-packages/sklearn/model_selection/_split.py:667: UserWarning: The least populated class in y has only 6 members, which is less than n_splits=10.\n",
      "  % (min_groups, self.n_splits)), UserWarning)\n",
      "/usr/local/lib/python3.6/dist-packages/sklearn/model_selection/_split.py:667: UserWarning: The least populated class in y has only 6 members, which is less than n_splits=10.\n",
      "  % (min_groups, self.n_splits)), UserWarning)\n",
      "/usr/local/lib/python3.6/dist-packages/sklearn/model_selection/_split.py:667: UserWarning: The least populated class in y has only 6 members, which is less than n_splits=10.\n",
      "  % (min_groups, self.n_splits)), UserWarning)\n",
      "/usr/local/lib/python3.6/dist-packages/sklearn/model_selection/_split.py:667: UserWarning: The least populated class in y has only 6 members, which is less than n_splits=10.\n",
      "  % (min_groups, self.n_splits)), UserWarning)\n",
      "/usr/local/lib/python3.6/dist-packages/sklearn/model_selection/_split.py:667: UserWarning: The least populated class in y has only 6 members, which is less than n_splits=10.\n",
      "  % (min_groups, self.n_splits)), UserWarning)\n",
      "/usr/local/lib/python3.6/dist-packages/sklearn/model_selection/_split.py:667: UserWarning: The least populated class in y has only 6 members, which is less than n_splits=10.\n",
      "  % (min_groups, self.n_splits)), UserWarning)\n",
      "/usr/local/lib/python3.6/dist-packages/sklearn/model_selection/_split.py:667: UserWarning: The least populated class in y has only 6 members, which is less than n_splits=10.\n",
      "  % (min_groups, self.n_splits)), UserWarning)\n",
      "/usr/local/lib/python3.6/dist-packages/sklearn/model_selection/_split.py:667: UserWarning: The least populated class in y has only 6 members, which is less than n_splits=10.\n",
      "  % (min_groups, self.n_splits)), UserWarning)\n",
      "/usr/local/lib/python3.6/dist-packages/sklearn/model_selection/_split.py:667: UserWarning: The least populated class in y has only 6 members, which is less than n_splits=10.\n",
      "  % (min_groups, self.n_splits)), UserWarning)\n"
     ]
    },
    {
     "data": {
      "image/png": "[encoded data removed]",
      "text/plain": [
       "<Figure size 432x288 with 1 Axes>"
      ]
     },
     "metadata": {
      "needs_background": "light",
      "tags": []
     },
     "output_type": "display_data"
    }
   ],
   "source": [
    "from sklearn.model_selection import cross_val_score\n",
    "\n",
    "scores = []\n",
    "for k in range(1,31):\n",
    "    knn = KNeighborsClassifier(n_neighbors=k)\n",
    "    score = cross_val_score(knn, x_train, y_train,\n",
    "                            cv=10, scoring='accuracy')\n",
    "    scores.append(score.mean())\n",
    "\n",
    "# 교차검증 시각화\n",
    "x = range(1,31)\n",
    "plt.plot(x, scores, 'ro-')\n",
    "plt.show()    "
   ]
  },
  {
   "cell_type": "code",
   "execution_count": 81,
   "metadata": {
    "colab": {
     "base_uri": "https://localhost:8080/",
     "height": 622
    },
    "id": "pjCqqpBNhWof",
    "outputId": "f9aebfd2-2fef-47d2-9ce1-51a4304683cb"
   },
   "outputs": [
    {
     "name": "stdout",
     "output_type": "stream",
     "text": [
      "훈련 정확도 0.9909638554216867\n",
      "예측 정확도 0.986013986013986\n",
      "[[140   0]\n",
      " [  2   1]]\n",
      "정밀도 0.9953379953379954\n",
      "재현율 0.986013986013986\n"
     ]
    },
    {
     "data": {
      "image/png": "[encoded data removed]",
      "text/plain": [
       "<Figure size 432x288 with 1 Axes>"
      ]
     },
     "metadata": {
      "needs_background": "light",
      "tags": []
     },
     "output_type": "display_data"
    },
    {
     "data": {
      "image/png": "[encoded data removed]",
      "text/plain": [
       "<Figure size 432x288 with 1 Axes>"
      ]
     },
     "metadata": {
      "needs_background": "light",
      "tags": []
     },
     "output_type": "display_data"
    }
   ],
   "source": [
    "# 부스팅 계열\n",
    "\n",
    "from sklearn.ensemble import AdaBoostClassifier\n",
    "from sklearn.ensemble import GradientBoostingClassifier\n",
    "from sklearn.ensemble import RandomForestClassifier\n",
    "\n",
    "adaclf = AdaBoostClassifier(\n",
    "            DecisionTreeClassifier(max_depth=3),\n",
    "            n_estimators=100, learning_rate=0.5,\n",
    "            algorithm='SAMME.R')\n",
    "\n",
    "adaclf.fit(x_train, y_train)\n",
    "print('훈련 정확도', adaclf.score(x_train, y_train))\n",
    "\n",
    "pred = adaclf.predict(x_test)\n",
    "print('예측 정확도', accuracy_score(pred, y_test))\n",
    "\n",
    "print(confusion_matrix(y_test, pred))\n",
    "\n",
    "print('정밀도', precision_score(pred, y_test, average='weighted'))\n",
    "print('재현율', recall_score(pred, y_test, average='weighted'))\n",
    "\n",
    "plot_decision_regions(x_train, y_train, adaclf)\n",
    "plt.show()\n",
    "\n",
    "plot_decision_regions(x_test, y_test, adaclf)\n",
    "plt.show()"
   ]
  },
  {
   "cell_type": "code",
   "execution_count": 92,
   "metadata": {
    "colab": {
     "base_uri": "https://localhost:8080/",
     "height": 72
    },
    "id": "Y1p97L8PnAIN",
    "outputId": "8a8d3e51-4947-48b5-ae56-a2e59083e277"
   },
   "outputs": [
    {
     "name": "stdout",
     "output_type": "stream",
     "text": [
      "훈련정확도 0.9894736842105263\n",
      "[[466   0]\n",
      " [  5   4]]\n"
     ]
    }
   ],
   "source": [
    "adaclf = AdaBoostClassifier(\n",
    "            DecisionTreeClassifier(max_depth=3),\n",
    "            n_estimators=100, learning_rate=0.5,\n",
    "            algorithm='SAMME.R')\n",
    "adaclf.fit(data, target)\n",
    "\n",
    "print('훈련정확도', adaclf.score(data, target))\n",
    "\n",
    "print(confusion_matrix(target, adaclf.predict(data)))"
   ]
  },
  {
   "cell_type": "code",
   "execution_count": 84,
   "metadata": {
    "colab": {
     "base_uri": "https://localhost:8080/",
     "height": 622
    },
    "id": "1FzkC7COlbkb",
    "outputId": "bf5dd315-810a-4fec-ff25-4a100c28a518"
   },
   "outputs": [
    {
     "name": "stdout",
     "output_type": "stream",
     "text": [
      "0.9909638554216867\n",
      "0.986013986013986\n",
      "[[140   0]\n",
      " [  2   1]]\n",
      "정밀도 0.9953379953379954\n",
      "재현율 0.986013986013986\n"
     ]
    },
    {
     "data": {
      "image/png": "[encoded data removed]",
      "text/plain": [
       "<Figure size 432x288 with 1 Axes>"
      ]
     },
     "metadata": {
      "needs_background": "light",
      "tags": []
     },
     "output_type": "display_data"
    },
    {
     "data": {
      "image/png": "[encoded data removed]",
      "text/plain": [
       "<Figure size 432x288 with 1 Axes>"
      ]
     },
     "metadata": {
      "needs_background": "light",
      "tags": []
     },
     "output_type": "display_data"
    }
   ],
   "source": [
    "gbclf = GradientBoostingClassifier(\n",
    "    n_estimators=100, max_depth=3,\n",
    "    random_state=2001311200)\n",
    "\n",
    "# 훈련 및 평가, 결정경계 시각화\n",
    "gbclf.fit(x_train, y_train)\n",
    "print(gbclf.score(x_train, y_train))\n",
    "\n",
    "# 예측 및 평가, 결정경계 시각화\n",
    "pred = gbclf.predict(x_test)\n",
    "print(accuracy_score(pred, y_test))\n",
    "\n",
    "print(confusion_matrix(y_test, pred))\n",
    "\n",
    "print('정밀도', precision_score(pred, y_test, average='weighted'))\n",
    "print('재현율', recall_score(pred, y_test, average='weighted'))\n",
    "\n",
    "plot_decision_regions(x_train, y_train, gbclf)\n",
    "plt.show()\n",
    "\n",
    "plot_decision_regions(x_test, y_test, gbclf)\n",
    "plt.show()"
   ]
  },
  {
   "cell_type": "code",
   "execution_count": 93,
   "metadata": {
    "colab": {
     "base_uri": "https://localhost:8080/",
     "height": 72
    },
    "id": "cQfF40jEnGxs",
    "outputId": "6bc6c598-1aa3-4517-8808-8aad90a3cc9e"
   },
   "outputs": [
    {
     "name": "stdout",
     "output_type": "stream",
     "text": [
      "훈련정확도 0.9894736842105263\n",
      "[[466   0]\n",
      " [  5   4]]\n"
     ]
    }
   ],
   "source": [
    "gbclf = GradientBoostingClassifier(\n",
    "    n_estimators=100, max_depth=3,\n",
    "    random_state=2001311200)\n",
    "gbclf.fit(data, target)\n",
    "\n",
    "print('훈련정확도', gbclf.score(data, target))\n",
    "\n",
    "print(confusion_matrix(target, gbclf.predict(data)))"
   ]
  },
  {
   "cell_type": "code",
   "execution_count": 91,
   "metadata": {
    "colab": {
     "base_uri": "https://localhost:8080/",
     "height": 622
    },
    "id": "1IpcbhSbmZvA",
    "outputId": "1e9d5c3b-f9b5-4ea3-e6cc-53c03643d66a"
   },
   "outputs": [
    {
     "name": "stdout",
     "output_type": "stream",
     "text": [
      "0.9909638554216867\n",
      "0.986013986013986\n",
      "[[140   0]\n",
      " [  2   1]]\n",
      "정밀도 0.9953379953379954\n",
      "재현율 0.986013986013986\n"
     ]
    },
    {
     "data": {
      "image/png": "[encoded data removed]",
      "text/plain": [
       "<Figure size 432x288 with 1 Axes>"
      ]
     },
     "metadata": {
      "needs_background": "light",
      "tags": []
     },
     "output_type": "display_data"
    },
    {
     "data": {
      "image/png": "[encoded data removed]",
      "text/plain": [
       "<Figure size 432x288 with 1 Axes>"
      ]
     },
     "metadata": {
      "needs_background": "light",
      "tags": []
     },
     "output_type": "display_data"
    }
   ],
   "source": [
    "rfcf = RandomForestClassifier()\n",
    "\n",
    "# 훈련 및 평가, 결정경계 시각화\n",
    "rfcf.fit(x_train, y_train)\n",
    "print(rfcf.score(x_train, y_train))\n",
    "\n",
    "# 예측 및 평가, 결정경계 시각화\n",
    "pred = rfcf.predict(x_test)\n",
    "print(accuracy_score(pred, y_test))\n",
    "\n",
    "print(confusion_matrix(y_test, pred))\n",
    "\n",
    "print('정밀도', precision_score(pred, y_test, average='weighted'))\n",
    "print('재현율', recall_score(pred, y_test, average='weighted'))\n",
    "\n",
    "plot_decision_regions(x_train, y_train, rfcf)\n",
    "plt.show()\n",
    "\n",
    "plot_decision_regions(x_test, y_test, rfcf)\n",
    "plt.show()\n"
   ]
  },
  {
   "cell_type": "code",
   "execution_count": 94,
   "metadata": {
    "colab": {
     "base_uri": "https://localhost:8080/",
     "height": 72
    },
    "id": "1McRfWDNnNnr",
    "outputId": "c4b45a98-d72f-46b7-b8f2-7a69f933f94a"
   },
   "outputs": [
    {
     "name": "stdout",
     "output_type": "stream",
     "text": [
      "훈련정확도 0.9894736842105263\n",
      "[[466   0]\n",
      " [  5   4]]\n"
     ]
    }
   ],
   "source": [
    "rfcf = RandomForestClassifier()\n",
    "rfcf.fit(data, target)\n",
    "\n",
    "print('훈련정확도', rfcf.score(data, target))\n",
    "\n",
    "print(confusion_matrix(target, rfcf.predict(data)))"
   ]
  },
  {
   "cell_type": "code",
   "execution_count": 90,
   "metadata": {
    "colab": {
     "base_uri": "https://localhost:8080/",
     "height": 622
    },
    "id": "f64ry1Hjlq6X",
    "outputId": "1cf7c2bf-7742-47b5-b39d-3db1ed8d19a0"
   },
   "outputs": [
    {
     "name": "stdout",
     "output_type": "stream",
     "text": [
      "0.9879518072289156\n",
      "0.986013986013986\n",
      "[[140   0]\n",
      " [  2   1]]\n",
      "정밀도 0.9953379953379954\n",
      "재현율 0.986013986013986\n"
     ]
    },
    {
     "data": {
      "image/png": "[encoded data removed]",
      "text/plain": [
       "<Figure size 432x288 with 1 Axes>"
      ]
     },
     "metadata": {
      "needs_background": "light",
      "tags": []
     },
     "output_type": "display_data"
    },
    {
     "data": {
      "image/png": "[encoded data removed]",
      "text/plain": [
       "<Figure size 432x288 with 1 Axes>"
      ]
     },
     "metadata": {
      "needs_background": "light",
      "tags": []
     },
     "output_type": "display_data"
    }
   ],
   "source": [
    "from xgboost import XGBClassifier\n",
    "\n",
    "xgbclf = XGBClassifier(n_estimators=500,\n",
    "                       learning_rate=0.1, max_depth=3)\n",
    "xgbclf.fit(x_train, y_train)\n",
    "print(xgbclf.score(x_train, y_train))\n",
    "\n",
    "pred = xgbclf.predict(x_test)\n",
    "print(accuracy_score(pred, y_test))\n",
    "\n",
    "print(confusion_matrix(y_test, pred))\n",
    "\n",
    "print('정밀도', precision_score(pred, y_test, average='weighted'))\n",
    "print('재현율', recall_score(pred, y_test, average='weighted'))\n",
    "\n",
    "plot_decision_regions(x_train, y_train, xgbclf)\n",
    "plt.show()\n",
    "\n",
    "plot_decision_regions(x_test, y_test, xgbclf)\n",
    "plt.show()"
   ]
  },
  {
   "cell_type": "code",
   "execution_count": 95,
   "metadata": {
    "colab": {
     "base_uri": "https://localhost:8080/",
     "height": 72
    },
    "id": "Mb27EDarnZWA",
    "outputId": "c3ff8b23-3146-4f80-d5ab-198214b8053e"
   },
   "outputs": [
    {
     "name": "stdout",
     "output_type": "stream",
     "text": [
      "훈련정확도 0.9873684210526316\n",
      "[[466   0]\n",
      " [  6   3]]\n"
     ]
    }
   ],
   "source": [
    "xgbclf = XGBClassifier(n_estimators=500,\n",
    "                       learning_rate=0.1, max_depth=3)\n",
    "xgbclf.fit(data, target)\n",
    "\n",
    "print('훈련정확도', xgbclf.score(data, target))\n",
    "\n",
    "print(confusion_matrix(target, xgbclf.predict(data)))"
   ]
  },
  {
   "cell_type": "code",
   "execution_count": 103,
   "metadata": {
    "colab": {
     "base_uri": "https://localhost:8080/",
     "height": 90
    },
    "id": "XbSxe2HKl3Bz",
    "outputId": "7e0a751d-5685-4954-9ea5-4a7295338d57"
   },
   "outputs": [
    {
     "name": "stdout",
     "output_type": "stream",
     "text": [
      "훈련 정확도 0.9819277108433735\n",
      "예측 정확도 0.9790209790209791\n"
     ]
    },
    {
     "data": {
      "text/plain": [
       "array([[140,   0],\n",
       "       [  3,   0]])"
      ]
     },
     "execution_count": 103,
     "metadata": {
      "tags": []
     },
     "output_type": "execute_result"
    }
   ],
   "source": [
    "# SVM 분석\n",
    "\n",
    "from sklearn.svm import SVC\n",
    "\n",
    "svcl = SVC(kernel='linear', C=1E10, random_state=0)\n",
    "svcl.fit(x_train, y_train)\n",
    "pred = svcl.predict(x_test)\n",
    "\n",
    "# 분석결과 평가\n",
    "print('훈련 정확도', svc.score(x_train, y_train))\n",
    "print('예측 정확도', accuracy_score(y_test, pred))\n",
    "\n",
    "confusion_matrix(y_test, pred)\n"
   ]
  },
  {
   "cell_type": "code",
   "execution_count": 104,
   "metadata": {
    "colab": {
     "base_uri": "https://localhost:8080/",
     "height": 605
    },
    "id": "Mau1u6bzoJxb",
    "outputId": "e575db59-42c1-4429-ba53-d06d5b4a5abd"
   },
   "outputs": [
    {
     "name": "stdout",
     "output_type": "stream",
     "text": [
      "정밀도 1.0\n",
      "재현율 0.9790209790209791\n"
     ]
    },
    {
     "name": "stderr",
     "output_type": "stream",
     "text": [
      "/usr/local/lib/python3.6/dist-packages/sklearn/metrics/_classification.py:1272: UndefinedMetricWarning: Recall is ill-defined and being set to 0.0 in labels with no true samples. Use `zero_division` parameter to control this behavior.\n",
      "  _warn_prf(average, modifier, msg_start, len(result))\n"
     ]
    },
    {
     "data": {
      "image/png": "[encoded data removed]",
      "text/plain": [
       "<Figure size 432x288 with 1 Axes>"
      ]
     },
     "metadata": {
      "needs_background": "light",
      "tags": []
     },
     "output_type": "display_data"
    },
    {
     "data": {
      "image/png": "[encoded data removed]",
      "text/plain": [
       "<Figure size 432x288 with 1 Axes>"
      ]
     },
     "metadata": {
      "needs_background": "light",
      "tags": []
     },
     "output_type": "display_data"
    }
   ],
   "source": [
    "print('정밀도', precision_score(pred, y_test, average='weighted'))\n",
    "print('재현율', recall_score(pred, y_test, average='weighted'))\n",
    "\n",
    "plot_decision_regions(x_train, y_train, svcl)\n",
    "plt.show()\n",
    "\n",
    "plot_decision_regions(x_test, y_test, svcl)\n",
    "plt.show()"
   ]
  },
  {
   "cell_type": "code",
   "execution_count": 105,
   "metadata": {
    "colab": {
     "base_uri": "https://localhost:8080/",
     "height": 72
    },
    "id": "VnufZMS0oVP6",
    "outputId": "05b8ac39-ac5d-4618-a6a3-858063be992e"
   },
   "outputs": [
    {
     "name": "stdout",
     "output_type": "stream",
     "text": [
      "훈련정확도 0.9810526315789474\n",
      "[[466   0]\n",
      " [  9   0]]\n"
     ]
    }
   ],
   "source": [
    "svcl = SVC(kernel='linear', C=1E10, random_state=0)\n",
    "svcl.fit(data, target)\n",
    "\n",
    "print('훈련정확도', svcl.score(data, target))\n",
    "\n",
    "print(confusion_matrix(target, svcl.predict(data)))"
   ]
  },
  {
   "cell_type": "code",
   "execution_count": 126,
   "metadata": {
    "colab": {
     "base_uri": "https://localhost:8080/",
     "height": 90
    },
    "id": "iRDdg7Pwoalu",
    "outputId": "17900a93-8133-4e36-9022-2b73d3cf37ad"
   },
   "outputs": [
    {
     "name": "stdout",
     "output_type": "stream",
     "text": [
      "훈련 정확도 0.9879518072289156\n",
      "예측 정확도 0.986013986013986\n"
     ]
    },
    {
     "data": {
      "text/plain": [
       "array([[140,   0],\n",
       "       [  2,   1]])"
      ]
     },
     "execution_count": 126,
     "metadata": {
      "tags": []
     },
     "output_type": "execute_result"
    }
   ],
   "source": [
    "svcrb = SVC(kernel='rbf', C=1E5, random_state=0)\n",
    "svcrb.fit(x_train, y_train)\n",
    "pred = svcrb.predict(x_test)\n",
    "\n",
    "# 분석결과 평가\n",
    "print('훈련 정확도', svcrb.score(x_train, y_train))\n",
    "print('예측 정확도', accuracy_score(y_test, pred))\n",
    "\n",
    "confusion_matrix(y_test, pred)"
   ]
  },
  {
   "cell_type": "code",
   "execution_count": 127,
   "metadata": {
    "colab": {
     "base_uri": "https://localhost:8080/",
     "height": 549
    },
    "id": "kabLduZaoxLA",
    "outputId": "26685b68-9e34-4499-a8a7-cb0afdd3f0b9"
   },
   "outputs": [
    {
     "name": "stdout",
     "output_type": "stream",
     "text": [
      "정밀도 0.9953379953379954\n",
      "재현율 0.986013986013986\n"
     ]
    },
    {
     "data": {
      "image/png": "[encoded data removed]",
      "text/plain": [
       "<Figure size 432x288 with 1 Axes>"
      ]
     },
     "metadata": {
      "needs_background": "light",
      "tags": []
     },
     "output_type": "display_data"
    },
    {
     "data": {
      "image/png": "[encoded data removed]",
      "text/plain": [
       "<Figure size 432x288 with 1 Axes>"
      ]
     },
     "metadata": {
      "needs_background": "light",
      "tags": []
     },
     "output_type": "display_data"
    }
   ],
   "source": [
    "print('정밀도', precision_score(pred, y_test, average='weighted'))\n",
    "print('재현율', recall_score(pred, y_test, average='weighted'))\n",
    "\n",
    "plot_decision_regions(x_train, y_train, svcrb)\n",
    "plt.show()\n",
    "\n",
    "plot_decision_regions(x_test, y_test, svcrb)\n",
    "plt.show()"
   ]
  },
  {
   "cell_type": "code",
   "execution_count": 128,
   "metadata": {
    "colab": {
     "base_uri": "https://localhost:8080/",
     "height": 72
    },
    "id": "BkQQhrSYpuR8",
    "outputId": "8e472335-8b26-4671-d5e4-edecf799cc2d"
   },
   "outputs": [
    {
     "name": "stdout",
     "output_type": "stream",
     "text": [
      "훈련정확도 0.9873684210526316\n",
      "[[466   0]\n",
      " [  6   3]]\n"
     ]
    }
   ],
   "source": [
    "svcrb = SVC(kernel='rbf', C=1E5, random_state=0)\n",
    "svcrb.fit(data, target)\n",
    "\n",
    "print('훈련정확도', svcrb.score(data, target))\n",
    "\n",
    "print(confusion_matrix(target, svcrb.predict(data)))"
   ]
  },
  {
   "cell_type": "code",
   "execution_count": 194,
   "metadata": {
    "colab": {
     "base_uri": "https://localhost:8080/",
     "height": 90
    },
    "id": "Z79xCGvGr8HI",
    "outputId": "abcede15-c09a-4ca8-fd25-237617677e3d"
   },
   "outputs": [
    {
     "name": "stdout",
     "output_type": "stream",
     "text": [
      "훈련 정확도 0.9879518072289156\n",
      "예측 정확도 0.986013986013986\n"
     ]
    },
    {
     "data": {
      "text/plain": [
       "array([[140,   0],\n",
       "       [  2,   1]])"
      ]
     },
     "execution_count": 194,
     "metadata": {
      "tags": []
     },
     "output_type": "execute_result"
    }
   ],
   "source": [
    "# 신경망\n",
    "\n",
    "from sklearn.neural_network import MLPClassifier\n",
    "\n",
    "mlp = MLPClassifier(solver='lbfgs', random_state=0, hidden_layer_sizes=[15, 50])\n",
    "# mlp = MLPClassifier(solver='adam', activation='relu', hidden_layer_sizes=[50])\n",
    "mlp.fit(x_train, y_train)\n",
    "\n",
    "pred = mlp.predict(x_test)\n",
    "\n",
    "# 분석결과 평가\n",
    "print('훈련 정확도', mlp.score(x_train, y_train))\n",
    "print('예측 정확도', accuracy_score(y_test, pred))\n",
    "\n",
    "confusion_matrix(y_test, pred)\n"
   ]
  },
  {
   "cell_type": "code",
   "execution_count": 190,
   "metadata": {
    "colab": {
     "base_uri": "https://localhost:8080/",
     "height": 549
    },
    "id": "DRSjfp4dsQZf",
    "outputId": "8ed5a2fc-dbcf-49f9-d837-bd20caf188d9"
   },
   "outputs": [
    {
     "name": "stdout",
     "output_type": "stream",
     "text": [
      "정밀도 0.9953379953379954\n",
      "재현율 0.986013986013986\n"
     ]
    },
    {
     "data": {
      "image/png": "[encoded data removed]",
      "text/plain": [
       "<Figure size 432x288 with 1 Axes>"
      ]
     },
     "metadata": {
      "needs_background": "light",
      "tags": []
     },
     "output_type": "display_data"
    },
    {
     "data": {
      "image/png": "[encoded data removed]",
      "text/plain": [
       "<Figure size 432x288 with 1 Axes>"
      ]
     },
     "metadata": {
      "needs_background": "light",
      "tags": []
     },
     "output_type": "display_data"
    }
   ],
   "source": [
    "print('정밀도', precision_score(pred, y_test, average='weighted'))\n",
    "print('재현율', recall_score(pred, y_test, average='weighted'))\n",
    "\n",
    "plot_decision_regions(x_train, y_train, mlp)\n",
    "plt.show()\n",
    "\n",
    "plot_decision_regions(x_test, y_test, mlp)\n",
    "plt.show()"
   ]
  },
  {
   "cell_type": "code",
   "execution_count": 196,
   "metadata": {
    "colab": {
     "base_uri": "https://localhost:8080/",
     "height": 319
    },
    "id": "zAQx9EymsiV0",
    "outputId": "3519de7e-b59e-45b1-af56-1a0a11e7fdd2"
   },
   "outputs": [
    {
     "name": "stdout",
     "output_type": "stream",
     "text": [
      "훈련정확도 0.9831578947368421\n",
      "[[459   7]\n",
      " [  1   8]]\n"
     ]
    },
    {
     "data": {
      "image/png": "[encoded data removed]",
      "text/plain": [
       "<Figure size 432x288 with 1 Axes>"
      ]
     },
     "metadata": {
      "needs_background": "light",
      "tags": []
     },
     "output_type": "display_data"
    }
   ],
   "source": [
    "mlp = MLPClassifier(solver='lbfgs', random_state=0, hidden_layer_sizes=[5,10])\n",
    "mlp.fit(data, target)\n",
    "\n",
    "print('훈련정확도', mlp.score(data, target))\n",
    "\n",
    "print(confusion_matrix(target, mlp.predict(data)))\n",
    "\n",
    "plot_decision_regions(data, target, mlp)\n",
    "plt.show()"
   ]
  }
 ],
 "metadata": {
  "colab": {
   "collapsed_sections": [],
   "name": "KBO 분석1.ipynb",
   "provenance": []
  },
  "kernelspec": {
   "display_name": "Python 3",
   "language": "python",
   "name": "python3"
  },
  "language_info": {
   "codemirror_mode": {
    "name": "ipython",
    "version": 3
   },
   "file_extension": ".py",
   "mimetype": "text/x-python",
   "name": "python",
   "nbconvert_exporter": "python",
   "pygments_lexer": "ipython3",
   "version": "3.7.6"
  }
 },
 "nbformat": 4,
 "nbformat_minor": 1
}
