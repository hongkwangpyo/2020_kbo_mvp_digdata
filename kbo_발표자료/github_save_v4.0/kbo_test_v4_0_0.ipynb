{
 "cells": [
  {
   "cell_type": "code",
   "execution_count": 1,
   "metadata": {},
   "outputs": [],
   "source": [
    "import pymysql\n",
    "import pandas as pd\n",
    "import numpy as np\n",
    "import matplotlib.pyplot as plt\n",
    "import seaborn as sns\n",
    "from sklearn.ensemble import RandomForestClassifier\n",
    "from sklearn.tree import DecisionTreeClassifier\n",
    "from sklearn.preprocessing import MinMaxScaler\n",
    "#import plotly.graph_objs as go\n",
    "#import plotly.offline as py"
   ]
  },
  {
   "cell_type": "code",
   "execution_count": 2,
   "metadata": {
    "jupyter": {
     "source_hidden": true
    }
   },
   "outputs": [],
   "source": [
    "# matplotlib 한글 출력..\n",
    "import matplotlib as mpl\n",
    "import matplotlib.font_manager as fm\n",
    "mpl.rcParams['axes.unicode_minus'] = False\n",
    "path = 'C:/Windows/Fonts/malgun.ttf'  # 내가 원하는 폰트로 따로 설정이 가능\n",
    "font_name = fm.FontProperties(fname=path, size=50).get_name()\n",
    "plt.rc('font', family=font_name)"
   ]
  },
  {
   "cell_type": "code",
   "execution_count": 3,
   "metadata": {},
   "outputs": [],
   "source": [
    "# MySQL Connection 연결\n",
    "def player_name_call():\n",
    "    conn = pymysql.connect(host='49.247.132.235', user='kbo_db', password='1234', db='kbo_data_db', charset='utf8')\n",
    "    # Connection 으로부터 Cursor 생성\n",
    "    curs = conn.cursor()\n",
    "    sql = '''select * from kbo_pitcher_player \n",
    "            union all\n",
    "            select * from kbo_hitter_player;'''   \n",
    "    curs.execute(sql)\n",
    "    rows = curs.fetchall()\n",
    "    df_player_name = pd.DataFrame(rows)\n",
    "    conn.close()\n",
    "    df_player_name.columns = ['player_id', 'player_name']\n",
    "    return df_player_name"
   ]
  },
  {
   "cell_type": "code",
   "execution_count": 4,
   "metadata": {},
   "outputs": [],
   "source": [
    "def MinMax_Scaler(df_scaler):\n",
    "    scaler = MinMaxScaler()\n",
    "    list_scaler_name = df_scaler['player_name'].values\n",
    "    \n",
    "    if 'mvp' in df_scaler.columns:\n",
    "        list_scaler_mvp = df_scaler['mvp'].values\n",
    "        df_scaler = df_scaler.drop(['player_name', 'mvp'], axis=1)\n",
    "        df_scaler[df_scaler.columns] = scaler.fit_transform(df_scaler[df_scaler.columns])\n",
    "        df_scaler['mvp'] = list_scaler_mvp\n",
    "    else:       \n",
    "        df_scaler = df_scaler.drop('player_name', axis=1)        \n",
    "        df_scaler[df_scaler.columns] = scaler.fit_transform(df_scaler[df_scaler.columns])\n",
    "        \n",
    "    df_scaler['player_name'] = list_scaler_name\n",
    "    \n",
    "    return df_scaler"
   ]
  },
  {
   "cell_type": "code",
   "execution_count": 5,
   "metadata": {},
   "outputs": [],
   "source": [
    "def hit_pit_sum (df_total_hit_m, df_total_pit_m):\n",
    "    df_total_hit_m.columns = ['player_id', 'player_year', 'player_team', 'player_AVG', 'player_G', 'player_PA', 'player_AB', 'player_RH', 'player_HH',\n",
    "       'player_2B', 'player_3B', 'player_HRH', 'player_TB', 'player_RBI', 'player_SB', 'player_CS', 'player_BBH', \n",
    "       'player_HBPH', 'player_SOH', 'player_GDP', 'player_SLG', 'player_OBP', 'player_E']\n",
    "    df_total_pit_m.columns = ['player_id', 'player_year', 'player_team', 'player_ERA', 'player_G', 'player_CG', 'player_SHO', 'player_W', 'player_L', \n",
    "       'player_SV', 'player_HLD', 'player_WPCT', 'player_TBF', 'player_IP', 'player_HP', 'player_HRP', 'player_BBP',\n",
    "       'player_HBPP', 'player_SOP', 'player_RP', 'player_ER']\n",
    "    df_sum_player = pd.merge(df_total_hit_m, df_total_pit_m, how='outer')\n",
    "\n",
    "    df_player_name = player_name_call()\n",
    "    df_sum_player = pd.merge(df_sum_player, df_player_name, on = 'player_id', how = 'left')\n",
    "    df_sum_player = df_sum_player.fillna('0')\n",
    "\n",
    "    df_team_rank = pd.read_excel('./data/team_win.xlsx', index_col=0)\n",
    "    team_year_rank = df_team_rank[df_team_rank[0] == int(df_total_hit_m.player_year[0])]\n",
    "    df_sum_player['player_team'] = df_sum_player['player_team'].apply(lambda x: team_year_rank[1][x == team_year_rank[2]].values[0])\n",
    "    df_sum_player = df_sum_player.drop(['player_id', 'player_year'], axis=1)\n",
    "    df_sum_player = df_sum_player.apply(lambda x: x.replace('-','0'))\n",
    "    df_sum_player['player_IP'] = df_sum_player['player_IP'].apply(lambda x: x.replace(' 1/3', '.3') if(' 1/3' in x) else (x.replace(' 2/3', '.6') if(' 2/3' in x) else x))\n",
    "    df_sum_player['player_IP'] = df_sum_player['player_IP'].apply(lambda x: x.replace('1/3', '0.3') if('1/3' in x) else (x.replace('2/3', '0.6') if('2/3' in x) else x))\n",
    "\n",
    "    for i in df_sum_player.columns:\n",
    "        if not i in ['player_name']:\n",
    "            df_sum_player[i] = df_sum_player[i].apply(lambda x: float(x))\n",
    "    df_sum_player = MinMax_Scaler(df_sum_player)\n",
    "\n",
    "    if df_total_hit_m.player_year[0] != 2020:\n",
    "        df_mvp_list = pd.read_excel('./data/mvp_list.xlsx', index_col=0)\n",
    "        df_sum_player['mvp'] = df_sum_player['player_name'].apply(lambda x: 1 if (df_mvp_list.player_name[int(df_total_hit_m.player_year[0])] == x) else 0)\n",
    "    return df_sum_player"
   ]
  },
  {
   "cell_type": "code",
   "execution_count": 6,
   "metadata": {},
   "outputs": [],
   "source": [
    "def make_team_df(data_year):\n",
    "    conn = pymysql.connect(host='49.247.132.235', user='kbo_db', password='1234', db='kbo_data_db', charset='utf8')\n",
    "    curs = conn.cursor()\n",
    "    sql = '''SELECT * from kbo_hitter_total_status where player_year = {};'''.format(data_year)   \n",
    "    curs.execute(sql)\n",
    "    rows = curs.fetchall()\n",
    "    df_year_hit = pd.DataFrame(rows)\n",
    "\n",
    "    curs = conn.cursor()\n",
    "    sql = '''SELECT * from kbo_pitcher_total_status where player_year = {};'''.format(data_year)    \n",
    "    curs.execute(sql)\n",
    "    rows = curs.fetchall()\n",
    "    df_year_pit = pd.DataFrame(rows)\n",
    "    conn.close()\n",
    "    df_year_player = hit_pit_sum(df_year_hit, df_year_pit)\n",
    "    return df_year_player"
   ]
  },
  {
   "cell_type": "code",
   "execution_count": 7,
   "metadata": {},
   "outputs": [],
   "source": [
    "def df_train_data (data_year):\n",
    "    df_train_player = pd.DataFrame()\n",
    "    for i in range(2010, 2020):\n",
    "        if i != data_year:\n",
    "            df_year_player = make_team_df(i)\n",
    "            df_train_player = pd.concat([df_train_player, df_year_player])\n",
    "    df_test_player = make_team_df(data_year)\n",
    "    return df_train_player, df_test_player"
   ]
  },
  {
   "cell_type": "code",
   "execution_count": 9,
   "metadata": {},
   "outputs": [],
   "source": [
    "df_trian_2019, df_test_2019 = df_train_data(2019)"
   ]
  },
  {
   "cell_type": "code",
   "execution_count": null,
   "metadata": {},
   "outputs": [],
   "source": []
  }
 ],
 "metadata": {
  "kernelspec": {
   "display_name": "Python 3",
   "language": "python",
   "name": "python3"
  },
  "language_info": {
   "codemirror_mode": {
    "name": "ipython",
    "version": 3
   },
   "file_extension": ".py",
   "mimetype": "text/x-python",
   "name": "python",
   "nbconvert_exporter": "python",
   "pygments_lexer": "ipython3",
   "version": "3.7.6"
  },
  "toc": {
   "base_numbering": 1,
   "nav_menu": {},
   "number_sections": true,
   "sideBar": true,
   "skip_h1_title": false,
   "title_cell": "Table of Contents",
   "title_sidebar": "Contents",
   "toc_cell": false,
   "toc_position": {},
   "toc_section_display": true,
   "toc_window_display": false
  },
  "varInspector": {
   "cols": {
    "lenName": 16,
    "lenType": 16,
    "lenVar": 40
   },
   "kernels_config": {
    "python": {
     "delete_cmd_postfix": "",
     "delete_cmd_prefix": "del ",
     "library": "var_list.py",
     "varRefreshCmd": "print(var_dic_list())"
    },
    "r": {
     "delete_cmd_postfix": ") ",
     "delete_cmd_prefix": "rm(",
     "library": "var_list.r",
     "varRefreshCmd": "cat(var_dic_list()) "
    }
   },
   "types_to_exclude": [
    "module",
    "function",
    "builtin_function_or_method",
    "instance",
    "_Feature"
   ],
   "window_display": false
  }
 },
 "nbformat": 4,
 "nbformat_minor": 4
}
