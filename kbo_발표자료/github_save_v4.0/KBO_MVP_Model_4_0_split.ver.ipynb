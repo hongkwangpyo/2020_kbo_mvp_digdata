{
 "cells": [
  {
   "cell_type": "code",
   "execution_count": 2,
   "metadata": {
    "colab": {
     "base_uri": "https://localhost:8080/",
     "height": 35
    },
    "colab_type": "code",
    "collapsed": true,
    "executionInfo": {
     "elapsed": 4485,
     "status": "ok",
     "timestamp": 1597737241844,
     "user": {
      "displayName": "윤석빈",
      "photoUrl": "",
      "userId": "00951895410814434245"
     },
     "user_tz": -540
    },
    "id": "CAlVr-DJcCiV",
    "jupyter": {
     "outputs_hidden": true
    },
    "outputId": "4b093547-0eed-4398-a9bc-e7224d1672bb"
   },
   "outputs": [
    {
     "name": "stdout",
     "output_type": "stream",
     "text": [
      "Requirement already satisfied: pymysql in /usr/local/lib/python3.6/dist-packages (0.10.0)\n"
     ]
    }
   ],
   "source": [
    "!pip install pymysql"
   ]
  },
  {
   "cell_type": "code",
   "execution_count": 3,
   "metadata": {
    "colab": {
     "base_uri": "https://localhost:8080/",
     "height": 53
    },
    "colab_type": "code",
    "executionInfo": {
     "elapsed": 3299,
     "status": "ok",
     "timestamp": 1597737244010,
     "user": {
      "displayName": "윤석빈",
      "photoUrl": "",
      "userId": "00951895410814434245"
     },
     "user_tz": -540
    },
    "id": "OaEDT0tOcImX",
    "outputId": "4ffde112-f280-402b-9c2b-0614f2d5013a"
   },
   "outputs": [
    {
     "name": "stderr",
     "output_type": "stream",
     "text": [
      "/usr/local/lib/python3.6/dist-packages/statsmodels/tools/_testing.py:19: FutureWarning: pandas.util.testing is deprecated. Use the functions in the public API at pandas.testing instead.\n",
      "  import pandas.util.testing as tm\n"
     ]
    }
   ],
   "source": [
    "import matplotlib.pyplot as plt\n",
    "import numpy as np\n",
    "import pandas as pd\n",
    "import pymysql\n",
    "from keras.layers import *\n",
    "from keras.models import *\n",
    "from keras.utils import *\n",
    "from collections import Counter\n",
    "\n",
    "from sklearn.preprocessing import *\n",
    "\n",
    "import seaborn as sns"
   ]
  },
  {
   "cell_type": "code",
   "execution_count": 4,
   "metadata": {
    "colab": {
     "base_uri": "https://localhost:8080/",
     "height": 127
    },
    "colab_type": "code",
    "collapsed": true,
    "executionInfo": {
     "elapsed": 34892,
     "status": "ok",
     "timestamp": 1597737276496,
     "user": {
      "displayName": "윤석빈",
      "photoUrl": "",
      "userId": "00951895410814434245"
     },
     "user_tz": -540
    },
    "id": "BDipO0NZcQRG",
    "jupyter": {
     "outputs_hidden": true
    },
    "outputId": "0f318e4f-d295-49c7-df90-aed3889a08b3"
   },
   "outputs": [
    {
     "name": "stdout",
     "output_type": "stream",
     "text": [
      "Go to this URL in a browser: https://accounts.google.com/o/oauth2/auth?client_id=947318989803-6bn6qk8qdgf4n4g3pfee6491hc0brc4i.apps.googleusercontent.com&redirect_uri=urn%3aietf%3awg%3aoauth%3a2.0%3aoob&scope=email%20https%3a%2f%2fwww.googleapis.com%2fauth%2fdocs.test%20https%3a%2f%2fwww.googleapis.com%2fauth%2fdrive%20https%3a%2f%2fwww.googleapis.com%2fauth%2fdrive.photos.readonly%20https%3a%2f%2fwww.googleapis.com%2fauth%2fpeopleapi.readonly&response_type=code\n",
      "\n",
      "Enter your authorization code:\n",
      "··········\n",
      "Mounted at /content/gdrive\n"
     ]
    }
   ],
   "source": [
    "from google.colab import auth\n",
    "auth.authenticate_user()\n",
    "\n",
    "from google.colab import drive\n",
    "drive.mount('/content/gdrive')"
   ]
  },
  {
   "cell_type": "code",
   "execution_count": 40,
   "metadata": {
    "colab": {},
    "colab_type": "code",
    "executionInfo": {
     "elapsed": 1058,
     "status": "ok",
     "timestamp": 1597738260618,
     "user": {
      "displayName": "윤석빈",
      "photoUrl": "",
      "userId": "00951895410814434245"
     },
     "user_tz": -540
    },
    "id": "QtLHkocAcRje"
   },
   "outputs": [],
   "source": [
    "df_team_rank = pd.read_excel('/content/gdrive/My Drive/Colab Notebooks/KBO_Project/data/team_win.xlsx', index_col=0)\n",
    "df_2020_hit = pd.read_excel('/content/gdrive/My Drive/Colab Notebooks/KBO_Project/data/kbo_hitter_today_20200722.xlsx', index_col=0)\n",
    "df_2020_pit = pd.read_excel('/content/gdrive/My Drive/Colab Notebooks/KBO_Project/data/kbo_pitcher_today_20200722.xlsx', index_col=0)\n",
    "df_2019_hit = pd.read_excel('/content/gdrive/My Drive/Colab Notebooks/KBO_Project/data/2010-2019_타자.xlsx', index_col=0)\n",
    "df_2019_pit = pd.read_excel('/content/gdrive/My Drive/Colab Notebooks/KBO_Project/data/2010-2019_투수.xlsx', index_col=0)\n",
    "df_2020_hit.reset_index(drop=True, inplace=True)\n",
    "df_2020_pit.reset_index(drop=True, inplace=True)"
   ]
  },
  {
   "cell_type": "code",
   "execution_count": 41,
   "metadata": {
    "colab": {},
    "colab_type": "code",
    "executionInfo": {
     "elapsed": 1958,
     "status": "ok",
     "timestamp": 1597738263086,
     "user": {
      "displayName": "윤석빈",
      "photoUrl": "",
      "userId": "00951895410814434245"
     },
     "user_tz": -540
    },
    "id": "ejUGjupjeqqw",
    "jupyter": {
     "source_hidden": true
    }
   },
   "outputs": [],
   "source": [
    "# MySQL Connection 연결\n",
    "conn = pymysql.connect(host='49.247.132.235', user='kbo_db', password='1234', db='kbo_data_db', charset='utf8')\n",
    "# Connection 으로부터 Cursor 생성\n",
    "curs = conn.cursor()\n",
    "sql = '''SELECT * from kbo_pitcher_player;'''   \n",
    "curs.execute(sql)\n",
    "rows = curs.fetchall()\n",
    "df_pit_name = pd.DataFrame(rows)\n",
    "sql = '''SELECT * from kbo_hitter_player;'''   \n",
    "curs.execute(sql)\n",
    "rows = curs.fetchall()\n",
    "df_hit_name = pd.DataFrame(rows)\n",
    "conn.close()"
   ]
  },
  {
   "cell_type": "markdown",
   "metadata": {
    "colab_type": "text",
    "id": "K3QGo3uD34Ap"
   },
   "source": [
    "# Data Preprocessing"
   ]
  },
  {
   "cell_type": "code",
   "execution_count": 42,
   "metadata": {
    "colab": {},
    "colab_type": "code",
    "executionInfo": {
     "elapsed": 717,
     "status": "ok",
     "timestamp": 1597738265009,
     "user": {
      "displayName": "윤석빈",
      "photoUrl": "",
      "userId": "00951895410814434245"
     },
     "user_tz": -540
    },
    "id": "eoIf3lIwiOyQ"
   },
   "outputs": [],
   "source": [
    "df_hit_name.columns=['player_id', 'player_name']\n",
    "df_2020_hit_m = pd.merge(df_2020_hit, df_hit_name, on ='player_id', how = 'left')\n",
    "df_2020_hit_m = df_2020_hit_m.dropna()\n",
    "team_year_rank = df_team_rank[df_team_rank[0] == 2020]\n",
    "df_2020_hit_m['player_team'] = df_2020_hit_m['player_team'].apply(lambda x: team_year_rank[1][x == team_year_rank[2]].values[0])\n",
    "df_2020_hit_m['player_team'] = df_2020_hit_m['player_team'].apply(lambda x: 11-x)\n",
    "df_2020_hit_m = df_2020_hit_m.drop(['player_id', 'player_year'], axis=1)\n",
    "df_2020_hit_m = df_2020_hit_m.apply(lambda x: x.replace('-','0'))"
   ]
  },
  {
   "cell_type": "code",
   "execution_count": 43,
   "metadata": {
    "colab": {},
    "colab_type": "code",
    "executionInfo": {
     "elapsed": 839,
     "status": "ok",
     "timestamp": 1597738266417,
     "user": {
      "displayName": "윤석빈",
      "photoUrl": "",
      "userId": "00951895410814434245"
     },
     "user_tz": -540
    },
    "id": "e84j4IPBimMX"
   },
   "outputs": [],
   "source": [
    "df_pit_name.columns=['player_id', 'player_name']\n",
    "df_2020_pit_m = pd.merge(df_2020_pit, df_pit_name, on = 'player_id', how = 'left')\n",
    "df_2020_pit_m = df_2020_pit_m.dropna()\n",
    "df_2020_pit_m['player_team'] = df_2020_pit_m['player_team'].apply(lambda x: team_year_rank[1][x == team_year_rank[2]].values[0])\n",
    "df_2020_pit_m['player_team'] = df_2020_pit_m['player_team'].apply(lambda x: 11-x)\n",
    "df_2020_pit_m = df_2020_pit_m.drop(['player_id', 'player_year'], axis=1)\n",
    "df_2020_pit_m['player_IP'] = df_2020_pit_m['player_IP'].apply(lambda x: x.replace('1/3', '.3') if('1/3' in x) else (x.replace('2/3', '.6') if('2/3' in x) else x))\n",
    "df_2020_pit_m['player_IP'] = df_2020_pit_m['player_IP'].apply(lambda x: x.replace(' ',''))\n",
    "df_2020_pit_m = df_2020_pit_m.apply(lambda x: x.replace('-','0')) "
   ]
  },
  {
   "cell_type": "code",
   "execution_count": 44,
   "metadata": {
    "colab": {},
    "colab_type": "code",
    "executionInfo": {
     "elapsed": 827,
     "status": "ok",
     "timestamp": 1597738269463,
     "user": {
      "displayName": "윤석빈",
      "photoUrl": "",
      "userId": "00951895410814434245"
     },
     "user_tz": -540
    },
    "id": "NxiVjYL_kEv3"
   },
   "outputs": [],
   "source": [
    "###\n",
    "df_2019_hit.columns = ['player_team', 'player_AVG', 'player_G', 'player_PA', 'player_AB', 'player_RH', 'player_HH',\n",
    "       'player_2B', 'player_3B', 'player_HRH', 'player_TB', 'player_RBI', 'player_SB', 'player_CS', 'player_BBH', \n",
    "       'player_HBPH', 'player_SOH', 'player_GDP', 'player_SLG', 'player_OBP', 'player_E', 'player_name', 'mvp']\n",
    "df_2019_pit.columns = ['player_team', 'player_ERA', 'player_G', 'player_CG', 'player_SHO', 'player_W', 'player_L', \n",
    "       'player_SV', 'player_HLD', 'player_WPCT', 'player_TBF', 'player_IP', 'player_HP', 'player_HRP', 'player_BBP',\n",
    "       'player_HBPP', 'player_SOP', 'player_RP', 'player_ER', 'player_name', 'mvp']"
   ]
  },
  {
   "cell_type": "code",
   "execution_count": 50,
   "metadata": {
    "colab": {},
    "colab_type": "code",
    "executionInfo": {
     "elapsed": 791,
     "status": "ok",
     "timestamp": 1597738536083,
     "user": {
      "displayName": "윤석빈",
      "photoUrl": "",
      "userId": "00951895410814434245"
     },
     "user_tz": -540
    },
    "id": "VPCmRhMToVDm"
   },
   "outputs": [],
   "source": [
    "df_2020_hit_m.columns = ['player_team', 'player_AVG', 'player_G', 'player_PA', 'player_AB', 'player_RH', 'player_HH',\n",
    "       'player_2B', 'player_3B', 'player_HRH', 'player_TB', 'player_RBI', 'player_SB', 'player_CS', 'player_BBH', \n",
    "       'player_HBPH', 'player_SOH', 'player_GDP', 'player_SLG', 'player_OBP', 'player_E', 'player_name']\n",
    "df_2020_pit_m.columns = ['player_team', 'player_ERA', 'player_G', 'player_CG', 'player_SHO', 'player_W', 'player_L', \n",
    "       'player_SV', 'player_HLD', 'player_WPCT', 'player_TBF', 'player_IP', 'player_HP', 'player_HRP', 'player_BBP',\n",
    "       'player_HBPP', 'player_SOP', 'player_RP', 'player_ER', 'player_name']"
   ]
  },
  {
   "cell_type": "code",
   "execution_count": null,
   "metadata": {
    "colab": {},
    "colab_type": "code",
    "id": "P0UH37tmsqcq"
   },
   "outputs": [],
   "source": []
  },
  {
   "cell_type": "code",
   "execution_count": 51,
   "metadata": {
    "colab": {},
    "colab_type": "code",
    "executionInfo": {
     "elapsed": 894,
     "status": "ok",
     "timestamp": 1597738603467,
     "user": {
      "displayName": "윤석빈",
      "photoUrl": "",
      "userId": "00951895410814434245"
     },
     "user_tz": -540
    },
    "id": "Km5QcxDSvuFV"
   },
   "outputs": [],
   "source": [
    "for i in ['player_G', 'player_PA', 'player_AB',\n",
    "       'player_RH', 'player_HH', 'player_2B', 'player_3B', 'player_HRH',\n",
    "       'player_TB', 'player_RBI', 'player_SB', 'player_CS', 'player_BBH',\n",
    "       'player_HBPH', 'player_SOH', 'player_GDP', 'player_SLG', 'player_OBP',\n",
    "       'player_E']:\n",
    "    df_2020_hit_m[i] = df_2020_hit_m[i].apply(lambda x: float(x))"
   ]
  },
  {
   "cell_type": "code",
   "execution_count": 59,
   "metadata": {
    "colab": {},
    "colab_type": "code",
    "executionInfo": {
     "elapsed": 1019,
     "status": "ok",
     "timestamp": 1597739474326,
     "user": {
      "displayName": "윤석빈",
      "photoUrl": "",
      "userId": "00951895410814434245"
     },
     "user_tz": -540
    },
    "id": "xzZHKmnr2i-J"
   },
   "outputs": [],
   "source": [
    "for i in ['player_team', 'player_ERA', 'player_G', 'player_CG', 'player_SHO',\n",
    "       'player_W', 'player_L', 'player_SV', 'player_HLD', 'player_WPCT',\n",
    "       'player_TBF', 'player_IP', 'player_HP', 'player_HRP', 'player_BBP',\n",
    "       'player_HBPP', 'player_SOP', 'player_RP', 'player_ER']:\n",
    "    df_2020_pit_m[i] = df_2020_pit_m[i].apply(lambda x: float(x))\n",
    " #   df_2020_pit_m[i] = df_2020_pit_m[i].apply(lambda x: x*2)"
   ]
  },
  {
   "cell_type": "code",
   "execution_count": 67,
   "metadata": {
    "colab": {},
    "colab_type": "code",
    "executionInfo": {
     "elapsed": 897,
     "status": "ok",
     "timestamp": 1597740198868,
     "user": {
      "displayName": "윤석빈",
      "photoUrl": "",
      "userId": "00951895410814434245"
     },
     "user_tz": -540
    },
    "id": "whoY9jLPv1y1"
   },
   "outputs": [],
   "source": [
    "def MinMax_Scaler(df_scaler):\n",
    "    scaler = MinMaxScaler()\n",
    "    list_scaler_name = df_scaler['player_name'].values\n",
    "    \n",
    "    if 'mvp' in df_scaler.columns:\n",
    "        list_scaler_mvp = df_scaler['mvp'].values\n",
    "        df_scaler = df_scaler.drop(['player_name', 'mvp'], axis=1)\n",
    "        df_scaler[df_scaler.columns] = scaler.fit_transform(df_scaler[df_scaler.columns])\n",
    "        df_scaler['mvp'] = list_scaler_mvp\n",
    "    else:       \n",
    "        df_scaler = df_scaler.drop('player_name', axis=1)        \n",
    "        df_scaler[df_scaler.columns] = scaler.fit_transform(df_scaler[df_scaler.columns])\n",
    "        \n",
    "    df_scaler['player_name'] = list_scaler_name\n",
    "    \n",
    "    return df_scaler"
   ]
  },
  {
   "cell_type": "code",
   "execution_count": 69,
   "metadata": {
    "colab": {},
    "colab_type": "code",
    "executionInfo": {
     "elapsed": 763,
     "status": "ok",
     "timestamp": 1597740313837,
     "user": {
      "displayName": "윤석빈",
      "photoUrl": "",
      "userId": "00951895410814434245"
     },
     "user_tz": -540
    },
    "id": "jD4NFk7Vtwmq"
   },
   "outputs": [],
   "source": [
    "df_2020_hit_m = MinMax_Scaler(df_2020_hit_m)\n",
    "df_2020_pit_m = MinMax_Scaler(df_2020_pit_m)\n",
    "df_2019_hit = MinMax_Scaler(df_2019_hit)\n",
    "df_2019_pit = MinMax_Scaler(df_2019_pit)"
   ]
  },
  {
   "cell_type": "code",
   "execution_count": 70,
   "metadata": {
    "colab": {},
    "colab_type": "code",
    "executionInfo": {
     "elapsed": 1079,
     "status": "ok",
     "timestamp": 1597740356964,
     "user": {
      "displayName": "윤석빈",
      "photoUrl": "",
      "userId": "00951895410814434245"
     },
     "user_tz": -540
    },
    "id": "CK_A8rUvsQIV"
   },
   "outputs": [],
   "source": [
    "df_2019_player = pd.merge(df_2019_hit, df_2019_pit, how='outer')"
   ]
  },
  {
   "cell_type": "code",
   "execution_count": 72,
   "metadata": {
    "colab": {
     "base_uri": "https://localhost:8080/",
     "height": 863
    },
    "colab_type": "code",
    "collapsed": true,
    "executionInfo": {
     "elapsed": 1146,
     "status": "ok",
     "timestamp": 1597740369948,
     "user": {
      "displayName": "윤석빈",
      "photoUrl": "",
      "userId": "00951895410814434245"
     },
     "user_tz": -540
    },
    "id": "p2GTb47VvxDr",
    "jupyter": {
     "outputs_hidden": true
    },
    "outputId": "b6e1a04f-4875-4050-ce8f-278dbb949253"
   },
   "outputs": [
    {
     "name": "stdout",
     "output_type": "stream",
     "text": [
      "<class 'pandas.core.frame.DataFrame'>\n",
      "Int64Index: 2196 entries, 0 to 2195\n",
      "Data columns (total 40 columns):\n",
      " #   Column       Non-Null Count  Dtype  \n",
      "---  ------       --------------  -----  \n",
      " 0   player_team  2196 non-null   float64\n",
      " 1   player_AVG   1384 non-null   float64\n",
      " 2   player_G     2196 non-null   float64\n",
      " 3   player_PA    1384 non-null   float64\n",
      " 4   player_AB    1384 non-null   float64\n",
      " 5   player_RH    1384 non-null   float64\n",
      " 6   player_HH    1384 non-null   float64\n",
      " 7   player_2B    1384 non-null   float64\n",
      " 8   player_3B    1384 non-null   float64\n",
      " 9   player_HRH   1384 non-null   float64\n",
      " 10  player_TB    1384 non-null   float64\n",
      " 11  player_RBI   1384 non-null   float64\n",
      " 12  player_SB    1384 non-null   float64\n",
      " 13  player_CS    1384 non-null   float64\n",
      " 14  player_BBH   1384 non-null   float64\n",
      " 15  player_HBPH  1384 non-null   float64\n",
      " 16  player_SOH   1384 non-null   float64\n",
      " 17  player_GDP   1384 non-null   float64\n",
      " 18  player_SLG   1384 non-null   float64\n",
      " 19  player_OBP   1384 non-null   float64\n",
      " 20  player_E     1384 non-null   float64\n",
      " 21  mvp          2196 non-null   int64  \n",
      " 22  player_name  2196 non-null   object \n",
      " 23  player_ERA   812 non-null    float64\n",
      " 24  player_CG    812 non-null    float64\n",
      " 25  player_SHO   812 non-null    float64\n",
      " 26  player_W     812 non-null    float64\n",
      " 27  player_L     812 non-null    float64\n",
      " 28  player_SV    812 non-null    float64\n",
      " 29  player_HLD   812 non-null    float64\n",
      " 30  player_WPCT  812 non-null    float64\n",
      " 31  player_TBF   812 non-null    float64\n",
      " 32  player_IP    812 non-null    float64\n",
      " 33  player_HP    812 non-null    float64\n",
      " 34  player_HRP   812 non-null    float64\n",
      " 35  player_BBP   812 non-null    float64\n",
      " 36  player_HBPP  812 non-null    float64\n",
      " 37  player_SOP   812 non-null    float64\n",
      " 38  player_RP    812 non-null    float64\n",
      " 39  player_ER    812 non-null    float64\n",
      "dtypes: float64(38), int64(1), object(1)\n",
      "memory usage: 703.4+ KB\n"
     ]
    }
   ],
   "source": [
    "df_2019_player.info()"
   ]
  },
  {
   "cell_type": "code",
   "execution_count": 73,
   "metadata": {
    "colab": {},
    "colab_type": "code",
    "executionInfo": {
     "elapsed": 771,
     "status": "ok",
     "timestamp": 1597740438554,
     "user": {
      "displayName": "윤석빈",
      "photoUrl": "",
      "userId": "00951895410814434245"
     },
     "user_tz": -540
    },
    "id": "CaHmLLFdvygL"
   },
   "outputs": [],
   "source": [
    "df_2020_player = pd.merge(df_2020_hit_m, df_2020_pit_m, how='outer')"
   ]
  },
  {
   "cell_type": "code",
   "execution_count": 74,
   "metadata": {
    "colab": {
     "base_uri": "https://localhost:8080/",
     "height": 845
    },
    "colab_type": "code",
    "collapsed": true,
    "executionInfo": {
     "elapsed": 853,
     "status": "ok",
     "timestamp": 1597740450804,
     "user": {
      "displayName": "윤석빈",
      "photoUrl": "",
      "userId": "00951895410814434245"
     },
     "user_tz": -540
    },
    "id": "-5XOCB1EwE_D",
    "jupyter": {
     "outputs_hidden": true
    },
    "outputId": "94740268-0c8c-4b5d-be11-1e1eb79ebb86"
   },
   "outputs": [
    {
     "name": "stdout",
     "output_type": "stream",
     "text": [
      "<class 'pandas.core.frame.DataFrame'>\n",
      "Int64Index: 394 entries, 0 to 393\n",
      "Data columns (total 39 columns):\n",
      " #   Column       Non-Null Count  Dtype  \n",
      "---  ------       --------------  -----  \n",
      " 0   player_team  394 non-null    float64\n",
      " 1   player_AVG   218 non-null    float64\n",
      " 2   player_G     394 non-null    float64\n",
      " 3   player_PA    218 non-null    float64\n",
      " 4   player_AB    218 non-null    float64\n",
      " 5   player_RH    218 non-null    float64\n",
      " 6   player_HH    218 non-null    float64\n",
      " 7   player_2B    218 non-null    float64\n",
      " 8   player_3B    218 non-null    float64\n",
      " 9   player_HRH   218 non-null    float64\n",
      " 10  player_TB    218 non-null    float64\n",
      " 11  player_RBI   218 non-null    float64\n",
      " 12  player_SB    218 non-null    float64\n",
      " 13  player_CS    218 non-null    float64\n",
      " 14  player_BBH   218 non-null    float64\n",
      " 15  player_HBPH  218 non-null    float64\n",
      " 16  player_SOH   218 non-null    float64\n",
      " 17  player_GDP   218 non-null    float64\n",
      " 18  player_SLG   218 non-null    float64\n",
      " 19  player_OBP   218 non-null    float64\n",
      " 20  player_E     218 non-null    float64\n",
      " 21  player_name  394 non-null    object \n",
      " 22  player_ERA   176 non-null    float64\n",
      " 23  player_CG    176 non-null    float64\n",
      " 24  player_SHO   176 non-null    float64\n",
      " 25  player_W     176 non-null    float64\n",
      " 26  player_L     176 non-null    float64\n",
      " 27  player_SV    176 non-null    float64\n",
      " 28  player_HLD   176 non-null    float64\n",
      " 29  player_WPCT  176 non-null    float64\n",
      " 30  player_TBF   176 non-null    float64\n",
      " 31  player_IP    176 non-null    float64\n",
      " 32  player_HP    176 non-null    float64\n",
      " 33  player_HRP   176 non-null    float64\n",
      " 34  player_BBP   176 non-null    float64\n",
      " 35  player_HBPP  176 non-null    float64\n",
      " 36  player_SOP   176 non-null    float64\n",
      " 37  player_RP    176 non-null    float64\n",
      " 38  player_ER    176 non-null    float64\n",
      "dtypes: float64(38), object(1)\n",
      "memory usage: 123.1+ KB\n"
     ]
    }
   ],
   "source": [
    "df_2020_player.info()"
   ]
  },
  {
   "cell_type": "code",
   "execution_count": 79,
   "metadata": {
    "colab": {},
    "colab_type": "code",
    "executionInfo": {
     "elapsed": 1470,
     "status": "ok",
     "timestamp": 1597740654888,
     "user": {
      "displayName": "윤석빈",
      "photoUrl": "",
      "userId": "00951895410814434245"
     },
     "user_tz": -540
    },
    "id": "lkoomwhwwH8D"
   },
   "outputs": [],
   "source": [
    "df_2020_player = df_2020_player.fillna(0)"
   ]
  },
  {
   "cell_type": "code",
   "execution_count": 80,
   "metadata": {
    "colab": {},
    "colab_type": "code",
    "executionInfo": {
     "elapsed": 804,
     "status": "ok",
     "timestamp": 1597740665069,
     "user": {
      "displayName": "윤석빈",
      "photoUrl": "",
      "userId": "00951895410814434245"
     },
     "user_tz": -540
    },
    "id": "GudbxGfdwYDo"
   },
   "outputs": [],
   "source": [
    "df_2019_player = df_2019_player.fillna(0)"
   ]
  },
  {
   "cell_type": "code",
   "execution_count": 81,
   "metadata": {
    "colab": {},
    "colab_type": "code",
    "executionInfo": {
     "elapsed": 678,
     "status": "ok",
     "timestamp": 1597740813323,
     "user": {
      "displayName": "윤석빈",
      "photoUrl": "",
      "userId": "00951895410814434245"
     },
     "user_tz": -540
    },
    "id": "NQ_pI6xww8WL"
   },
   "outputs": [],
   "source": [
    "y = df_2019_player['mvp']\n",
    "x = df_2019_player.drop(['player_name', 'mvp'], axis=1)\n",
    "x_test = df_2020_player.drop('player_name', axis=1)"
   ]
  },
  {
   "cell_type": "code",
   "execution_count": 92,
   "metadata": {
    "colab": {
     "base_uri": "https://localhost:8080/",
     "height": 377
    },
    "colab_type": "code",
    "executionInfo": {
     "elapsed": 1177,
     "status": "ok",
     "timestamp": 1597741286315,
     "user": {
      "displayName": "윤석빈",
      "photoUrl": "",
      "userId": "00951895410814434245"
     },
     "user_tz": -540
    },
    "id": "xVhTAGT44zb4",
    "outputId": "cb7887eb-2ea2-4e84-8fe5-ecd3b514509a"
   },
   "outputs": [
    {
     "name": "stdout",
     "output_type": "stream",
     "text": [
      "Model: \"sequential_1\"\n",
      "_________________________________________________________________\n",
      "Layer (type)                 Output Shape              Param #   \n",
      "=================================================================\n",
      "dense_6 (Dense)              (None, 512)               19968     \n",
      "_________________________________________________________________\n",
      "dense_7 (Dense)              (None, 256)               131328    \n",
      "_________________________________________________________________\n",
      "dense_8 (Dense)              (None, 128)               32896     \n",
      "_________________________________________________________________\n",
      "dense_9 (Dense)              (None, 64)                8256      \n",
      "_________________________________________________________________\n",
      "dense_10 (Dense)             (None, 32)                2080      \n",
      "_________________________________________________________________\n",
      "dense_11 (Dense)             (None, 2)                 66        \n",
      "=================================================================\n",
      "Total params: 194,594\n",
      "Trainable params: 194,594\n",
      "Non-trainable params: 0\n",
      "_________________________________________________________________\n"
     ]
    }
   ],
   "source": [
    "model_1 = Sequential()\n",
    "\n",
    "model_1.add(Dense(512, activation='relu', input_shape=(38,)))  # input layer\n",
    "model_1.add(Dense(256, activation='relu'))                    # hidden layer\n",
    "model_1.add(Dense(128, activation='relu'))                    # hidden layer\n",
    "model_1.add(Dense(64, activation='relu'))                    # hidden layer\n",
    "model_1.add(Dense(32, activation='relu'))                    # hidden layer\n",
    "model_1.add(Dense(2, activation='softmax'))                  # output layer\n",
    "model_1.summary()"
   ]
  },
  {
   "cell_type": "code",
   "execution_count": 93,
   "metadata": {
    "colab": {},
    "colab_type": "code",
    "executionInfo": {
     "elapsed": 1042,
     "status": "ok",
     "timestamp": 1597741287938,
     "user": {
      "displayName": "윤석빈",
      "photoUrl": "",
      "userId": "00951895410814434245"
     },
     "user_tz": -540
    },
    "id": "_duZ2Fyb4zb8"
   },
   "outputs": [],
   "source": [
    "model_1.compile(loss='categorical_crossentropy', optimizer='sgd', metrics='accuracy') # gradient boosting"
   ]
  },
  {
   "cell_type": "code",
   "execution_count": 94,
   "metadata": {
    "colab": {},
    "colab_type": "code",
    "executionInfo": {
     "elapsed": 536,
     "status": "ok",
     "timestamp": 1597741288910,
     "user": {
      "displayName": "윤석빈",
      "photoUrl": "",
      "userId": "00951895410814434245"
     },
     "user_tz": -540
    },
    "id": "SsWk8MOr4zb-"
   },
   "outputs": [],
   "source": [
    "y2 = to_categorical(y)"
   ]
  },
  {
   "cell_type": "code",
   "execution_count": 95,
   "metadata": {
    "colab": {
     "base_uri": "https://localhost:8080/",
     "height": 1000
    },
    "colab_type": "code",
    "executionInfo": {
     "elapsed": 23483,
     "status": "ok",
     "timestamp": 1597741312772,
     "user": {
      "displayName": "윤석빈",
      "photoUrl": "",
      "userId": "00951895410814434245"
     },
     "user_tz": -540
    },
    "id": "TpmIi3sk4zcC",
    "outputId": "570eeb38-20aa-45ed-b4c6-f2919ac8c3cc"
   },
   "outputs": [
    {
     "name": "stdout",
     "output_type": "stream",
     "text": [
      "Epoch 1/100\n",
      "69/69 [==============================] - 0s 3ms/step - loss: 0.3896 - accuracy: 0.9690\n",
      "Epoch 2/100\n",
      "69/69 [==============================] - 0s 3ms/step - loss: 0.1143 - accuracy: 0.9954\n",
      "Epoch 3/100\n",
      "69/69 [==============================] - 0s 3ms/step - loss: 0.0572 - accuracy: 0.9954\n",
      "Epoch 4/100\n",
      "69/69 [==============================] - 0s 3ms/step - loss: 0.0425 - accuracy: 0.9954\n",
      "Epoch 5/100\n",
      "69/69 [==============================] - 0s 3ms/step - loss: 0.0372 - accuracy: 0.9954\n",
      "Epoch 6/100\n",
      "69/69 [==============================] - 0s 4ms/step - loss: 0.0347 - accuracy: 0.9954\n",
      "Epoch 7/100\n",
      "69/69 [==============================] - 0s 4ms/step - loss: 0.0334 - accuracy: 0.9954\n",
      "Epoch 8/100\n",
      "69/69 [==============================] - 0s 3ms/step - loss: 0.0325 - accuracy: 0.9954\n",
      "Epoch 9/100\n",
      "69/69 [==============================] - 0s 3ms/step - loss: 0.0319 - accuracy: 0.9954\n",
      "Epoch 10/100\n",
      "69/69 [==============================] - 0s 3ms/step - loss: 0.0313 - accuracy: 0.9954\n",
      "Epoch 11/100\n",
      "69/69 [==============================] - 0s 3ms/step - loss: 0.0308 - accuracy: 0.9954\n",
      "Epoch 12/100\n",
      "69/69 [==============================] - 0s 3ms/step - loss: 0.0304 - accuracy: 0.9954\n",
      "Epoch 13/100\n",
      "69/69 [==============================] - 0s 3ms/step - loss: 0.0300 - accuracy: 0.9954\n",
      "Epoch 14/100\n",
      "69/69 [==============================] - 0s 3ms/step - loss: 0.0296 - accuracy: 0.9954\n",
      "Epoch 15/100\n",
      "69/69 [==============================] - 0s 3ms/step - loss: 0.0292 - accuracy: 0.9954\n",
      "Epoch 16/100\n",
      "69/69 [==============================] - 0s 4ms/step - loss: 0.0288 - accuracy: 0.9954\n",
      "Epoch 17/100\n",
      "69/69 [==============================] - 0s 4ms/step - loss: 0.0284 - accuracy: 0.9954\n",
      "Epoch 18/100\n",
      "69/69 [==============================] - 0s 3ms/step - loss: 0.0280 - accuracy: 0.9954\n",
      "Epoch 19/100\n",
      "69/69 [==============================] - 0s 3ms/step - loss: 0.0276 - accuracy: 0.9954\n",
      "Epoch 20/100\n",
      "69/69 [==============================] - 0s 3ms/step - loss: 0.0273 - accuracy: 0.9954\n",
      "Epoch 21/100\n",
      "69/69 [==============================] - 0s 3ms/step - loss: 0.0269 - accuracy: 0.9954\n",
      "Epoch 22/100\n",
      "69/69 [==============================] - 0s 3ms/step - loss: 0.0265 - accuracy: 0.9954\n",
      "Epoch 23/100\n",
      "69/69 [==============================] - 0s 3ms/step - loss: 0.0261 - accuracy: 0.9954\n",
      "Epoch 24/100\n",
      "69/69 [==============================] - 0s 3ms/step - loss: 0.0258 - accuracy: 0.9954\n",
      "Epoch 25/100\n",
      "69/69 [==============================] - 0s 3ms/step - loss: 0.0254 - accuracy: 0.9954\n",
      "Epoch 26/100\n",
      "69/69 [==============================] - 0s 3ms/step - loss: 0.0250 - accuracy: 0.9954\n",
      "Epoch 27/100\n",
      "69/69 [==============================] - 0s 3ms/step - loss: 0.0247 - accuracy: 0.9954\n",
      "Epoch 28/100\n",
      "69/69 [==============================] - 0s 3ms/step - loss: 0.0244 - accuracy: 0.9954\n",
      "Epoch 29/100\n",
      "69/69 [==============================] - 0s 3ms/step - loss: 0.0240 - accuracy: 0.9954\n",
      "Epoch 30/100\n",
      "69/69 [==============================] - 0s 3ms/step - loss: 0.0237 - accuracy: 0.9954\n",
      "Epoch 31/100\n",
      "69/69 [==============================] - 0s 3ms/step - loss: 0.0234 - accuracy: 0.9954\n",
      "Epoch 32/100\n",
      "69/69 [==============================] - 0s 3ms/step - loss: 0.0231 - accuracy: 0.9954\n",
      "Epoch 33/100\n",
      "69/69 [==============================] - 0s 3ms/step - loss: 0.0228 - accuracy: 0.9954\n",
      "Epoch 34/100\n",
      "69/69 [==============================] - 0s 3ms/step - loss: 0.0225 - accuracy: 0.9954\n",
      "Epoch 35/100\n",
      "69/69 [==============================] - 0s 3ms/step - loss: 0.0222 - accuracy: 0.9954\n",
      "Epoch 36/100\n",
      "69/69 [==============================] - 0s 3ms/step - loss: 0.0220 - accuracy: 0.9954\n",
      "Epoch 37/100\n",
      "69/69 [==============================] - 0s 3ms/step - loss: 0.0217 - accuracy: 0.9954\n",
      "Epoch 38/100\n",
      "69/69 [==============================] - 0s 3ms/step - loss: 0.0214 - accuracy: 0.9954\n",
      "Epoch 39/100\n",
      "69/69 [==============================] - 0s 3ms/step - loss: 0.0212 - accuracy: 0.9954\n",
      "Epoch 40/100\n",
      "69/69 [==============================] - 0s 3ms/step - loss: 0.0209 - accuracy: 0.9954\n",
      "Epoch 41/100\n",
      "69/69 [==============================] - 0s 3ms/step - loss: 0.0206 - accuracy: 0.9954\n",
      "Epoch 42/100\n",
      "69/69 [==============================] - 0s 3ms/step - loss: 0.0204 - accuracy: 0.9954\n",
      "Epoch 43/100\n",
      "69/69 [==============================] - 0s 3ms/step - loss: 0.0201 - accuracy: 0.9954\n",
      "Epoch 44/100\n",
      "69/69 [==============================] - 0s 3ms/step - loss: 0.0199 - accuracy: 0.9954\n",
      "Epoch 45/100\n",
      "69/69 [==============================] - 0s 3ms/step - loss: 0.0196 - accuracy: 0.9954\n",
      "Epoch 46/100\n",
      "69/69 [==============================] - 0s 3ms/step - loss: 0.0194 - accuracy: 0.9954\n",
      "Epoch 47/100\n",
      "69/69 [==============================] - 0s 3ms/step - loss: 0.0192 - accuracy: 0.9954\n",
      "Epoch 48/100\n",
      "69/69 [==============================] - 0s 3ms/step - loss: 0.0190 - accuracy: 0.9954\n",
      "Epoch 49/100\n",
      "69/69 [==============================] - 0s 3ms/step - loss: 0.0188 - accuracy: 0.9954\n",
      "Epoch 50/100\n",
      "69/69 [==============================] - 0s 3ms/step - loss: 0.0185 - accuracy: 0.9954\n",
      "Epoch 51/100\n",
      "69/69 [==============================] - 0s 3ms/step - loss: 0.0183 - accuracy: 0.9954\n",
      "Epoch 52/100\n",
      "69/69 [==============================] - 0s 3ms/step - loss: 0.0181 - accuracy: 0.9954\n",
      "Epoch 53/100\n",
      "69/69 [==============================] - 0s 3ms/step - loss: 0.0179 - accuracy: 0.9954\n",
      "Epoch 54/100\n",
      "69/69 [==============================] - 0s 3ms/step - loss: 0.0177 - accuracy: 0.9954\n",
      "Epoch 55/100\n",
      "69/69 [==============================] - 0s 3ms/step - loss: 0.0175 - accuracy: 0.9954\n",
      "Epoch 56/100\n",
      "69/69 [==============================] - 0s 3ms/step - loss: 0.0174 - accuracy: 0.9954\n",
      "Epoch 57/100\n",
      "69/69 [==============================] - 0s 3ms/step - loss: 0.0172 - accuracy: 0.9954\n",
      "Epoch 58/100\n",
      "69/69 [==============================] - 0s 3ms/step - loss: 0.0170 - accuracy: 0.9954\n",
      "Epoch 59/100\n",
      "69/69 [==============================] - 0s 3ms/step - loss: 0.0168 - accuracy: 0.9954\n",
      "Epoch 60/100\n",
      "69/69 [==============================] - 0s 3ms/step - loss: 0.0166 - accuracy: 0.9954\n",
      "Epoch 61/100\n",
      "69/69 [==============================] - 0s 3ms/step - loss: 0.0164 - accuracy: 0.9954\n",
      "Epoch 62/100\n",
      "69/69 [==============================] - 0s 3ms/step - loss: 0.0163 - accuracy: 0.9954\n",
      "Epoch 63/100\n",
      "69/69 [==============================] - 0s 3ms/step - loss: 0.0161 - accuracy: 0.9954\n",
      "Epoch 64/100\n",
      "69/69 [==============================] - 0s 3ms/step - loss: 0.0160 - accuracy: 0.9954\n",
      "Epoch 65/100\n",
      "69/69 [==============================] - 0s 3ms/step - loss: 0.0159 - accuracy: 0.9954\n",
      "Epoch 66/100\n",
      "69/69 [==============================] - 0s 3ms/step - loss: 0.0157 - accuracy: 0.9954\n",
      "Epoch 67/100\n",
      "69/69 [==============================] - 0s 3ms/step - loss: 0.0155 - accuracy: 0.9954\n",
      "Epoch 68/100\n",
      "69/69 [==============================] - 0s 3ms/step - loss: 0.0154 - accuracy: 0.9954\n",
      "Epoch 69/100\n",
      "69/69 [==============================] - 0s 3ms/step - loss: 0.0153 - accuracy: 0.9954\n",
      "Epoch 70/100\n",
      "69/69 [==============================] - 0s 3ms/step - loss: 0.0152 - accuracy: 0.9954\n",
      "Epoch 71/100\n",
      "69/69 [==============================] - 0s 3ms/step - loss: 0.0150 - accuracy: 0.9954\n",
      "Epoch 72/100\n",
      "69/69 [==============================] - 0s 3ms/step - loss: 0.0149 - accuracy: 0.9954\n",
      "Epoch 73/100\n",
      "69/69 [==============================] - 0s 3ms/step - loss: 0.0147 - accuracy: 0.9954\n",
      "Epoch 74/100\n",
      "69/69 [==============================] - 0s 3ms/step - loss: 0.0146 - accuracy: 0.9954\n",
      "Epoch 75/100\n",
      "69/69 [==============================] - 0s 3ms/step - loss: 0.0145 - accuracy: 0.9954\n",
      "Epoch 76/100\n",
      "69/69 [==============================] - 0s 3ms/step - loss: 0.0144 - accuracy: 0.9954\n",
      "Epoch 77/100\n",
      "69/69 [==============================] - 0s 3ms/step - loss: 0.0143 - accuracy: 0.9954\n",
      "Epoch 78/100\n",
      "69/69 [==============================] - 0s 3ms/step - loss: 0.0141 - accuracy: 0.9954\n",
      "Epoch 79/100\n",
      "69/69 [==============================] - 0s 3ms/step - loss: 0.0140 - accuracy: 0.9954\n",
      "Epoch 80/100\n",
      "69/69 [==============================] - 0s 3ms/step - loss: 0.0139 - accuracy: 0.9954\n",
      "Epoch 81/100\n",
      "69/69 [==============================] - 0s 3ms/step - loss: 0.0138 - accuracy: 0.9954\n",
      "Epoch 82/100\n",
      "69/69 [==============================] - 0s 3ms/step - loss: 0.0137 - accuracy: 0.9954\n",
      "Epoch 83/100\n",
      "69/69 [==============================] - 0s 3ms/step - loss: 0.0135 - accuracy: 0.9954\n",
      "Epoch 84/100\n",
      "69/69 [==============================] - 0s 3ms/step - loss: 0.0134 - accuracy: 0.9954\n",
      "Epoch 85/100\n",
      "69/69 [==============================] - 0s 3ms/step - loss: 0.0134 - accuracy: 0.9954\n",
      "Epoch 86/100\n",
      "69/69 [==============================] - 0s 3ms/step - loss: 0.0132 - accuracy: 0.9954\n",
      "Epoch 87/100\n",
      "69/69 [==============================] - 0s 3ms/step - loss: 0.0132 - accuracy: 0.9954\n",
      "Epoch 88/100\n",
      "69/69 [==============================] - 0s 3ms/step - loss: 0.0130 - accuracy: 0.9954\n",
      "Epoch 89/100\n",
      "69/69 [==============================] - 0s 3ms/step - loss: 0.0129 - accuracy: 0.9954\n",
      "Epoch 90/100\n",
      "69/69 [==============================] - 0s 3ms/step - loss: 0.0128 - accuracy: 0.9954\n",
      "Epoch 91/100\n",
      "69/69 [==============================] - 0s 3ms/step - loss: 0.0127 - accuracy: 0.9954\n",
      "Epoch 92/100\n",
      "69/69 [==============================] - 0s 3ms/step - loss: 0.0126 - accuracy: 0.9954\n",
      "Epoch 93/100\n",
      "69/69 [==============================] - 0s 3ms/step - loss: 0.0125 - accuracy: 0.9954\n",
      "Epoch 94/100\n",
      "69/69 [==============================] - 0s 3ms/step - loss: 0.0124 - accuracy: 0.9954\n",
      "Epoch 95/100\n",
      "69/69 [==============================] - 0s 3ms/step - loss: 0.0123 - accuracy: 0.9954\n",
      "Epoch 96/100\n",
      "69/69 [==============================] - 0s 3ms/step - loss: 0.0122 - accuracy: 0.9954\n",
      "Epoch 97/100\n",
      "69/69 [==============================] - 0s 3ms/step - loss: 0.0121 - accuracy: 0.9954\n",
      "Epoch 98/100\n",
      "69/69 [==============================] - 0s 3ms/step - loss: 0.0121 - accuracy: 0.9954\n",
      "Epoch 99/100\n",
      "69/69 [==============================] - 0s 3ms/step - loss: 0.0120 - accuracy: 0.9954\n",
      "Epoch 100/100\n",
      "69/69 [==============================] - 0s 3ms/step - loss: 0.0119 - accuracy: 0.9954\n"
     ]
    }
   ],
   "source": [
    "hist = model_1.fit(x, y2, epochs=100)"
   ]
  },
  {
   "cell_type": "code",
   "execution_count": 95,
   "metadata": {
    "colab": {},
    "colab_type": "code",
    "executionInfo": {
     "elapsed": 22727,
     "status": "ok",
     "timestamp": 1597741312773,
     "user": {
      "displayName": "윤석빈",
      "photoUrl": "",
      "userId": "00951895410814434245"
     },
     "user_tz": -540
    },
    "id": "SAsOb0eJxgkb"
   },
   "outputs": [],
   "source": []
  },
  {
   "cell_type": "code",
   "execution_count": 96,
   "metadata": {
    "colab": {},
    "colab_type": "code",
    "executionInfo": {
     "elapsed": 22283,
     "status": "ok",
     "timestamp": 1597741312773,
     "user": {
      "displayName": "윤석빈",
      "photoUrl": "",
      "userId": "00951895410814434245"
     },
     "user_tz": -540
    },
    "id": "p1nppSlW4zcF"
   },
   "outputs": [],
   "source": [
    "preds = model_1.predict(x_test)"
   ]
  },
  {
   "cell_type": "code",
   "execution_count": 97,
   "metadata": {
    "colab": {},
    "colab_type": "code",
    "executionInfo": {
     "elapsed": 21917,
     "status": "ok",
     "timestamp": 1597741312774,
     "user": {
      "displayName": "윤석빈",
      "photoUrl": "",
      "userId": "00951895410814434245"
     },
     "user_tz": -540
    },
    "id": "5Cwayjok4zcH"
   },
   "outputs": [],
   "source": [
    "#df_2020_pit_m['mvp'] = df_2020_pit_m['player_name'].apply(lambda x: 1 if x == ' ' else 0)"
   ]
  },
  {
   "cell_type": "code",
   "execution_count": 98,
   "metadata": {
    "colab": {},
    "colab_type": "code",
    "executionInfo": {
     "elapsed": 21484,
     "status": "ok",
     "timestamp": 1597741312775,
     "user": {
      "displayName": "윤석빈",
      "photoUrl": "",
      "userId": "00951895410814434245"
     },
     "user_tz": -540
    },
    "id": "gRFg8fKI4zcJ"
   },
   "outputs": [],
   "source": [
    "#y_test = df_2020_pit_m['mvp']"
   ]
  },
  {
   "cell_type": "code",
   "execution_count": 99,
   "metadata": {
    "colab": {},
    "colab_type": "code",
    "executionInfo": {
     "elapsed": 21169,
     "status": "ok",
     "timestamp": 1597741312776,
     "user": {
      "displayName": "윤석빈",
      "photoUrl": "",
      "userId": "00951895410814434245"
     },
     "user_tz": -540
    },
    "id": "W8u9FIvz4zcL"
   },
   "outputs": [],
   "source": [
    "#y_test1 = to_categorical(y_test)"
   ]
  },
  {
   "cell_type": "code",
   "execution_count": 100,
   "metadata": {
    "colab": {},
    "colab_type": "code",
    "executionInfo": {
     "elapsed": 20789,
     "status": "ok",
     "timestamp": 1597741312776,
     "user": {
      "displayName": "윤석빈",
      "photoUrl": "",
      "userId": "00951895410814434245"
     },
     "user_tz": -540
    },
    "id": "OdaVStEo4zcP"
   },
   "outputs": [],
   "source": [
    "#np.mean(preds.argmax(axis=1) == y_test1.argmax(axis=1))"
   ]
  },
  {
   "cell_type": "code",
   "execution_count": 101,
   "metadata": {
    "colab": {},
    "colab_type": "code",
    "executionInfo": {
     "elapsed": 20238,
     "status": "ok",
     "timestamp": 1597741312777,
     "user": {
      "displayName": "윤석빈",
      "photoUrl": "",
      "userId": "00951895410814434245"
     },
     "user_tz": -540
    },
    "id": "O9-iADoc4zcR"
   },
   "outputs": [],
   "source": [
    "df_temp_1 = pd.DataFrame()\n",
    "df_temp_1['pred'] = preds[:,1]\n",
    "df_temp_1['pred0'] = preds[:,0]"
   ]
  },
  {
   "cell_type": "code",
   "execution_count": 102,
   "metadata": {
    "colab": {},
    "colab_type": "code",
    "executionInfo": {
     "elapsed": 19694,
     "status": "ok",
     "timestamp": 1597741312778,
     "user": {
      "displayName": "윤석빈",
      "photoUrl": "",
      "userId": "00951895410814434245"
     },
     "user_tz": -540
    },
    "id": "l7jx5rHD4zcT"
   },
   "outputs": [],
   "source": [
    "df_temp_1['name'] = df_2020_player['player_name'].values\n",
    "#df_temp_1['y_test'] = df_2020_player['mvp'].values"
   ]
  },
  {
   "cell_type": "code",
   "execution_count": 103,
   "metadata": {
    "colab": {
     "base_uri": "https://localhost:8080/",
     "height": 669
    },
    "colab_type": "code",
    "executionInfo": {
     "elapsed": 19078,
     "status": "ok",
     "timestamp": 1597741312779,
     "user": {
      "displayName": "윤석빈",
      "photoUrl": "",
      "userId": "00951895410814434245"
     },
     "user_tz": -540
    },
    "id": "a5juhIOmyZuk",
    "outputId": "5547ea30-7ffd-40a2-bd2e-ac95755593f4"
   },
   "outputs": [
    {
     "data": {
      "text/html": [
       "<div>\n",
       "<style scoped>\n",
       "    .dataframe tbody tr th:only-of-type {\n",
       "        vertical-align: middle;\n",
       "    }\n",
       "\n",
       "    .dataframe tbody tr th {\n",
       "        vertical-align: top;\n",
       "    }\n",
       "\n",
       "    .dataframe thead th {\n",
       "        text-align: right;\n",
       "    }\n",
       "</style>\n",
       "<table border=\"1\" class=\"dataframe\">\n",
       "  <thead>\n",
       "    <tr style=\"text-align: right;\">\n",
       "      <th></th>\n",
       "      <th>pred</th>\n",
       "      <th>pred0</th>\n",
       "      <th>name</th>\n",
       "    </tr>\n",
       "  </thead>\n",
       "  <tbody>\n",
       "    <tr>\n",
       "      <th>6</th>\n",
       "      <td>0.172310</td>\n",
       "      <td>0.827690</td>\n",
       "      <td>로하스</td>\n",
       "    </tr>\n",
       "    <tr>\n",
       "      <th>297</th>\n",
       "      <td>0.104282</td>\n",
       "      <td>0.895718</td>\n",
       "      <td>서폴드</td>\n",
       "    </tr>\n",
       "    <tr>\n",
       "      <th>24</th>\n",
       "      <td>0.057344</td>\n",
       "      <td>0.942656</td>\n",
       "      <td>최정</td>\n",
       "    </tr>\n",
       "    <tr>\n",
       "      <th>313</th>\n",
       "      <td>0.039607</td>\n",
       "      <td>0.960393</td>\n",
       "      <td>뷰캐넌</td>\n",
       "    </tr>\n",
       "    <tr>\n",
       "      <th>311</th>\n",
       "      <td>0.033149</td>\n",
       "      <td>0.966851</td>\n",
       "      <td>브룩스</td>\n",
       "    </tr>\n",
       "    <tr>\n",
       "      <th>13</th>\n",
       "      <td>0.027289</td>\n",
       "      <td>0.972711</td>\n",
       "      <td>로맥</td>\n",
       "    </tr>\n",
       "    <tr>\n",
       "      <th>7</th>\n",
       "      <td>0.023901</td>\n",
       "      <td>0.976099</td>\n",
       "      <td>배정대</td>\n",
       "    </tr>\n",
       "    <tr>\n",
       "      <th>14</th>\n",
       "      <td>0.023557</td>\n",
       "      <td>0.976443</td>\n",
       "      <td>알테어</td>\n",
       "    </tr>\n",
       "    <tr>\n",
       "      <th>288</th>\n",
       "      <td>0.017613</td>\n",
       "      <td>0.982387</td>\n",
       "      <td>데스파이네</td>\n",
       "    </tr>\n",
       "    <tr>\n",
       "      <th>26</th>\n",
       "      <td>0.017404</td>\n",
       "      <td>0.982596</td>\n",
       "      <td>전준우</td>\n",
       "    </tr>\n",
       "    <tr>\n",
       "      <th>354</th>\n",
       "      <td>0.016722</td>\n",
       "      <td>0.983278</td>\n",
       "      <td>정찬헌</td>\n",
       "    </tr>\n",
       "    <tr>\n",
       "      <th>18</th>\n",
       "      <td>0.015745</td>\n",
       "      <td>0.984255</td>\n",
       "      <td>터커</td>\n",
       "    </tr>\n",
       "    <tr>\n",
       "      <th>298</th>\n",
       "      <td>0.015539</td>\n",
       "      <td>0.984461</td>\n",
       "      <td>스트레일리</td>\n",
       "    </tr>\n",
       "    <tr>\n",
       "      <th>2</th>\n",
       "      <td>0.015271</td>\n",
       "      <td>0.984729</td>\n",
       "      <td>김하성</td>\n",
       "    </tr>\n",
       "    <tr>\n",
       "      <th>0</th>\n",
       "      <td>0.013700</td>\n",
       "      <td>0.986300</td>\n",
       "      <td>이정후</td>\n",
       "    </tr>\n",
       "    <tr>\n",
       "      <th>5</th>\n",
       "      <td>0.013290</td>\n",
       "      <td>0.986710</td>\n",
       "      <td>김현수</td>\n",
       "    </tr>\n",
       "    <tr>\n",
       "      <th>35</th>\n",
       "      <td>0.012303</td>\n",
       "      <td>0.987697</td>\n",
       "      <td>라모스</td>\n",
       "    </tr>\n",
       "    <tr>\n",
       "      <th>22</th>\n",
       "      <td>0.012062</td>\n",
       "      <td>0.987938</td>\n",
       "      <td>이대호</td>\n",
       "    </tr>\n",
       "    <tr>\n",
       "      <th>292</th>\n",
       "      <td>0.010269</td>\n",
       "      <td>0.989731</td>\n",
       "      <td>알칸타라</td>\n",
       "    </tr>\n",
       "    <tr>\n",
       "      <th>77</th>\n",
       "      <td>0.009830</td>\n",
       "      <td>0.990170</td>\n",
       "      <td>강백호</td>\n",
       "    </tr>\n",
       "  </tbody>\n",
       "</table>\n",
       "</div>"
      ],
      "text/plain": [
       "         pred     pred0   name\n",
       "6    0.172310  0.827690    로하스\n",
       "297  0.104282  0.895718    서폴드\n",
       "24   0.057344  0.942656     최정\n",
       "313  0.039607  0.960393    뷰캐넌\n",
       "311  0.033149  0.966851    브룩스\n",
       "13   0.027289  0.972711     로맥\n",
       "7    0.023901  0.976099    배정대\n",
       "14   0.023557  0.976443    알테어\n",
       "288  0.017613  0.982387  데스파이네\n",
       "26   0.017404  0.982596    전준우\n",
       "354  0.016722  0.983278    정찬헌\n",
       "18   0.015745  0.984255     터커\n",
       "298  0.015539  0.984461  스트레일리\n",
       "2    0.015271  0.984729    김하성\n",
       "0    0.013700  0.986300    이정후\n",
       "5    0.013290  0.986710    김현수\n",
       "35   0.012303  0.987697    라모스\n",
       "22   0.012062  0.987938    이대호\n",
       "292  0.010269  0.989731   알칸타라\n",
       "77   0.009830  0.990170    강백호"
      ]
     },
     "execution_count": 103,
     "metadata": {
      "tags": []
     },
     "output_type": "execute_result"
    }
   ],
   "source": [
    "df_temp_1.sort_values('pred', ascending=False)[:20]"
   ]
  },
  {
   "cell_type": "code",
   "execution_count": 104,
   "metadata": {
    "colab": {},
    "colab_type": "code",
    "executionInfo": {
     "elapsed": 665,
     "status": "ok",
     "timestamp": 1597741473703,
     "user": {
      "displayName": "윤석빈",
      "photoUrl": "",
      "userId": "00951895410814434245"
     },
     "user_tz": -540
    },
    "id": "L8ellqMNycHC"
   },
   "outputs": [],
   "source": [
    "from sklearn.ensemble import RandomForestClassifier "
   ]
  },
  {
   "cell_type": "code",
   "execution_count": 106,
   "metadata": {
    "colab": {
     "base_uri": "https://localhost:8080/",
     "height": 394
    },
    "colab_type": "code",
    "executionInfo": {
     "elapsed": 735,
     "status": "error",
     "timestamp": 1597741589613,
     "user": {
      "displayName": "윤석빈",
      "photoUrl": "",
      "userId": "00951895410814434245"
     },
     "user_tz": -540
    },
    "id": "14eGeynW0djY",
    "outputId": "86171192-2df6-4e27-f17d-2bd45e4544db"
   },
   "outputs": [
    {
     "ename": "FileNotFoundError",
     "evalue": "ignored",
     "output_type": "error",
     "traceback": [
      "\u001b[0;31m---------------------------------------------------------------------------\u001b[0m",
      "\u001b[0;31mFileNotFoundError\u001b[0m                         Traceback (most recent call last)",
      "\u001b[0;32m<ipython-input-106-4ef8c10098c6>\u001b[0m in \u001b[0;36m<module>\u001b[0;34m()\u001b[0m\n\u001b[1;32m     13\u001b[0m \u001b[0;34m\u001b[0m\u001b[0m\n\u001b[1;32m     14\u001b[0m \u001b[0;34m\u001b[0m\u001b[0m\n\u001b[0;32m---> 15\u001b[0;31m \u001b[0mfont_name\u001b[0m \u001b[0;34m=\u001b[0m \u001b[0mfm\u001b[0m\u001b[0;34m.\u001b[0m\u001b[0mFontProperties\u001b[0m\u001b[0;34m(\u001b[0m\u001b[0mfname\u001b[0m\u001b[0;34m=\u001b[0m\u001b[0mpath\u001b[0m\u001b[0;34m,\u001b[0m \u001b[0msize\u001b[0m\u001b[0;34m=\u001b[0m\u001b[0;36m50\u001b[0m\u001b[0;34m)\u001b[0m\u001b[0;34m.\u001b[0m\u001b[0mget_name\u001b[0m\u001b[0;34m(\u001b[0m\u001b[0;34m)\u001b[0m\u001b[0;34m\u001b[0m\u001b[0;34m\u001b[0m\u001b[0m\n\u001b[0m\u001b[1;32m     16\u001b[0m \u001b[0;34m\u001b[0m\u001b[0m\n\u001b[1;32m     17\u001b[0m \u001b[0mplt\u001b[0m\u001b[0;34m.\u001b[0m\u001b[0mrc\u001b[0m\u001b[0;34m(\u001b[0m\u001b[0;34m'font'\u001b[0m\u001b[0;34m,\u001b[0m \u001b[0mfamily\u001b[0m\u001b[0;34m=\u001b[0m\u001b[0mfont_name\u001b[0m\u001b[0;34m)\u001b[0m\u001b[0;34m\u001b[0m\u001b[0;34m\u001b[0m\u001b[0m\n",
      "\u001b[0;32m/usr/local/lib/python3.6/dist-packages/matplotlib/font_manager.py\u001b[0m in \u001b[0;36mget_name\u001b[0;34m(self)\u001b[0m\n\u001b[1;32m    687\u001b[0m         \u001b[0mReturn\u001b[0m \u001b[0mthe\u001b[0m \u001b[0mname\u001b[0m \u001b[0mof\u001b[0m \u001b[0mthe\u001b[0m \u001b[0mfont\u001b[0m \u001b[0mthat\u001b[0m \u001b[0mbest\u001b[0m \u001b[0mmatches\u001b[0m \u001b[0mthe\u001b[0m \u001b[0mfont\u001b[0m \u001b[0mproperties\u001b[0m\u001b[0;34m.\u001b[0m\u001b[0;34m\u001b[0m\u001b[0;34m\u001b[0m\u001b[0m\n\u001b[1;32m    688\u001b[0m         \"\"\"\n\u001b[0;32m--> 689\u001b[0;31m         \u001b[0;32mreturn\u001b[0m \u001b[0mget_font\u001b[0m\u001b[0;34m(\u001b[0m\u001b[0mfindfont\u001b[0m\u001b[0;34m(\u001b[0m\u001b[0mself\u001b[0m\u001b[0;34m)\u001b[0m\u001b[0;34m)\u001b[0m\u001b[0;34m.\u001b[0m\u001b[0mfamily_name\u001b[0m\u001b[0;34m\u001b[0m\u001b[0;34m\u001b[0m\u001b[0m\n\u001b[0m\u001b[1;32m    690\u001b[0m \u001b[0;34m\u001b[0m\u001b[0m\n\u001b[1;32m    691\u001b[0m     \u001b[0;32mdef\u001b[0m \u001b[0mget_style\u001b[0m\u001b[0;34m(\u001b[0m\u001b[0mself\u001b[0m\u001b[0;34m)\u001b[0m\u001b[0;34m:\u001b[0m\u001b[0;34m\u001b[0m\u001b[0;34m\u001b[0m\u001b[0m\n",
      "\u001b[0;32m/usr/local/lib/python3.6/dist-packages/matplotlib/font_manager.py\u001b[0m in \u001b[0;36mget_font\u001b[0;34m(filename, hinting_factor)\u001b[0m\n\u001b[1;32m   1327\u001b[0m         \u001b[0mhinting_factor\u001b[0m \u001b[0;34m=\u001b[0m \u001b[0mrcParams\u001b[0m\u001b[0;34m[\u001b[0m\u001b[0;34m'text.hinting_factor'\u001b[0m\u001b[0;34m]\u001b[0m\u001b[0;34m\u001b[0m\u001b[0;34m\u001b[0m\u001b[0m\n\u001b[1;32m   1328\u001b[0m     return _get_font(os.fspath(filename), hinting_factor,\n\u001b[0;32m-> 1329\u001b[0;31m                      _kerning_factor=rcParams['text.kerning_factor'])\n\u001b[0m\u001b[1;32m   1330\u001b[0m \u001b[0;34m\u001b[0m\u001b[0m\n\u001b[1;32m   1331\u001b[0m \u001b[0;34m\u001b[0m\u001b[0m\n",
      "\u001b[0;31mFileNotFoundError\u001b[0m: [Errno 2] No such file or directory: 'C:/Windows/Fonts/malgun.ttf'"
     ]
    }
   ],
   "source": [
    "import matplotlib.pyplot as plt\n",
    "\n",
    "import matplotlib as mpl\n",
    "\n",
    "import matplotlib.font_manager as fm\n",
    "\n",
    "\n",
    "\n",
    "mpl.rcParams['axes.unicode_minus'] = False\n",
    "\n",
    "path = 'C:/Windows/Fonts/malgun.ttf'\n",
    "\n",
    "\n",
    "\n",
    "font_name = fm.FontProperties(fname=path, size=50).get_name()\n",
    "\n",
    "plt.rc('font', family=font_name)"
   ]
  },
  {
   "cell_type": "code",
   "execution_count": 111,
   "metadata": {
    "colab": {
     "base_uri": "https://localhost:8080/",
     "height": 204
    },
    "colab_type": "code",
    "executionInfo": {
     "elapsed": 984,
     "status": "ok",
     "timestamp": 1597741656300,
     "user": {
      "displayName": "윤석빈",
      "photoUrl": "",
      "userId": "00951895410814434245"
     },
     "user_tz": -540
    },
    "id": "mlX9WkQi0Byr",
    "outputId": "c46945a1-5b91-47a1-ac17-72763d3127c8"
   },
   "outputs": [
    {
     "data": {
      "text/html": [
       "<div>\n",
       "<style scoped>\n",
       "    .dataframe tbody tr th:only-of-type {\n",
       "        vertical-align: middle;\n",
       "    }\n",
       "\n",
       "    .dataframe tbody tr th {\n",
       "        vertical-align: top;\n",
       "    }\n",
       "\n",
       "    .dataframe thead th {\n",
       "        text-align: right;\n",
       "    }\n",
       "</style>\n",
       "<table border=\"1\" class=\"dataframe\">\n",
       "  <thead>\n",
       "    <tr style=\"text-align: right;\">\n",
       "      <th></th>\n",
       "      <th>player_name</th>\n",
       "      <th>per</th>\n",
       "    </tr>\n",
       "  </thead>\n",
       "  <tbody>\n",
       "    <tr>\n",
       "      <th>6</th>\n",
       "      <td>로하스</td>\n",
       "      <td>0.69</td>\n",
       "    </tr>\n",
       "    <tr>\n",
       "      <th>292</th>\n",
       "      <td>알칸타라</td>\n",
       "      <td>0.59</td>\n",
       "    </tr>\n",
       "    <tr>\n",
       "      <th>320</th>\n",
       "      <td>구창모</td>\n",
       "      <td>0.47</td>\n",
       "    </tr>\n",
       "    <tr>\n",
       "      <th>307</th>\n",
       "      <td>루친스키</td>\n",
       "      <td>0.45</td>\n",
       "    </tr>\n",
       "    <tr>\n",
       "      <th>11</th>\n",
       "      <td>박병호</td>\n",
       "      <td>0.41</td>\n",
       "    </tr>\n",
       "  </tbody>\n",
       "</table>\n",
       "</div>"
      ],
      "text/plain": [
       "    player_name   per\n",
       "6           로하스  0.69\n",
       "292        알칸타라  0.59\n",
       "320         구창모  0.47\n",
       "307        루친스키  0.45\n",
       "11          박병호  0.41"
      ]
     },
     "execution_count": 111,
     "metadata": {
      "tags": []
     },
     "output_type": "execute_result"
    }
   ],
   "source": [
    "#y = df_2019_hit['mvp']\n",
    "#x = df_2019_hit.drop(['player_name', 'mvp'], axis=1)\n",
    "#x1 = df_2020_hit_m.drop(['player_name'], axis=1)\n",
    "\n",
    "trr = RandomForestClassifier().fit(x, y)\n",
    "preds = trr.predict_proba(x_test)\n",
    "list1 = preds[:,1]\n",
    "\n",
    "df_2020_hit_c = df_2020_player.copy()\n",
    "df_2020_hit_c['per'] = list1\n",
    "df_2020_hit_c2 = df_2020_hit_c[['player_name','per']].sort_values('per', ascending=False)[:5]#.plot(kind='bar')\n",
    "#plt.bar(df_2020_hit_c2['player_name'], df_2020_hit_c2['per'], data = df_2020_hit_c2)\n",
    "df_2020_hit_c2"
   ]
  },
  {
   "cell_type": "code",
   "execution_count": null,
   "metadata": {
    "colab": {},
    "colab_type": "code",
    "id": "fVQnbNKf0ZQF"
   },
   "outputs": [],
   "source": []
  }
 ],
 "metadata": {
  "colab": {
   "authorship_tag": "ABX9TyMyiMEEBtaTTaHHzeB+HsTs",
   "collapsed_sections": [],
   "name": "KBO_MVP_Model_4.0_split.ver.ipynb",
   "provenance": []
  },
  "kernelspec": {
   "display_name": "Python 3",
   "language": "python",
   "name": "python3"
  },
  "language_info": {
   "codemirror_mode": {
    "name": "ipython",
    "version": 3
   },
   "file_extension": ".py",
   "mimetype": "text/x-python",
   "name": "python",
   "nbconvert_exporter": "python",
   "pygments_lexer": "ipython3",
   "version": "3.7.6"
  }
 },
 "nbformat": 4,
 "nbformat_minor": 4
}
