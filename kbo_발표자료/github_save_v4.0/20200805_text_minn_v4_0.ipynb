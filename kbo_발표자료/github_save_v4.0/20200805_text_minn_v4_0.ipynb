{
 "cells": [
  {
   "cell_type": "code",
   "execution_count": 30,
   "metadata": {},
   "outputs": [],
   "source": [
    "import pymysql\n",
    "import pandas as pd\n",
    "import numpy as np\n",
    "from matplotlib import pyplot as plt\n",
    "import matplotlib.font_manager as fm\n",
    "import datetime\n",
    "import re"
   ]
  },
  {
   "cell_type": "code",
   "execution_count": 3,
   "metadata": {},
   "outputs": [],
   "source": [
    "# matplotlib 한글 출력..\n",
    "import matplotlib.pyplot as plt\n",
    "import matplotlib as mpl\n",
    "import matplotlib.font_manager as fm\n",
    "mpl.rcParams['axes.unicode_minus'] = False\n",
    "path = 'C:/Windows/Fonts/malgun.ttf'\n",
    "font_name = fm.FontProperties(fname=path, size=50).get_name()\n",
    "plt.rc('font', family=font_name)"
   ]
  },
  {
   "cell_type": "code",
   "execution_count": 4,
   "metadata": {},
   "outputs": [],
   "source": [
    "mpl.rcParams['axes.unicode_minus'] = False\n",
    "path = 'C:/Windows/Fonts/malgun.ttf'\n",
    "font_name = fm.FontProperties(fname=path, size=50).get_name()\n",
    "plt.rc('font', family=font_name)\n",
    "plt.rcParams['figure.figsize'] = (15,5)\n",
    "plt.rcParams['font.size'] = 14"
   ]
  },
  {
   "cell_type": "code",
   "execution_count": 5,
   "metadata": {},
   "outputs": [],
   "source": [
    "# 불용어 사전 리스트\n",
    "def stopwords_list():\n",
    "    f = open('./data/stopwords-ko.txt',encoding='utf-8')\n",
    "    word = f.read()\n",
    "    word = word.split('\\n')\n",
    "    return word\n",
    "#불용어 및 전처리 작업 리스트\n",
    "def preprocessing(text):\n",
    "    sample_text = re.sub('[^가-힣ㄱ-ㅎㅏ-ㅣ]', ' ', text)\n",
    "    sample_text = re.sub(' +', ' ', sample_text)\n",
    "    tokens = sample_text.split(' ')\n",
    "    stop_words = stopwords_list()\n",
    "    tokens = [w for w in tokens if not w in stop_words]\n",
    "    tokens = [w for w in tokens if len(w) > 1]\n",
    "    return ' '.join(tokens)\n",
    "#해당 텍스트 명사만 추출\n",
    "def rtn_nouns(text):    \n",
    "    okt = Okt()\n",
    "    test_text = okt.nouns(text)\n",
    "    return test_text    \n",
    "#부정 감정 단어 리스트\n",
    "def get_nge_words():\n",
    "    f = open('./data/neg_pol_word.txt',encoding='utf-8')\n",
    "    nge_words = f.read()\n",
    "    nge_words = nge_words.split('\\n')\n",
    "    return nge_words\n",
    "#긍정 감정 단어 리스트\n",
    "def get_pos_words():\n",
    "    f = open('./data/pos_pol_word.txt',encoding='utf-8')\n",
    "    pos_words = f.read()\n",
    "    pos_words = pos_words.split('\\n')\n",
    "    return pos_words\n",
    "#해당 텍스트를 긍정,부정,그외 타입으로 나누어\n",
    "#긍정은 +1,부정은 -1,그외는 0점으로 하여 점수 계산\n",
    "def text_minning(x):\n",
    "    news_nge_key = []\n",
    "    news_pos_key = []\n",
    "    news_no_key = []\n",
    "    score = 0    \n",
    "    #해당 텍스트의 전처리 작업\n",
    "    test_text = preprocessing(x)    \n",
    "    #전처리 텍스트의 명사만 추출\n",
    "    test_text = rtn_nouns(test_text)    \n",
    "    #부정단어 사전 추출\n",
    "    nge_words = get_nge_words()    \n",
    "    #긍정단어 사전 추출\n",
    "    pos_words = get_pos_words()    \n",
    "    #해당 텍스트 긍정,부정 작업\n",
    "    for text in test_text:\n",
    "        if text in nge_words:\n",
    "            news_nge_key.append(text)\n",
    "            score -= 1\n",
    "        elif text in pos_words:\n",
    "            news_pos_key.append(text)\n",
    "            score += 1\n",
    "        else:\n",
    "            news_no_key.append(text)\n",
    "            score += 0    \n",
    "    nge_keyword = ','.join(news_nge_key)\n",
    "    pos_keyword = ','.join(news_pos_key)\n",
    "    no_key_word = ','.join(news_no_key)    \n",
    "#     점수,부정,긍정,그외단어 순으로 리턴\n",
    "#     return score,nge_keyword,pos_keyword,no_key_word\n",
    "    return score"
   ]
  },
  {
   "cell_type": "code",
   "execution_count": 6,
   "metadata": {
    "collapsed": true,
    "jupyter": {
     "outputs_hidden": true
    }
   },
   "outputs": [
    {
     "ename": "NameError",
     "evalue": "name 'df' is not defined",
     "output_type": "error",
     "traceback": [
      "\u001b[1;31m---------------------------------------------------------------------------\u001b[0m",
      "\u001b[1;31mNameError\u001b[0m                                 Traceback (most recent call last)",
      "\u001b[1;32m<ipython-input-6-bba916ce6a51>\u001b[0m in \u001b[0;36m<module>\u001b[1;34m\u001b[0m\n\u001b[1;32m----> 1\u001b[1;33m \u001b[0mdf\u001b[0m\u001b[1;33m[\u001b[0m\u001b[1;34m'score'\u001b[0m\u001b[1;33m]\u001b[0m \u001b[1;33m=\u001b[0m \u001b[0mdf\u001b[0m\u001b[1;33m.\u001b[0m\u001b[0mcontent\u001b[0m\u001b[1;33m.\u001b[0m\u001b[0mapply\u001b[0m\u001b[1;33m(\u001b[0m\u001b[0mtext_minning\u001b[0m\u001b[1;33m)\u001b[0m\u001b[1;33m\u001b[0m\u001b[1;33m\u001b[0m\u001b[0m\n\u001b[0m",
      "\u001b[1;31mNameError\u001b[0m: name 'df' is not defined"
     ]
    }
   ],
   "source": [
    "df['score'] = df.content.apply(text_minning)"
   ]
  },
  {
   "cell_type": "code",
   "execution_count": 60,
   "metadata": {},
   "outputs": [],
   "source": [
    "df.to_csv('./2020_kbo_news_minning.csv',encoding='utf-8-sig')"
   ]
  },
  {
   "cell_type": "code",
   "execution_count": null,
   "metadata": {},
   "outputs": [],
   "source": []
  },
  {
   "cell_type": "code",
   "execution_count": 7,
   "metadata": {},
   "outputs": [
    {
     "data": {
      "text/html": [
       "<div>\n",
       "<style scoped>\n",
       "    .dataframe tbody tr th:only-of-type {\n",
       "        vertical-align: middle;\n",
       "    }\n",
       "\n",
       "    .dataframe tbody tr th {\n",
       "        vertical-align: top;\n",
       "    }\n",
       "\n",
       "    .dataframe thead th {\n",
       "        text-align: right;\n",
       "    }\n",
       "</style>\n",
       "<table border=\"1\" class=\"dataframe\">\n",
       "  <thead>\n",
       "    <tr style=\"text-align: right;\">\n",
       "      <th></th>\n",
       "      <th>score</th>\n",
       "    </tr>\n",
       "    <tr>\n",
       "      <th>team</th>\n",
       "      <th></th>\n",
       "    </tr>\n",
       "  </thead>\n",
       "  <tbody>\n",
       "    <tr>\n",
       "      <th>KT</th>\n",
       "      <td>1316</td>\n",
       "    </tr>\n",
       "    <tr>\n",
       "      <th>NC</th>\n",
       "      <td>1285</td>\n",
       "    </tr>\n",
       "    <tr>\n",
       "      <th>WO</th>\n",
       "      <td>1043</td>\n",
       "    </tr>\n",
       "    <tr>\n",
       "      <th>HT</th>\n",
       "      <td>417</td>\n",
       "    </tr>\n",
       "    <tr>\n",
       "      <th>OB</th>\n",
       "      <td>162</td>\n",
       "    </tr>\n",
       "    <tr>\n",
       "      <th>SS</th>\n",
       "      <td>109</td>\n",
       "    </tr>\n",
       "    <tr>\n",
       "      <th>LT</th>\n",
       "      <td>61</td>\n",
       "    </tr>\n",
       "    <tr>\n",
       "      <th>SK</th>\n",
       "      <td>-1</td>\n",
       "    </tr>\n",
       "    <tr>\n",
       "      <th>LG</th>\n",
       "      <td>-718</td>\n",
       "    </tr>\n",
       "    <tr>\n",
       "      <th>HH</th>\n",
       "      <td>-1513</td>\n",
       "    </tr>\n",
       "  </tbody>\n",
       "</table>\n",
       "</div>"
      ],
      "text/plain": [
       "      score\n",
       "team       \n",
       "KT     1316\n",
       "NC     1285\n",
       "WO     1043\n",
       "HT      417\n",
       "OB      162\n",
       "SS      109\n",
       "LT       61\n",
       "SK       -1\n",
       "LG     -718\n",
       "HH    -1513"
      ]
     },
     "execution_count": 7,
     "metadata": {},
     "output_type": "execute_result"
    }
   ],
   "source": [
    "df = pd.read_csv('./data/2020_kbo_news_minning.csv', index_col=0)\n",
    "df.groupby('team')['score'].sum().sort_values(ascending=False).to_frame()"
   ]
  },
  {
   "cell_type": "code",
   "execution_count": 8,
   "metadata": {},
   "outputs": [],
   "source": [
    "df_player = pd.read_excel('./data/player.xlsx', index_col=0)\n",
    "word_list = list(df_player['player_name'][df_player.team_2020.notnull()])\n",
    "word_list.append('')\n",
    "\n",
    "dict_temp_A = dict()\n",
    "for i in word_list:\n",
    "    dict_temp_A[i] = [0]"
   ]
  },
  {
   "cell_type": "code",
   "execution_count": 9,
   "metadata": {},
   "outputs": [],
   "source": [
    "#word_list = ['구창모', '로하스']\n",
    "for j in range(len(df)):\n",
    "    for i in word_list:\n",
    "        if i in df['content'][j]:\n",
    "            dict_temp_A[i][0] += df['score'][j]"
   ]
  },
  {
   "cell_type": "code",
   "execution_count": 10,
   "metadata": {},
   "outputs": [],
   "source": [
    "player_score = pd.DataFrame(dict_temp_A)\n",
    "player_score = player_score.T.reset_index()\n",
    "player_score = player_score.sort_values(0,ascending=False)"
   ]
  },
  {
   "cell_type": "code",
   "execution_count": 161,
   "metadata": {
    "collapsed": true,
    "jupyter": {
     "outputs_hidden": true
    }
   },
   "outputs": [
    {
     "data": {
      "text/html": [
       "<div>\n",
       "<style scoped>\n",
       "    .dataframe tbody tr th:only-of-type {\n",
       "        vertical-align: middle;\n",
       "    }\n",
       "\n",
       "    .dataframe tbody tr th {\n",
       "        vertical-align: top;\n",
       "    }\n",
       "\n",
       "    .dataframe thead th {\n",
       "        text-align: right;\n",
       "    }\n",
       "</style>\n",
       "<table border=\"1\" class=\"dataframe\">\n",
       "  <thead>\n",
       "    <tr style=\"text-align: right;\">\n",
       "      <th></th>\n",
       "      <th>index</th>\n",
       "      <th>0</th>\n",
       "    </tr>\n",
       "  </thead>\n",
       "  <tbody>\n",
       "    <tr>\n",
       "      <th>262</th>\n",
       "      <td>조상우</td>\n",
       "      <td>682</td>\n",
       "    </tr>\n",
       "    <tr>\n",
       "      <th>122</th>\n",
       "      <td>이정후</td>\n",
       "      <td>623</td>\n",
       "    </tr>\n",
       "    <tr>\n",
       "      <th>119</th>\n",
       "      <td>로하스</td>\n",
       "      <td>610</td>\n",
       "    </tr>\n",
       "    <tr>\n",
       "      <th>297</th>\n",
       "      <td>구창모</td>\n",
       "      <td>606</td>\n",
       "    </tr>\n",
       "    <tr>\n",
       "      <th>223</th>\n",
       "      <td>스트레일리</td>\n",
       "      <td>565</td>\n",
       "    </tr>\n",
       "    <tr>\n",
       "      <th>287</th>\n",
       "      <td>김재윤</td>\n",
       "      <td>556</td>\n",
       "    </tr>\n",
       "    <tr>\n",
       "      <th>170</th>\n",
       "      <td>최정</td>\n",
       "      <td>460</td>\n",
       "    </tr>\n",
       "    <tr>\n",
       "      <th>172</th>\n",
       "      <td>양의지</td>\n",
       "      <td>457</td>\n",
       "    </tr>\n",
       "    <tr>\n",
       "      <th>356</th>\n",
       "      <td>오승환</td>\n",
       "      <td>437</td>\n",
       "    </tr>\n",
       "    <tr>\n",
       "      <th>328</th>\n",
       "      <td>알칸타라</td>\n",
       "      <td>419</td>\n",
       "    </tr>\n",
       "    <tr>\n",
       "      <th>50</th>\n",
       "      <td>나성범</td>\n",
       "      <td>414</td>\n",
       "    </tr>\n",
       "    <tr>\n",
       "      <th>323</th>\n",
       "      <td>최채흥</td>\n",
       "      <td>405</td>\n",
       "    </tr>\n",
       "    <tr>\n",
       "      <th>331</th>\n",
       "      <td>요키시</td>\n",
       "      <td>396</td>\n",
       "    </tr>\n",
       "    <tr>\n",
       "      <th>9</th>\n",
       "      <td>알테어</td>\n",
       "      <td>373</td>\n",
       "    </tr>\n",
       "    <tr>\n",
       "      <th>217</th>\n",
       "      <td>소형준</td>\n",
       "      <td>363</td>\n",
       "    </tr>\n",
       "  </tbody>\n",
       "</table>\n",
       "</div>"
      ],
      "text/plain": [
       "     index    0\n",
       "262    조상우  682\n",
       "122    이정후  623\n",
       "119    로하스  610\n",
       "297    구창모  606\n",
       "223  스트레일리  565\n",
       "287    김재윤  556\n",
       "170     최정  460\n",
       "172    양의지  457\n",
       "356    오승환  437\n",
       "328   알칸타라  419\n",
       "50     나성범  414\n",
       "323    최채흥  405\n",
       "331    요키시  396\n",
       "9      알테어  373\n",
       "217    소형준  363"
      ]
     },
     "execution_count": 161,
     "metadata": {},
     "output_type": "execute_result"
    }
   ],
   "source": [
    "player_score[1:16]"
   ]
  },
  {
   "cell_type": "code",
   "execution_count": 159,
   "metadata": {
    "collapsed": true,
    "jupyter": {
     "outputs_hidden": true
    }
   },
   "outputs": [
    {
     "data": {
      "text/html": [
       "<div>\n",
       "<style scoped>\n",
       "    .dataframe tbody tr th:only-of-type {\n",
       "        vertical-align: middle;\n",
       "    }\n",
       "\n",
       "    .dataframe tbody tr th {\n",
       "        vertical-align: top;\n",
       "    }\n",
       "\n",
       "    .dataframe thead th {\n",
       "        text-align: right;\n",
       "    }\n",
       "</style>\n",
       "<table border=\"1\" class=\"dataframe\">\n",
       "  <thead>\n",
       "    <tr style=\"text-align: right;\">\n",
       "      <th></th>\n",
       "      <th>index</th>\n",
       "      <th>0</th>\n",
       "    </tr>\n",
       "  </thead>\n",
       "  <tbody>\n",
       "    <tr>\n",
       "      <th>148</th>\n",
       "      <td>김태균</td>\n",
       "      <td>-469</td>\n",
       "    </tr>\n",
       "    <tr>\n",
       "      <th>201</th>\n",
       "      <td>오선진</td>\n",
       "      <td>-492</td>\n",
       "    </tr>\n",
       "    <tr>\n",
       "      <th>151</th>\n",
       "      <td>박용택</td>\n",
       "      <td>-500</td>\n",
       "    </tr>\n",
       "    <tr>\n",
       "      <th>180</th>\n",
       "      <td>이재원</td>\n",
       "      <td>-506</td>\n",
       "    </tr>\n",
       "    <tr>\n",
       "      <th>203</th>\n",
       "      <td>오지환</td>\n",
       "      <td>-508</td>\n",
       "    </tr>\n",
       "    <tr>\n",
       "      <th>158</th>\n",
       "      <td>이용규</td>\n",
       "      <td>-509</td>\n",
       "    </tr>\n",
       "    <tr>\n",
       "      <th>130</th>\n",
       "      <td>정은원</td>\n",
       "      <td>-518</td>\n",
       "    </tr>\n",
       "    <tr>\n",
       "      <th>206</th>\n",
       "      <td>채은성</td>\n",
       "      <td>-521</td>\n",
       "    </tr>\n",
       "    <tr>\n",
       "      <th>167</th>\n",
       "      <td>오재일</td>\n",
       "      <td>-530</td>\n",
       "    </tr>\n",
       "    <tr>\n",
       "      <th>129</th>\n",
       "      <td>호잉</td>\n",
       "      <td>-554</td>\n",
       "    </tr>\n",
       "    <tr>\n",
       "      <th>38</th>\n",
       "      <td>하주석</td>\n",
       "      <td>-585</td>\n",
       "    </tr>\n",
       "    <tr>\n",
       "      <th>112</th>\n",
       "      <td>최원준</td>\n",
       "      <td>-600</td>\n",
       "    </tr>\n",
       "    <tr>\n",
       "      <th>174</th>\n",
       "      <td>최주환</td>\n",
       "      <td>-705</td>\n",
       "    </tr>\n",
       "    <tr>\n",
       "      <th>319</th>\n",
       "      <td>김민</td>\n",
       "      <td>-958</td>\n",
       "    </tr>\n",
       "    <tr>\n",
       "      <th>142</th>\n",
       "      <td>노시환</td>\n",
       "      <td>-1198</td>\n",
       "    </tr>\n",
       "  </tbody>\n",
       "</table>\n",
       "</div>"
      ],
      "text/plain": [
       "    index     0\n",
       "148   김태균  -469\n",
       "201   오선진  -492\n",
       "151   박용택  -500\n",
       "180   이재원  -506\n",
       "203   오지환  -508\n",
       "158   이용규  -509\n",
       "130   정은원  -518\n",
       "206   채은성  -521\n",
       "167   오재일  -530\n",
       "129    호잉  -554\n",
       "38    하주석  -585\n",
       "112   최원준  -600\n",
       "174   최주환  -705\n",
       "319    김민  -958\n",
       "142   노시환 -1198"
      ]
     },
     "execution_count": 159,
     "metadata": {},
     "output_type": "execute_result"
    }
   ],
   "source": [
    "player_score[-15:]"
   ]
  },
  {
   "cell_type": "code",
   "execution_count": 16,
   "metadata": {},
   "outputs": [],
   "source": [
    "df_player_1 = pd.read_excel('./data/player.xlsx', index_col=0)\n",
    "word_list = list(df_player_1['player_name'][df_player_1.team_2020.notnull()])\n",
    "\n",
    "dict_temp_B = dict()\n",
    "for i in word_list:\n",
    "    dict_temp_B[i] = [0]"
   ]
  },
  {
   "cell_type": "code",
   "execution_count": 18,
   "metadata": {},
   "outputs": [],
   "source": [
    "team_key = {'두산':'OB', '키움':'WO', 'SK':'SK', 'LG':'LG', 'NC':'NC', \n",
    "         'KT':'KT', 'KIA':'HT', '삼성':'SS', '한화':'HH', '롯데':'LT'}\n",
    "df_player_1 = df_player.drop(df_player[df_player.team_2020.isnull()].index)\n",
    "df_player_1['team_2020'] = df_player_1['team_2020'].apply(lambda x: team_key[x])"
   ]
  },
  {
   "cell_type": "code",
   "execution_count": 19,
   "metadata": {},
   "outputs": [],
   "source": [
    "for j in range(len(df)):\n",
    "    for i in word_list:\n",
    "        if (i in df['content'][j]):\n",
    "            if (df['team'][j] == df_player_1['team_2020'][df_player_1.player_name == i].values[0]):\n",
    "                dict_temp_B[i][0] += df['score'][j]"
   ]
  },
  {
   "cell_type": "code",
   "execution_count": 20,
   "metadata": {},
   "outputs": [],
   "source": [
    "player_score = pd.DataFrame(dict_temp_B)\n",
    "player_score = player_score.T.reset_index()\n",
    "player_score = player_score.sort_values(0,ascending=False)"
   ]
  },
  {
   "cell_type": "code",
   "execution_count": 29,
   "metadata": {},
   "outputs": [
    {
     "data": {
      "text/html": [
       "<div>\n",
       "<style scoped>\n",
       "    .dataframe tbody tr th:only-of-type {\n",
       "        vertical-align: middle;\n",
       "    }\n",
       "\n",
       "    .dataframe tbody tr th {\n",
       "        vertical-align: top;\n",
       "    }\n",
       "\n",
       "    .dataframe thead th {\n",
       "        text-align: right;\n",
       "    }\n",
       "</style>\n",
       "<table border=\"1\" class=\"dataframe\">\n",
       "  <thead>\n",
       "    <tr style=\"text-align: right;\">\n",
       "      <th></th>\n",
       "      <th>player_name</th>\n",
       "      <th>news_score</th>\n",
       "    </tr>\n",
       "  </thead>\n",
       "  <tbody>\n",
       "    <tr>\n",
       "      <th>122</th>\n",
       "      <td>이정후</td>\n",
       "      <td>778</td>\n",
       "    </tr>\n",
       "    <tr>\n",
       "      <th>119</th>\n",
       "      <td>로하스</td>\n",
       "      <td>660</td>\n",
       "    </tr>\n",
       "    <tr>\n",
       "      <th>50</th>\n",
       "      <td>나성범</td>\n",
       "      <td>545</td>\n",
       "    </tr>\n",
       "    <tr>\n",
       "      <th>71</th>\n",
       "      <td>배정대</td>\n",
       "      <td>517</td>\n",
       "    </tr>\n",
       "    <tr>\n",
       "      <th>172</th>\n",
       "      <td>양의지</td>\n",
       "      <td>509</td>\n",
       "    </tr>\n",
       "    <tr>\n",
       "      <th>...</th>\n",
       "      <td>...</td>\n",
       "      <td>...</td>\n",
       "    </tr>\n",
       "    <tr>\n",
       "      <th>148</th>\n",
       "      <td>김태균</td>\n",
       "      <td>-425</td>\n",
       "    </tr>\n",
       "    <tr>\n",
       "      <th>38</th>\n",
       "      <td>하주석</td>\n",
       "      <td>-465</td>\n",
       "    </tr>\n",
       "    <tr>\n",
       "      <th>348</th>\n",
       "      <td>송은범</td>\n",
       "      <td>-492</td>\n",
       "    </tr>\n",
       "    <tr>\n",
       "      <th>332</th>\n",
       "      <td>라이블리</td>\n",
       "      <td>-530</td>\n",
       "    </tr>\n",
       "    <tr>\n",
       "      <th>142</th>\n",
       "      <td>노시환</td>\n",
       "      <td>-818</td>\n",
       "    </tr>\n",
       "  </tbody>\n",
       "</table>\n",
       "<p>387 rows × 2 columns</p>\n",
       "</div>"
      ],
      "text/plain": [
       "    player_name  news_score\n",
       "122         이정후         778\n",
       "119         로하스         660\n",
       "50          나성범         545\n",
       "71          배정대         517\n",
       "172         양의지         509\n",
       "..          ...         ...\n",
       "148         김태균        -425\n",
       "38          하주석        -465\n",
       "348         송은범        -492\n",
       "332        라이블리        -530\n",
       "142         노시환        -818\n",
       "\n",
       "[387 rows x 2 columns]"
      ]
     },
     "execution_count": 29,
     "metadata": {},
     "output_type": "execute_result"
    }
   ],
   "source": [
    "player_score.columns = ['player_name', 'news_score']\n",
    "player_score"
   ]
  },
  {
   "cell_type": "code",
   "execution_count": 27,
   "metadata": {},
   "outputs": [],
   "source": [
    "def player_score_add (news_df, data_df, year):\n",
    "    df_player = pd.read_excel('./data/player.xlsx', index_col=0)\n",
    "    df_player_list = list(df_player['player_name'][df_player[year].notnull()])\n",
    "    dict_player = dict()\n",
    "    for i in df_player_list:\n",
    "        dict_player[i] = [0]\n",
    "    team_key = {'두산':'OB', '키움':'WO', 'SK':'SK', 'LG':'LG', 'NC':'NC', \n",
    "         'KT':'KT', 'KIA':'HT', '삼성':'SS', '한화':'HH', '롯데':'LT'}\n",
    "    df_player_1 = df_player.drop(df_player[df_player[year].isnull()].index)\n",
    "    df_player_1[year] = df_player_1[year].apply(lambda x: team_key[x])\n",
    "    \n",
    "    for j in range(len(news_df)):\n",
    "        for i in df_player_list:\n",
    "            if (i in news_df['content'][j]):\n",
    "                if (news_df['team'][j] == df_player_1[year][df_player_1.player_name == i].values[0]):\n",
    "                    dict_player[i][0] += news_df['score'][j]\n",
    "\n",
    "    player_score = pd.DataFrame(dict_player)\n",
    "    player_score = player_score.T.reset_index()\n",
    "    player_score.columns = ['player_name', 'news_score']\n",
    "    \n",
    "    df = pd.merge(data_df, player_score, on='player_name', how='left')\n",
    "    return df"
   ]
  },
  {
   "cell_type": "code",
   "execution_count": 41,
   "metadata": {},
   "outputs": [],
   "source": [
    "#for i in range(2016, 2021) :\n",
    "news_df = pd.read_csv('./data/2020_kbo_news_minning.csv', index_col=0) # 'news_{}.xlsx'.format(i )\n",
    "data_df = pd.read_excel('./data/kbo_hitter_today_20200722.xlsx', index_col=0) # 'data_{}.xlsx'.format(i)\n",
    "df_team_rank = pd.read_excel('./data/team_win.xlsx', index_col=0)"
   ]
  },
  {
   "cell_type": "code",
   "execution_count": 35,
   "metadata": {},
   "outputs": [],
   "source": [
    "# MySQL Connection 연결\n",
    "conn = pymysql.connect(host='49.247.132.235', user='kbo_db', password='1234', db='kbo_data_db', charset='utf8')\n",
    "# Connection 으로부터 Cursor 생성\n",
    "curs = conn.cursor()\n",
    "sql = '''SELECT * from kbo_pitcher_player;'''   \n",
    "curs.execute(sql)\n",
    "rows = curs.fetchall()\n",
    "df_pit_name = pd.DataFrame(rows)\n",
    "sql = '''SELECT * from kbo_hitter_player;'''   \n",
    "curs.execute(sql)\n",
    "rows = curs.fetchall()\n",
    "df_hit_name = pd.DataFrame(rows)\n",
    "conn.close()"
   ]
  },
  {
   "cell_type": "code",
   "execution_count": 36,
   "metadata": {},
   "outputs": [],
   "source": [
    "df_hit_name.columns=['player_id', 'player_name']\n",
    "df_2020_hit_m = pd.merge(data_df, df_hit_name, on = 'player_id', how = 'left')\n",
    "df_2020_hit_m = df_2020_hit_m.dropna()\n",
    "team_year_rank = df_team_rank[df_team_rank[0] == 2020]\n",
    "df_2020_hit_m['player_team'] = df_2020_hit_m['player_team'].apply(lambda x: team_year_rank[1][x == team_year_rank[2]].values[0])\n",
    "df_2020_hit_m = df_2020_hit_m.drop(['player_id', 'player_year'], axis=1)\n",
    "df_2020_hit_m = df_2020_hit_m.apply(lambda x: x.replace('-','0')) "
   ]
  },
  {
   "cell_type": "code",
   "execution_count": 37,
   "metadata": {},
   "outputs": [],
   "source": [
    "temp_df_1 = player_score_add(news_df ,df_2020_hit_m ,'team_2020')# 'team_{}'.format(i)"
   ]
  },
  {
   "cell_type": "code",
   "execution_count": 40,
   "metadata": {},
   "outputs": [],
   "source": [
    "temp_df_1.to_excel('./data/감성분석_ex.xlsx')"
   ]
  },
  {
   "cell_type": "code",
   "execution_count": null,
   "metadata": {},
   "outputs": [],
   "source": []
  },
  {
   "cell_type": "code",
   "execution_count": null,
   "metadata": {},
   "outputs": [],
   "source": []
  },
  {
   "cell_type": "code",
   "execution_count": null,
   "metadata": {},
   "outputs": [],
   "source": []
  },
  {
   "cell_type": "code",
   "execution_count": null,
   "metadata": {},
   "outputs": [],
   "source": []
  },
  {
   "cell_type": "code",
   "execution_count": null,
   "metadata": {},
   "outputs": [],
   "source": []
  },
  {
   "cell_type": "code",
   "execution_count": 262,
   "metadata": {},
   "outputs": [
    {
     "data": {
      "text/plain": [
       "<BarContainer object of 387 artists>"
      ]
     },
     "execution_count": 262,
     "metadata": {},
     "output_type": "execute_result"
    },
    {
     "data": {
      "image/png": "[encoded data removed]",
      "text/plain": [
       "<Figure size 1080x720 with 1 Axes>"
      ]
     },
     "metadata": {
      "needs_background": "light"
     },
     "output_type": "display_data"
    }
   ],
   "source": [
    "plt.figure(figsize=(15,10))\n",
    "plt.bar(list(player_score.set_index('index').index), list(player_score.set_index('index')[0].values))"
   ]
  },
  {
   "cell_type": "code",
   "execution_count": null,
   "metadata": {},
   "outputs": [],
   "source": []
  }
 ],
 "metadata": {
  "kernelspec": {
   "display_name": "Python 3",
   "language": "python",
   "name": "python3"
  },
  "language_info": {
   "codemirror_mode": {
    "name": "ipython",
    "version": 3
   },
   "file_extension": ".py",
   "mimetype": "text/x-python",
   "name": "python",
   "nbconvert_exporter": "python",
   "pygments_lexer": "ipython3",
   "version": "3.7.6"
  }
 },
 "nbformat": 4,
 "nbformat_minor": 4
}
