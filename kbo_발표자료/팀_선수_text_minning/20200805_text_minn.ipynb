{
 "cells": [
  {
   "cell_type": "code",
   "execution_count": 2,
   "metadata": {},
   "outputs": [],
   "source": [
    "import pandas as pd\n",
    "import numpy as np\n",
    "from matplotlib import pyplot as plt\n",
    "import matplotlib.font_manager as fm\n",
    "import datetime\n",
    "import re"
   ]
  },
  {
   "cell_type": "code",
   "execution_count": 3,
   "metadata": {},
   "outputs": [],
   "source": [
    "mpl.rcParams['axes.unicode_minus'] = False\n",
    "path = 'C:/Windows/Fonts/malgun.ttf'\n",
    "font_name = fm.FontProperties(fname=path, size=50).get_name()\n",
    "plt.rc('font', family=font_name)\n",
    "plt.rcParams['figure.figsize'] = (15,5)\n",
    "plt.rcParams['font.size'] = 14"
   ]
  },
  {
   "cell_type": "code",
   "execution_count": 43,
   "metadata": {},
   "outputs": [],
   "source": [
    "# 불용어 사전 리스트\n",
    "def stopwords_list():\n",
    "    f = open('./data/stopwords-ko.txt',encoding='utf-8')\n",
    "    word = f.read()\n",
    "    word = word.split('\\n')\n",
    "    return word\n",
    "#불용어 및 전처리 작업 리스트\n",
    "def preprocessing(text):\n",
    "    sample_text = re.sub('[^가-힣ㄱ-ㅎㅏ-ㅣ]', ' ', text)\n",
    "    sample_text = re.sub(' +', ' ', sample_text)\n",
    "    tokens = sample_text.split(' ')\n",
    "    stop_words = stopwords_list()\n",
    "    tokens = [w for w in tokens if not w in stop_words]\n",
    "    tokens = [w for w in tokens if len(w) > 1]\n",
    "    return ' '.join(tokens)\n",
    "#해당 텍스트 명사만 추출\n",
    "def rtn_nouns(text):    \n",
    "    okt = Okt()\n",
    "    test_text = okt.nouns(text)\n",
    "    return test_text    \n",
    "#부정 감정 단어 리스트\n",
    "def get_nge_words():\n",
    "    f = open('./data/neg_pol_word.txt',encoding='utf-8')\n",
    "    nge_words = f.read()\n",
    "    nge_words = nge_words.split('\\n')\n",
    "    return nge_words\n",
    "#긍정 감정 단어 리스트\n",
    "def get_pos_words():\n",
    "    f = open('./data/pos_pol_word.txt',encoding='utf-8')\n",
    "    pos_words = f.read()\n",
    "    pos_words = pos_words.split('\\n')\n",
    "    return pos_words\n",
    "#해당 텍스트를 긍정,부정,그외 타입으로 나누어\n",
    "#긍정은 +1,부정은 -1,그외는 0점으로 하여 점수 계산\n",
    "def text_minning(x):\n",
    "    news_nge_key = []\n",
    "    news_pos_key = []\n",
    "    news_no_key = []\n",
    "    score = 0    \n",
    "    #해당 텍스트의 전처리 작업\n",
    "    test_text = preprocessing(x)    \n",
    "    #전처리 텍스트의 명사만 추출\n",
    "    test_text = rtn_nouns(test_text)    \n",
    "    #부정단어 사전 추출\n",
    "    nge_words = get_nge_words()    \n",
    "    #긍정단어 사전 추출\n",
    "    pos_words = get_pos_words()    \n",
    "    #해당 텍스트 긍정,부정 작업\n",
    "    for text in test_text:\n",
    "        if text in nge_words:\n",
    "            news_nge_key.append(text)\n",
    "            score -= 1\n",
    "        elif text in pos_words:\n",
    "            news_pos_key.append(text)\n",
    "            score += 1\n",
    "        else:\n",
    "            news_no_key.append(text)\n",
    "            score += 0    \n",
    "    nge_keyword = ','.join(news_nge_key)\n",
    "    pos_keyword = ','.join(news_pos_key)\n",
    "    no_key_word = ','.join(news_no_key)    \n",
    "#     점수,부정,긍정,그외단어 순으로 리턴\n",
    "#     return score,nge_keyword,pos_keyword,no_key_word\n",
    "    return score"
   ]
  },
  {
   "cell_type": "code",
   "execution_count": 57,
   "metadata": {},
   "outputs": [
    {
     "name": "stdout",
     "output_type": "stream",
     "text": [
      "17시-25분-31초\n",
      "time : 1033.5305533409119\n"
     ]
    }
   ],
   "source": [
    "df['score'] = df.content.apply(text_minning)"
   ]
  },
  {
   "cell_type": "code",
   "execution_count": 60,
   "metadata": {},
   "outputs": [],
   "source": [
    "df.to_csv('./2020_kbo_news_minning.csv',encoding='utf-8-sig')"
   ]
  },
  {
   "cell_type": "code",
   "execution_count": null,
   "metadata": {},
   "outputs": [],
   "source": []
  },
  {
   "cell_type": "code",
   "execution_count": 8,
   "metadata": {},
   "outputs": [],
   "source": [
    "df = pd.read_csv('./data/2020_kbo_news_minning.csv', index_col=0)"
   ]
  },
  {
   "cell_type": "code",
   "execution_count": 12,
   "metadata": {},
   "outputs": [],
   "source": [
    "df = df.drop('Unnamed: 0.1', axis=1)"
   ]
  },
  {
   "cell_type": "code",
   "execution_count": 41,
   "metadata": {},
   "outputs": [
    {
     "name": "stdout",
     "output_type": "stream",
     "text": [
      "오지환\n"
     ]
    },
    {
     "data": {
      "text/plain": [
       "-508"
      ]
     },
     "execution_count": 41,
     "metadata": {},
     "output_type": "execute_result"
    }
   ],
   "source": [
    "print('오지환')\n",
    "df[df['content'].apply(lambda x: '오지환' in x)]['score'].sum()"
   ]
  },
  {
   "cell_type": "code",
   "execution_count": 42,
   "metadata": {},
   "outputs": [
    {
     "name": "stdout",
     "output_type": "stream",
     "text": [
      "구창모\n"
     ]
    },
    {
     "data": {
      "text/plain": [
       "606"
      ]
     },
     "execution_count": 42,
     "metadata": {},
     "output_type": "execute_result"
    }
   ],
   "source": [
    "print('구창모')\n",
    "df[df['content'].apply(lambda x: '구창모' in x)]['score'].sum()        "
   ]
  },
  {
   "cell_type": "code",
   "execution_count": 43,
   "metadata": {},
   "outputs": [
    {
     "name": "stdout",
     "output_type": "stream",
     "text": [
      "로하스\n"
     ]
    },
    {
     "data": {
      "text/plain": [
       "610"
      ]
     },
     "execution_count": 43,
     "metadata": {},
     "output_type": "execute_result"
    }
   ],
   "source": [
    "print('로하스')\n",
    "df[df['content'].apply(lambda x: '로하스' in x)]['score'].sum()        "
   ]
  },
  {
   "cell_type": "code",
   "execution_count": 45,
   "metadata": {},
   "outputs": [
    {
     "name": "stdout",
     "output_type": "stream",
     "text": [
      "알칸타라\n"
     ]
    },
    {
     "data": {
      "text/plain": [
       "419"
      ]
     },
     "execution_count": 45,
     "metadata": {},
     "output_type": "execute_result"
    }
   ],
   "source": [
    "print('알칸타라')\n",
    "df[df['content'].apply(lambda x: '알칸타라' in x)]['score'].sum()        "
   ]
  },
  {
   "cell_type": "code",
   "execution_count": 44,
   "metadata": {},
   "outputs": [
    {
     "data": {
      "text/plain": [
       "1"
      ]
     },
     "execution_count": 44,
     "metadata": {},
     "output_type": "execute_result"
    }
   ],
   "source": [
    "df[df['content'].apply(lambda x: '김현수' in x)]['score'].sum()"
   ]
  },
  {
   "cell_type": "code",
   "execution_count": null,
   "metadata": {},
   "outputs": [],
   "source": [
    "for i in []\n",
    "\n",
    "df['content'].apply(lambda x: '오지환' in x)"
   ]
  },
  {
   "cell_type": "code",
   "execution_count": 74,
   "metadata": {},
   "outputs": [],
   "source": [
    "df_player = pd.read_excel('./data/player.xlsx', index_col=0)"
   ]
  },
  {
   "cell_type": "code",
   "execution_count": 77,
   "metadata": {},
   "outputs": [],
   "source": [
    "word_list = list(df_player.player_name)"
   ]
  },
  {
   "cell_type": "code",
   "execution_count": 80,
   "metadata": {},
   "outputs": [
    {
     "data": {
      "text/plain": [
       "['최주환', '폴']"
      ]
     },
     "execution_count": 80,
     "metadata": {},
     "output_type": "execute_result"
    }
   ],
   "source": [
    "#word_list = ['구창모', '로하스']\n",
    "list_a = []\n",
    "for j in range(len(df)):\n",
    "    for i in word_list:\n",
    "        if i in df['content'][j]:\n",
    "            list_a.append(i)\n",
    "            break\n",
    "list_a"
   ]
  },
  {
   "cell_type": "code",
   "execution_count": 82,
   "metadata": {},
   "outputs": [
    {
     "data": {
      "text/plain": [
       "'5일 전국 5개 구장서 KBO 리그 일제히 시작응원단도 마스크 쓰고 응원…외신들 취재 열기잠실 ‘어린이날 매치’서 LG 예상 깨고 두산에 승김 연합뉴스2020 신한은행 쏠(SOL) 케이비오(KBO)리그 개막일인 5일 오전 11시, 지하철 2호선 종합운동장역 화장실은 텅텅 비어 있었다. 생수와 먹거리를 사려는 편의점 앞 긴 줄도 없었다. 5번 출구로 나가면 제일 먼저 보였던, 김밥과 떡 등을 팔던 노점도 보이지 않았다. 을씨년한 보슬비만 내릴 뿐이었다. 어린이날에 항상 맞붙어, 만원관중을 동원하며 야구계의 ‘엘 클라시코’라 불리던 엘지(LG)-두산의 경기는 코로나19 여파로 인한 무관중 경기라는 초유의 상황에서 시작했다.취재진들도 야구장에 입장하기 전에 발열 체크를 했다. 소속사, 이름, 전화번호, 입장 시간을 적은 뒤 마스크 착용 여부를 확인한 뒤 들어갈 수 있었다. 기자실 안에서도 한자리씩 띄어 앉도록 했다. 경기에 앞서 케이비오 정운찬 총재는 리그 개막 메시지를 발표했다. 정 총재는 “9.11 테러 때도, 보스턴 마라톤 테러 때도, 일본 대지진 때도 야구는 언제나 팬들의 곁에 있으면서 슬픔을 위로하고 희망과 감동을 선사했다”며 “세계가 코로나 19의 공포와 충격에 빠져 있는 2020년, 야구는 다시 한번 희망이 될 것이다”라고 소감을 밝혔다. 그동안 엘지는 어린이날 두산만 만나면 약했다. 총 23번의 ‘어린이날 매치’가 있었는데, 그 가운데 9번만 이겼다. 지난 2년 동안에는 모두 졌다. 이를 만회하려는 듯 엘지 선수들은 경기 전 근육을 유연하게 만들었고, 마음도 다잡았다.지각 개막 소감을 묻는 질문에 엘지 류중일 감독은 “코로나19로 시즌 시작이 좀 늦었지만, 다행이라 생각한다. 144게임을 하려면 일정이 빠듯할 거 같다. 선수들에게 부상과 체력 관리 신경쓰라고 얘기했다”고 말했다. 두산 김태형 감독은 “이런 경험은 처음이다. 선수들 컨디션이 좀 처지는 문제도 있다. 하지만 (다른 시즌과) 똑같이 하면 된다”고 밝혔다. 시구도 동영상으로 대체됐다. 홈팀 엘지는 팬들의 응원가 영상과 어린이 회원인 ‘엘린이’ 소속 어린이의 시구 영상을 경기장 화면에 내보냈다. 관중은 없었지만, 엘지 응원단이 마스크를 쓰고 나와 율동을 하며 선수들의 힘을 북돋았다. 선수를 소개하는 장내 아나운서는 만원 관중이 있는 것처럼 흥분된 목소리였다. 이런 풍경을 담는 미국, 일본 등서 온 외신 취재진의 모습도 분주했다. 오후 2시 정확한 시간에 경기는 시작했다. 관중이 없기 때문일까. 긴장감이 떨어지는 것은 어쩔 수 없었다. 운동장엔 적막한 순간이 더 많았다. 홈팀 엘지가 공격할 때 “파이팅”을 외치는 응원단의 목소리는 쩌렁쩌렁 울렸지만, 만원 관중의 흥분감은 느껴지지는 않았다. 포수 미트에 공이 박힐 때 “퍽”, 공이 배트에 맞을 때 “딱”소리가 유난히 크게 들렸다. 양 팀 더그아웃에서 나오는 격려의 박수는 더 커진 듯 했다. 케이비오 권고에 따라 주루 코치와 심판은 마스크를 착용했고, 선수들은 침을 뱉는 등의 감염 유발 행위를 하지 않았다. 경기는 엘지의 8-2 승. 3회말 두산 출신인 엘지 김 올 시즌 1호 홈런. 엘지의 선발 차우찬은 6이닝 1실점으로 승리투수가 됐다. 반면 두산은 4회초 김재환의 솔로 홈런 뒤 주자 1루 상황서 병살타가 나온 게 뼈아팠다. 긴장감은 떨어졌지만 양 팀 선수들은 2시간 49분동안 열심히 치고, 던지고, 달렸다.한편, 한화는 인천 원정에서 외국인 최초로 개막전 완봉승을 거둔 서폴드의 투구로 에스케이(SK)를 3-0으로 이겼다. 에이스의 맞대결로 관심을 모았던 광주 경기에선 기아의 양이정국 기자 두산 2-8 엘지, 에스케이 0-3 한화, 기아 2-11 키움, 삼성 0-4 엔씨, 케이티 2-7 롯데▶네이버 뉴스판에서 한겨레21을 구독하세요!▶신문 구독신청▶코로나 절벽에 선 사람들\\r\\n기사제공 한겨레'"
      ]
     },
     "execution_count": 82,
     "metadata": {},
     "output_type": "execute_result"
    }
   ],
   "source": [
    "df['content'][1]"
   ]
  },
  {
   "cell_type": "code",
   "execution_count": 65,
   "metadata": {},
   "outputs": [
    {
     "data": {
      "text/plain": [
       "['구창모', '로하스']"
      ]
     },
     "execution_count": 65,
     "metadata": {},
     "output_type": "execute_result"
    }
   ],
   "source": [
    "word_list = ['구창모', '로하스']\n",
    "\n",
    "string = '구창모 로하스 오지환'\n",
    "\n",
    "#[word if any(word in string for word in word_list)]    \n",
    "list_a = []\n",
    "for i in word_list:\n",
    "    for  i in df['content']:\n",
    "        list_a.append(i)\n",
    "list_a"
   ]
  },
  {
   "cell_type": "code",
   "execution_count": 54,
   "metadata": {},
   "outputs": [
    {
     "data": {
      "text/html": [
       "<div>\n",
       "<style scoped>\n",
       "    .dataframe tbody tr th:only-of-type {\n",
       "        vertical-align: middle;\n",
       "    }\n",
       "\n",
       "    .dataframe tbody tr th {\n",
       "        vertical-align: top;\n",
       "    }\n",
       "\n",
       "    .dataframe thead th {\n",
       "        text-align: right;\n",
       "    }\n",
       "</style>\n",
       "<table border=\"1\" class=\"dataframe\">\n",
       "  <thead>\n",
       "    <tr style=\"text-align: right;\">\n",
       "      <th></th>\n",
       "      <th>score</th>\n",
       "    </tr>\n",
       "    <tr>\n",
       "      <th>team</th>\n",
       "      <th></th>\n",
       "    </tr>\n",
       "  </thead>\n",
       "  <tbody>\n",
       "    <tr>\n",
       "      <th>KT</th>\n",
       "      <td>1316</td>\n",
       "    </tr>\n",
       "    <tr>\n",
       "      <th>NC</th>\n",
       "      <td>1285</td>\n",
       "    </tr>\n",
       "    <tr>\n",
       "      <th>WO</th>\n",
       "      <td>1043</td>\n",
       "    </tr>\n",
       "    <tr>\n",
       "      <th>HT</th>\n",
       "      <td>417</td>\n",
       "    </tr>\n",
       "    <tr>\n",
       "      <th>OB</th>\n",
       "      <td>162</td>\n",
       "    </tr>\n",
       "    <tr>\n",
       "      <th>SS</th>\n",
       "      <td>109</td>\n",
       "    </tr>\n",
       "    <tr>\n",
       "      <th>LT</th>\n",
       "      <td>61</td>\n",
       "    </tr>\n",
       "    <tr>\n",
       "      <th>SK</th>\n",
       "      <td>-1</td>\n",
       "    </tr>\n",
       "    <tr>\n",
       "      <th>LG</th>\n",
       "      <td>-718</td>\n",
       "    </tr>\n",
       "    <tr>\n",
       "      <th>HH</th>\n",
       "      <td>-1513</td>\n",
       "    </tr>\n",
       "  </tbody>\n",
       "</table>\n",
       "</div>"
      ],
      "text/plain": [
       "      score\n",
       "team       \n",
       "KT     1316\n",
       "NC     1285\n",
       "WO     1043\n",
       "HT      417\n",
       "OB      162\n",
       "SS      109\n",
       "LT       61\n",
       "SK       -1\n",
       "LG     -718\n",
       "HH    -1513"
      ]
     },
     "execution_count": 54,
     "metadata": {},
     "output_type": "execute_result"
    }
   ],
   "source": [
    "df.groupby('team')['score'].sum().sort_values(ascending=False).to_frame()"
   ]
  },
  {
   "cell_type": "code",
   "execution_count": null,
   "metadata": {},
   "outputs": [],
   "source": []
  }
 ],
 "metadata": {
  "kernelspec": {
   "display_name": "Python 3",
   "language": "python",
   "name": "python3"
  },
  "language_info": {
   "codemirror_mode": {
    "name": "ipython",
    "version": 3
   },
   "file_extension": ".py",
   "mimetype": "text/x-python",
   "name": "python",
   "nbconvert_exporter": "python",
   "pygments_lexer": "ipython3",
   "version": "3.7.6"
  }
 },
 "nbformat": 4,
 "nbformat_minor": 4
}
