{
 "cells": [
  {
   "cell_type": "code",
   "execution_count": 3,
   "metadata": {},
   "outputs": [],
   "source": [
    "import pandas as pd\n",
    "import numpy as np\n",
    "from matplotlib import pyplot as plt\n",
    "import matplotlib as mpl\n",
    "import matplotlib.font_manager as fm\n",
    "import seaborn as sns\n",
    "import pymysql\n",
    "import requests\n",
    "from bs4 import BeautifulSoup\n",
    "\n",
    "mpl.rcParams['axes.unicode_minus'] = False\n",
    "path = 'C:/Windows/Fonts/malgun.ttf'\n",
    "font_name = fm.FontProperties(fname=path, size=50).get_name()\n",
    "plt.rc('font', family=font_name)\n",
    "\n",
    "plt.rcParams['figure.figsize'] = (15,5)\n",
    "plt.rcParams['font.size'] = 14"
   ]
  },
  {
   "cell_type": "code",
   "execution_count": 4,
   "metadata": {},
   "outputs": [],
   "source": [
    "conn = pymysql.connect(host='49.247.132.235', user='kbo_db', password='1234',\n",
    "                       db='kbo_data_db', charset='utf8')"
   ]
  },
  {
   "cell_type": "code",
   "execution_count": 5,
   "metadata": {},
   "outputs": [],
   "source": [
    "curs = conn.cursor(pymysql.cursors.DictCursor)"
   ]
  },
  {
   "cell_type": "code",
   "execution_count": 6,
   "metadata": {},
   "outputs": [],
   "source": [
    "url = 'https://www.koreabaseball.com/History/Etc/PlayerPrize.aspx'"
   ]
  },
  {
   "cell_type": "code",
   "execution_count": 7,
   "metadata": {},
   "outputs": [],
   "source": [
    "res = requests.get(url)"
   ]
  },
  {
   "cell_type": "code",
   "execution_count": 8,
   "metadata": {},
   "outputs": [],
   "source": [
    "bs = BeautifulSoup(res.text,'html.parser')"
   ]
  },
  {
   "cell_type": "code",
   "execution_count": 11,
   "metadata": {},
   "outputs": [],
   "source": [
    "# name #contents > div.sub-content > table > tbody > tr > td:nth-child(3)\n",
    "# year #contents > div.sub-content > table > tbody > tr > td:nth-child(1)"
   ]
  },
  {
   "cell_type": "code",
   "execution_count": 53,
   "metadata": {},
   "outputs": [],
   "source": [
    "trs = bs.select('#contents > div.sub-content > table > tbody > tr')\n",
    "sin_dic = {}\n",
    "for tr in trs:\n",
    "    year = tr.select('td:nth-child(1)')[0].text\n",
    "    if '1982' != year:\n",
    "        player = []\n",
    "        play = tr.select('td:nth-child(3)')[0].text.split('(')\n",
    "        name = play[0]\n",
    "        data = play[1].replace(')','').split(',')\n",
    "        player.append(name)\n",
    "        player.extend(data)\n",
    "        sin_dic[year] = player"
   ]
  },
  {
   "cell_type": "code",
   "execution_count": 54,
   "metadata": {},
   "outputs": [
    {
     "data": {
      "text/plain": [
       "{'2019': ['정우영', 'LG', '투수'],\n",
       " '2018': ['강백호', 'KT', '외야수'],\n",
       " '2017': ['이정후', '넥센', '내야수'],\n",
       " '2016': ['신재영', '넥센', '투수'],\n",
       " '2015': ['구자욱', '삼성', '내야수'],\n",
       " '2014': ['박민우', 'NC', '내야수'],\n",
       " '2013': ['이재학', 'NC', '투수'],\n",
       " '2012': ['서건창', '넥센', '내야수'],\n",
       " '2011': ['배영섭', '삼성', '외야수'],\n",
       " '2010': ['양의지', '두산', '포수'],\n",
       " '2009': ['이용찬', '두산', '투수'],\n",
       " '2008': ['최형우', '삼성', '외야수'],\n",
       " '2007': ['임태훈', '두산', '투수'],\n",
       " '2006': ['류현진', '한화', '투수'],\n",
       " '2005': ['오승환', '삼성', '투수'],\n",
       " '2004': ['오재영', '현대', '투수'],\n",
       " '2003': ['이동학', '현대', '투수'],\n",
       " '2002': ['조용준', '현대', '투수'],\n",
       " '2001': ['김태균', '한화', '내야수'],\n",
       " '2000': ['이승호', 'SK', '투수'],\n",
       " '1999': ['홍성흔', '두산', '포수'],\n",
       " '1998': ['김수경', '현대', '투수'],\n",
       " '1997': ['이병규', 'LG', '외야수'],\n",
       " '1996': ['박재홍', '현대', '외야수'],\n",
       " '1995': ['이동수', '삼성', '내야수'],\n",
       " '1994': ['유지현', 'LG', '내야수'],\n",
       " '1993': ['양준혁', '삼성', '내야수'],\n",
       " '1992': ['염종석', '롯데', '투수'],\n",
       " '1991': ['조규제', '쌍방울', '투수'],\n",
       " '1990': ['김동수', 'LG', '포수'],\n",
       " '1989': ['박정현', '태평양', '투수'],\n",
       " '1988': ['이용철', 'MBC', '투수'],\n",
       " '1987': ['이정훈', '빙그레', '외야수'],\n",
       " '1986': ['김건우', 'MBC', '투수'],\n",
       " '1985': ['이순철', '해태', '내야수'],\n",
       " '1984': ['윤석환', 'OB', '투수'],\n",
       " '1983': ['박종훈', 'OB', '외야수']}"
      ]
     },
     "execution_count": 54,
     "metadata": {},
     "output_type": "execute_result"
    }
   ],
   "source": [
    "sin_dic"
   ]
  }
 ],
 "metadata": {
  "kernelspec": {
   "display_name": "Python 3",
   "language": "python",
   "name": "python3"
  },
  "language_info": {
   "codemirror_mode": {
    "name": "ipython",
    "version": 3
   },
   "file_extension": ".py",
   "mimetype": "text/x-python",
   "name": "python",
   "nbconvert_exporter": "python",
   "pygments_lexer": "ipython3",
   "version": "3.7.6"
  }
 },
 "nbformat": 4,
 "nbformat_minor": 4
}
