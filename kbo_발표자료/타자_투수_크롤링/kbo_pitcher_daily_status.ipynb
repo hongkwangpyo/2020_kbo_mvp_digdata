{
 "cells": [
  {
   "cell_type": "code",
   "execution_count": 2,
   "metadata": {},
   "outputs": [],
   "source": [
    "import pandas as pd\n",
    "import requests\n",
    "from selenium import webdriver\n",
    "from selenium.webdriver.support.ui import Select\n",
    "from bs4 import BeautifulSoup\n",
    "import time\n",
    "import pymysql"
   ]
  },
  {
   "cell_type": "code",
   "execution_count": 16,
   "metadata": {},
   "outputs": [],
   "source": [
    "conn = pymysql.connect(host='49.247.132.235', user='kbo_db', password='1234',\n",
    "                       db='kbo_data_db', charset='utf8')"
   ]
  },
  {
   "cell_type": "code",
   "execution_count": 17,
   "metadata": {},
   "outputs": [],
   "source": [
    "curs = conn.cursor(pymysql.cursors.DictCursor)"
   ]
  },
  {
   "cell_type": "code",
   "execution_count": 18,
   "metadata": {},
   "outputs": [],
   "source": [
    "sql = '''\n",
    "select player_id\n",
    ",group_concat(player_year SEPARATOR ',') as year \n",
    "from kbo_pitcher_total_status\n",
    "group by  player_id;\n",
    "'''"
   ]
  },
  {
   "cell_type": "code",
   "execution_count": 19,
   "metadata": {},
   "outputs": [
    {
     "data": {
      "text/plain": [
       "183"
      ]
     },
     "execution_count": 19,
     "metadata": {},
     "output_type": "execute_result"
    }
   ],
   "source": [
    "curs.execute(sql)"
   ]
  },
  {
   "cell_type": "code",
   "execution_count": 20,
   "metadata": {},
   "outputs": [],
   "source": [
    "rows = curs.fetchall()"
   ]
  },
  {
   "cell_type": "code",
   "execution_count": 21,
   "metadata": {},
   "outputs": [
    {
     "data": {
      "text/plain": [
       "183"
      ]
     },
     "execution_count": 21,
     "metadata": {},
     "output_type": "execute_result"
    }
   ],
   "source": [
    "play_info = {}\n",
    "for row in rows:\n",
    "    play_info[row['player_id']] = row['year'].split(',')\n",
    "len(play_info)"
   ]
  },
  {
   "cell_type": "code",
   "execution_count": 22,
   "metadata": {},
   "outputs": [
    {
     "name": "stdout",
     "output_type": "stream",
     "text": [
      "============================== start ==============================\n",
      "13 - 5 - 4\n",
      "============================== 종료 ==============================\n",
      "13 - 5 - 4\n"
     ]
    }
   ],
   "source": [
    "driver = webdriver.Chrome('E:/BigData/BigData/driver/chromedriver.exe')\n",
    "print('='*30,'start','='*30)\n",
    "now = time.localtime()\n",
    "print(now.tm_hour,'-',now.tm_min, '-',now.tm_sec)\n",
    "err_sql=[]\n",
    "for player_id,years in play_info.items():\n",
    "    try:\n",
    "        sql=''\n",
    "        url = 'https://www.koreabaseball.com/Record/Player/PitcherDetail/Daily.aspx?playerId={}'.format(player_id)\n",
    "        driver.get(url)\n",
    "        time.sleep(1)\n",
    "        for year in years:\n",
    "            select = Select(driver.find_element_by_id('cphContents_cphContents_cphContents_ddlYear'))\n",
    "            select.select_by_value(str(year))\n",
    "            time.sleep(1)\n",
    "            html = driver.page_source\n",
    "            bs = BeautifulSoup(html,'html.parser')\n",
    "            trs = bs.select('#contents > div.sub-content > div.player_records > div > table > tbody > tr')\n",
    "            for tr in trs:\n",
    "                data_list = []\n",
    "                tds = tr.select('td')\n",
    "                for td in tds:\n",
    "                    data_list.append(td.text)\n",
    "                month_day = data_list[0]\n",
    "                month = month_day.split('.')[0]\n",
    "                day = month_day.split('.')[1]\n",
    "                sql = '''\n",
    "                insert into kbo_pitcher_daily_status values({},'{}','{}','{}','{}','{}','{}','{}','{}'\n",
    "                ,'{}','{}','{}','{}','{}','{}','{}','{}','{}');\n",
    "                '''.format(player_id,year,month,day,data_list[1],data_list[2],data_list[3],data_list[4]\n",
    "                           ,data_list[5],data_list[6],data_list[7],data_list[8]\n",
    "                           ,data_list[9],data_list[10],data_list[11],data_list[12]\n",
    "                           ,data_list[13],data_list[14])\n",
    "                curs.execute(sql)\n",
    "            time.sleep(1)\n",
    "    except:\n",
    "        err_sql.append(sql)\n",
    "        pass\n",
    "print('='*30,'종료','='*30)\n",
    "print(now.tm_hour,'-',now.tm_min,'-',now.tm_sec)"
   ]
  },
  {
   "cell_type": "code",
   "execution_count": 13,
   "metadata": {},
   "outputs": [
    {
     "name": "stdout",
     "output_type": "stream",
     "text": [
      "============================== 시작 ==============================\n",
      "13 - 3 - 27\n",
      "2019\n",
      "2018\n",
      "2017\n",
      "============================== 종료 ==============================\n",
      "13 - 3 - 27\n"
     ]
    }
   ],
   "source": [
    "driver = webdriver.Chrome('E:/BigData/BigData/driver/chromedriver.exe')\n",
    "print('='*30,'시작','='*30)\n",
    "now = time.localtime()\n",
    "print(now.tm_hour,'-',now.tm_min, '-',now.tm_sec)\n",
    "# try:\n",
    "sql=''\n",
    "url = 'https://www.koreabaseball.com/Record/Player/PitcherDetail/Daily.aspx?playerId={}'.format(65933)\n",
    "driver.get(url)\n",
    "time.sleep(1)\n",
    "for year in (2019,2018,2017):\n",
    "    print(year)\n",
    "    select = Select(driver.find_element_by_id('cphContents_cphContents_cphContents_ddlYear'))\n",
    "    select.select_by_value(str(year))\n",
    "    time.sleep(1)\n",
    "    html = driver.page_source\n",
    "    bs = BeautifulSoup(html,'html.parser')\n",
    "    trs = bs.select('#contents > div.sub-content > div.player_records > div > table > tbody > tr')\n",
    "    for tr in trs:\n",
    "        data_list = []\n",
    "        tds = tr.select('td')\n",
    "        for td in tds:\n",
    "            data_list.append(td.text)\n",
    "        month_day = data_list[0]\n",
    "        month = month_day.split('.')[0]\n",
    "        day = month_day.split('.')[1]\n",
    "        sql = '''\n",
    "        insert into kbo_pitcher_daily_status values({},'{}','{}','{}','{}','{}','{}','{}','{}'\n",
    "        ,'{}','{}','{}','{}','{}','{}','{}','{}','{}');\n",
    "        '''.format(65933,year,month,day,data_list[1],data_list[2],data_list[3],data_list[4]\n",
    "                   ,data_list[5],data_list[6],data_list[7],data_list[8]\n",
    "                   ,data_list[9],data_list[10],data_list[11],data_list[12]\n",
    "                   ,data_list[13],data_list[14])\n",
    "\n",
    "    #         curs.execute(sql)\n",
    "    time.sleep(1)\n",
    "# except:\n",
    "#     print(sql)\n",
    "#     pass\n",
    "print('='*30,'종료','='*30)\n",
    "print(now.tm_hour,'-',now.tm_min, '-',now.tm_sec)"
   ]
  },
  {
   "cell_type": "code",
   "execution_count": 24,
   "metadata": {},
   "outputs": [
    {
     "data": {
      "text/plain": [
       "[]"
      ]
     },
     "execution_count": 24,
     "metadata": {},
     "output_type": "execute_result"
    }
   ],
   "source": [
    "err_sql"
   ]
  },
  {
   "cell_type": "code",
   "execution_count": 23,
   "metadata": {},
   "outputs": [],
   "source": [
    "conn.commit()"
   ]
  }
 ],
 "metadata": {
  "kernelspec": {
   "display_name": "Python 3",
   "language": "python",
   "name": "python3"
  },
  "language_info": {
   "codemirror_mode": {
    "name": "ipython",
    "version": 3
   },
   "file_extension": ".py",
   "mimetype": "text/x-python",
   "name": "python",
   "nbconvert_exporter": "python",
   "pygments_lexer": "ipython3",
   "version": "3.7.7"
  }
 },
 "nbformat": 4,
 "nbformat_minor": 4
}
