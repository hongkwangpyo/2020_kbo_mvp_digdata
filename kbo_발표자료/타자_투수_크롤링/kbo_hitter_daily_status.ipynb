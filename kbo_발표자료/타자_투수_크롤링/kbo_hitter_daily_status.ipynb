{
 "cells": [
  {
   "cell_type": "code",
   "execution_count": 1,
   "metadata": {},
   "outputs": [],
   "source": [
    "import pandas as pd\n",
    "import requests\n",
    "from selenium import webdriver\n",
    "from selenium.webdriver.support.ui import Select\n",
    "from bs4 import BeautifulSoup\n",
    "import time\n",
    "import pymysql"
   ]
  },
  {
   "cell_type": "code",
   "execution_count": 2,
   "metadata": {},
   "outputs": [],
   "source": [
    "conn = pymysql.connect(host='49.247.132.235', user='kbo_db', password='1234',\n",
    "                       db='kbo_data_db', charset='utf8')"
   ]
  },
  {
   "cell_type": "code",
   "execution_count": 3,
   "metadata": {},
   "outputs": [],
   "source": [
    "curs = conn.cursor(pymysql.cursors.DictCursor)"
   ]
  },
  {
   "cell_type": "code",
   "execution_count": 4,
   "metadata": {},
   "outputs": [],
   "source": [
    "sql = '''\n",
    "select player_id\n",
    ",group_concat(player_year SEPARATOR ',') as year \n",
    "from kbo_hitter_total_status\n",
    "group by  player_id;\n",
    "'''"
   ]
  },
  {
   "cell_type": "code",
   "execution_count": 5,
   "metadata": {},
   "outputs": [
    {
     "data": {
      "text/plain": [
       "227"
      ]
     },
     "execution_count": 5,
     "metadata": {},
     "output_type": "execute_result"
    }
   ],
   "source": [
    "curs.execute(sql)"
   ]
  },
  {
   "cell_type": "code",
   "execution_count": 6,
   "metadata": {},
   "outputs": [],
   "source": [
    "rows = curs.fetchall()"
   ]
  },
  {
   "cell_type": "code",
   "execution_count": 7,
   "metadata": {},
   "outputs": [
    {
     "data": {
      "text/plain": [
       "227"
      ]
     },
     "execution_count": 7,
     "metadata": {},
     "output_type": "execute_result"
    }
   ],
   "source": [
    "play_info = {}\n",
    "for row in rows:\n",
    "    play_info[row['player_id']] = row['year'].split(',')\n",
    "len(play_info)"
   ]
  },
  {
   "cell_type": "code",
   "execution_count": 122,
   "metadata": {},
   "outputs": [],
   "source": [
    "# conn.close()"
   ]
  },
  {
   "cell_type": "code",
   "execution_count": 8,
   "metadata": {},
   "outputs": [
    {
     "name": "stdout",
     "output_type": "stream",
     "text": [
      "============================== start ==============================\n",
      "1594963036.1961813\n",
      "완료\n"
     ]
    }
   ],
   "source": [
    "driver = webdriver.Chrome('E:/BigData/BigData/driver/chromedriver.exe')\n",
    "print('='*30,'start','='*30)\n",
    "print(time.time())\n",
    "err_sql = []\n",
    "for player_id,years in play_info.items():\n",
    "    try:\n",
    "        sql=''\n",
    "        url = 'https://www.koreabaseball.com/Record/Player/HitterDetail/Daily.aspx?playerId={}'.format(player_id)\n",
    "        driver.get(url)\n",
    "        time.sleep(1)\n",
    "        for year in years:\n",
    "            select = Select(driver.find_element_by_id('cphContents_cphContents_cphContents_ddlYear'))\n",
    "            select.select_by_value(str(year))\n",
    "            time.sleep(1)\n",
    "            html = driver.page_source\n",
    "            bs = BeautifulSoup(html,'html.parser')\n",
    "            trs = bs.select('#contents > div.sub-content > div.player_records > div > table > tbody > tr')\n",
    "            for tr in trs:\n",
    "                data_list = []\n",
    "                tds = tr.select('td')\n",
    "                for td in tds:\n",
    "                    data_list.append(td.text)\n",
    "                month_day = data_list[0]\n",
    "                month = month_day.split('.')[0]\n",
    "                day = month_day.split('.')[1]\n",
    "                sql = '''\n",
    "                insert into kbo_hitter_daily_status values({},'{}','{}','{}','{}','{}','{}','{}','{}','{}'\n",
    "                ,'{}','{}','{}','{}','{}','{}','{}','{}','{}','{}');\n",
    "                '''.format(player_id,year,month,day,data_list[1],data_list[2],data_list[3],data_list[4],data_list[5]\n",
    "                        ,data_list[6],data_list[7],data_list[8],data_list[9],data_list[10],data_list[11]\n",
    "                        ,data_list[12],data_list[13],data_list[14],data_list[15],data_list[16])\n",
    "                curs.execute(sql)\n",
    "            time.sleep(1)\n",
    "    except:\n",
    "        err_sql.append(sql)\n",
    "        pass\n",
    "print('완료')"
   ]
  },
  {
   "cell_type": "code",
   "execution_count": 9,
   "metadata": {},
   "outputs": [],
   "source": [
    "conn.commit()"
   ]
  },
  {
   "cell_type": "code",
   "execution_count": 10,
   "metadata": {},
   "outputs": [],
   "source": [
    "conn.close()"
   ]
  },
  {
   "cell_type": "code",
   "execution_count": 10,
   "metadata": {},
   "outputs": [
    {
     "data": {
      "text/plain": [
       "['']"
      ]
     },
     "execution_count": 10,
     "metadata": {},
     "output_type": "execute_result"
    }
   ],
   "source": [
    "err_sql"
   ]
  }
 ],
 "metadata": {
  "kernelspec": {
   "display_name": "Python 3",
   "language": "python",
   "name": "python3"
  },
  "language_info": {
   "codemirror_mode": {
    "name": "ipython",
    "version": 3
   },
   "file_extension": ".py",
   "mimetype": "text/x-python",
   "name": "python",
   "nbconvert_exporter": "python",
   "pygments_lexer": "ipython3",
   "version": "3.7.7"
  }
 },
 "nbformat": 4,
 "nbformat_minor": 4
}
