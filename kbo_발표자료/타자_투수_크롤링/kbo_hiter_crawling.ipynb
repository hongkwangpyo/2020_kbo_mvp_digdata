{
 "cells": [
  {
   "cell_type": "code",
   "execution_count": 1,
   "metadata": {},
   "outputs": [],
   "source": [
    "import pandas as pd\n",
    "import requests\n",
    "from selenium import webdriver\n",
    "from selenium.webdriver.support.ui import Select\n",
    "from bs4 import BeautifulSoup\n",
    "import time\n",
    "import pymysql"
   ]
  },
  {
   "cell_type": "code",
   "execution_count": 2,
   "metadata": {},
   "outputs": [],
   "source": [
    "def craw_html(my_dict):\n",
    "    html = driver.page_source\n",
    "    bs = BeautifulSoup(html,'html.parser')\n",
    "    trs = bs.select('#cphContents_cphContents_cphContents_udpContent > div.record_result > table > tbody > tr')\n",
    "    for tr in trs:\n",
    "        href = tr.select('a')[0]['href']\n",
    "        play_id = href.split('=')[1]\n",
    "        play_name = tr.select('a')[0].text.replace('*','')\n",
    "        g_num = tr.find('td',{'data-id':'GAME_CN'}).text\n",
    "        my_dict[play_id] = play_name.strip()\n",
    "    return my_dict"
   ]
  },
  {
   "cell_type": "code",
   "execution_count": 3,
   "metadata": {},
   "outputs": [
    {
     "name": "stdout",
     "output_type": "stream",
     "text": [
      "start!!!\n",
      "페이지 완료\n",
      "============================================================\n",
      "23.004737615585327\n"
     ]
    }
   ],
   "source": [
    "\n",
    "url = 'https://www.koreabaseball.com/Record/Player/HitterBasic/Basic1.aspx'\n",
    "driver = webdriver.Chrome('E:/BigData/BigData/driver/chromedriver.exe')\n",
    "# driver = webdriver.Chrome('E:/chromedriver_win32/chromedriver.exe')\n",
    "driver.get(url)\n",
    "time.sleep(1)\n",
    "\n",
    "my_dict = {}\n",
    "start_time = time.time()\n",
    "# select = Select(driver.find_element_by_id('cphContents_cphContents_cphContents_ddlSeason_ddlSeason'))\n",
    "# select.select_by_value('2020')\n",
    "time.sleep(1)\n",
    "\n",
    "# driver.find_element_by_xpath('//*[@id=\"cphContents_cphContents_cphContents_udpContent\"]/div[2]/table/thead/tr/th[5]/a').click()\n",
    "driver.find_element_by_css_selector('#cphContents_cphContents_cphContents_udpContent > div.record_result > table > thead > tr > th:nth-child(5) > a').click()\n",
    "\n",
    "time.sleep(1)\n",
    "\n",
    "page_num=1\n",
    "count=0\n",
    "\n",
    "print('start!!!')\n",
    "\n",
    "while True:\n",
    "    try:\n",
    "        craw_html(my_dict)\n",
    "        time.sleep(1)\n",
    "        page_num += 1\n",
    "        if page_num > 5:\n",
    "            driver.find_element_by_css_selector('#cphContents_cphContents_cphContents_ucPager_btnNext').click()\n",
    "            page_num = 1\n",
    "        else:\n",
    "            page_tag = '#cphContents_cphContents_cphContents_ucPager_btnNo{}'.format(page_num)\n",
    "            driver.find_element_by_css_selector(page_tag).click()   \n",
    "        time.sleep(1)\n",
    "        count+=1\n",
    "        if count >= 50:\n",
    "            break\n",
    "    except:\n",
    "        print('페이지 완료')\n",
    "        break\n",
    "        \n",
    "end_time = time.time()\n",
    "total_time = end_time - start_time\n",
    "print('='*60)\n",
    "print(total_time)"
   ]
  },
  {
   "cell_type": "code",
   "execution_count": 6,
   "metadata": {},
   "outputs": [],
   "source": []
  },
  {
   "cell_type": "code",
   "execution_count": 30,
   "metadata": {},
   "outputs": [],
   "source": [
    "# conn = pymysql.connect(host='localhost'\n",
    "#                        ,user='crawling'\n",
    "#                        ,password='1234'\n",
    "#                        ,db='kbo_data'\n",
    "#                        ,charset='utf8')\n",
    "# curs = conn.cursor()"
   ]
  },
  {
   "cell_type": "code",
   "execution_count": 10,
   "metadata": {},
   "outputs": [],
   "source": [
    "# for k,v in data_dic.items():\n",
    "#     sql = \"insert into kbo_play(play_name,play_id) values('{}',{})\".format(v,int(k))\n",
    "#     print(sql)\n",
    "#     curs.execute(sql)"
   ]
  },
  {
   "cell_type": "code",
   "execution_count": 4,
   "metadata": {},
   "outputs": [],
   "source": [
    "list(my_dict.keys())\n",
    "df = pd.DataFrame({'play_id':list(my_dict.keys()),'play_name':list(my_dict.values())})"
   ]
  },
  {
   "cell_type": "code",
   "execution_count": 5,
   "metadata": {},
   "outputs": [
    {
     "data": {
      "text/html": [
       "<div>\n",
       "<style scoped>\n",
       "    .dataframe tbody tr th:only-of-type {\n",
       "        vertical-align: middle;\n",
       "    }\n",
       "\n",
       "    .dataframe tbody tr th {\n",
       "        vertical-align: top;\n",
       "    }\n",
       "\n",
       "    .dataframe thead th {\n",
       "        text-align: right;\n",
       "    }\n",
       "</style>\n",
       "<table border=\"1\" class=\"dataframe\">\n",
       "  <thead>\n",
       "    <tr style=\"text-align: right;\">\n",
       "      <th></th>\n",
       "      <th>play_id</th>\n",
       "      <th>play_name</th>\n",
       "    </tr>\n",
       "  </thead>\n",
       "  <tbody>\n",
       "    <tr>\n",
       "      <th>0</th>\n",
       "      <td>67341</td>\n",
       "      <td>이정후</td>\n",
       "    </tr>\n",
       "    <tr>\n",
       "      <th>1</th>\n",
       "      <td>69209</td>\n",
       "      <td>페르난데스</td>\n",
       "    </tr>\n",
       "    <tr>\n",
       "      <th>2</th>\n",
       "      <td>64300</td>\n",
       "      <td>김하성</td>\n",
       "    </tr>\n",
       "    <tr>\n",
       "      <th>3</th>\n",
       "      <td>67872</td>\n",
       "      <td>로맥</td>\n",
       "    </tr>\n",
       "    <tr>\n",
       "      <th>4</th>\n",
       "      <td>76290</td>\n",
       "      <td>김현수</td>\n",
       "    </tr>\n",
       "  </tbody>\n",
       "</table>\n",
       "</div>"
      ],
      "text/plain": [
       "  play_id play_name\n",
       "0   67341       이정후\n",
       "1   69209     페르난데스\n",
       "2   64300       김하성\n",
       "3   67872        로맥\n",
       "4   76290       김현수"
      ]
     },
     "execution_count": 5,
     "metadata": {},
     "output_type": "execute_result"
    }
   ],
   "source": [
    "df.head()"
   ]
  },
  {
   "cell_type": "code",
   "execution_count": 7,
   "metadata": {},
   "outputs": [],
   "source": [
    "df.to_csv('./kbo_hitter.csv',encoding='utf-8-sig')"
   ]
  },
  {
   "cell_type": "code",
   "execution_count": null,
   "metadata": {},
   "outputs": [],
   "source": []
  }
 ],
 "metadata": {
  "kernelspec": {
   "display_name": "Python 3",
   "language": "python",
   "name": "python3"
  },
  "language_info": {
   "codemirror_mode": {
    "name": "ipython",
    "version": 3
   },
   "file_extension": ".py",
   "mimetype": "text/x-python",
   "name": "python",
   "nbconvert_exporter": "python",
   "pygments_lexer": "ipython3",
   "version": "3.7.6"
  }
 },
 "nbformat": 4,
 "nbformat_minor": 4
}
