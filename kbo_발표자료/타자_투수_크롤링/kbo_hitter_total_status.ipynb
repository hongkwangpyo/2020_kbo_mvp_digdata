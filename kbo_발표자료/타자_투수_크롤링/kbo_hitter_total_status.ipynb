{
 "cells": [
  {
   "cell_type": "code",
   "execution_count": 1,
   "metadata": {},
   "outputs": [],
   "source": [
    "import pandas as pd\n",
    "import requests\n",
    "from selenium import webdriver\n",
    "from selenium.webdriver.support.ui import Select\n",
    "from bs4 import BeautifulSoup\n",
    "import time\n",
    "import pymysql"
   ]
  },
  {
   "cell_type": "code",
   "execution_count": 2,
   "metadata": {},
   "outputs": [],
   "source": [
    "conn = pymysql.connect(host='49.247.132.235', user='kbo_db', password='1234',\n",
    "                       db='kbo_data_db', charset='utf8')"
   ]
  },
  {
   "cell_type": "code",
   "execution_count": 3,
   "metadata": {},
   "outputs": [],
   "source": [
    "curs = conn.cursor(pymysql.cursors.DictCursor)"
   ]
  },
  {
   "cell_type": "code",
   "execution_count": 4,
   "metadata": {},
   "outputs": [],
   "source": [
    "sql = '''\n",
    "select * from kbo_hitter_player;\n",
    "'''"
   ]
  },
  {
   "cell_type": "code",
   "execution_count": 5,
   "metadata": {},
   "outputs": [
    {
     "data": {
      "text/plain": [
       "278"
      ]
     },
     "execution_count": 5,
     "metadata": {},
     "output_type": "execute_result"
    }
   ],
   "source": [
    "curs.execute(sql)"
   ]
  },
  {
   "cell_type": "code",
   "execution_count": 6,
   "metadata": {},
   "outputs": [],
   "source": [
    "rows = curs.fetchall()"
   ]
  },
  {
   "cell_type": "code",
   "execution_count": 18,
   "metadata": {},
   "outputs": [],
   "source": [
    "status_title = []\n",
    "url = 'https://www.koreabaseball.com/Record/Player/HitterDetail/Total.aspx?playerId=62925'\n",
    "res = requests.get(url)\n",
    "bs = BeautifulSoup(res.text,'html.parser')\n",
    "title = bs.select('#contents > div.sub-content > div.player_records > div > table > thead > tr > th')\n",
    "for txt in title:\n",
    "    status_title.append(txt.text) "
   ]
  },
  {
   "cell_type": "code",
   "execution_count": 115,
   "metadata": {},
   "outputs": [
    {
     "name": "stdout",
     "output_type": "stream",
     "text": [
      "start!!\n",
      "17-16-21\n",
      "0.001995086669921875\n",
      "============================================================\n"
     ]
    }
   ],
   "source": [
    "start_time = time.time()\n",
    "player_total_status = []\n",
    "# status_title = status_titles()\n",
    "print('start!!')\n",
    "now = time.localtime()\n",
    "print('{}-{}-{}'.format(now.tm_hour,now.tm_min,now.tm_sec))\n",
    "\n",
    "for i,data in enumerate(rows):\n",
    "    num = data['play_id'] \n",
    "    try:\n",
    "        time.sleep(1)\n",
    "        url = 'https://www.koreabaseball.com/Record/Player/HitterDetail/Total.aspx?playerId={}'.format(num)\n",
    "        res = requests.get(url)\n",
    "        time.sleep(1)\n",
    "        bs = BeautifulSoup(res.text,'html.parser')\n",
    "        trs = bs.select('#contents > div.sub-content > div.player_records > div > table > tbody > tr')\n",
    "        start_time = time.time()\n",
    "        for tr in trs:\n",
    "            year_data = []\n",
    "            tds= tr.select('td')\n",
    "            year_data.append(num)\n",
    "            for td in tds:\n",
    "                if '2020' != td.text:\n",
    "                    year_data.append(td.text)\n",
    "                else:\n",
    "                    break\n",
    "            player_total_status.append(year_data)\n",
    "    except:\n",
    "        print('eee')\n",
    "        pass\n",
    "    \n",
    "end_time = time.time()\n",
    "total_time = end_time - start_time\n",
    "print(total_time)\n",
    "print('완료')\n",
    "print('='*60)"
   ]
  },
  {
   "cell_type": "code",
   "execution_count": 147,
   "metadata": {
    "collapsed": true,
    "jupyter": {
     "outputs_hidden": true
    }
   },
   "outputs": [
    {
     "name": "stdout",
     "output_type": "stream",
     "text": [
      "\n",
      "            insert into kbo_player_total_data \n",
      "            values (60339,2010,'NC','-','1','0','0','0','0','0'\n",
      "            ,'0','0','0','0','0','0','0','0','0','-','-','0');\n",
      "            \n",
      "\n",
      "            insert into kbo_player_total_data \n",
      "            values (60339,2012,'NC','-','1','0','0','0','0','0'\n",
      "            ,'0','0','0','0','0','0','0','0','0','-','-','0');\n",
      "            \n",
      "\n",
      "            insert into kbo_player_total_data \n",
      "            values (60339,2019,'NC','-','1','0','0','0','0','0'\n",
      "            ,'0','0','0','0','0','0','0','0','0','-','-','0');\n",
      "            \n",
      "완료\n"
     ]
    }
   ],
   "source": [
    "for i,value in enumerate(player_total_status[:10]):\n",
    "    print(i)\n",
    "    if len(value) > 2:\n",
    "        sql = '''\n",
    "        insert into kbo_hitter_total_status\n",
    "        values ({},'{}','{}','{}','{}','{}','{}','{}','{}','{}','{}'\n",
    "            ,'{}','{}','{}','{}','{}','{}','{}','{}','{}','{}','{}','{}');\n",
    "        '''.format(value[0],value[1],value[2],value[3],value[4],value[5]\n",
    "                   ,value[6],value[7],value[8],value[9],value[10],value[11]\n",
    "                   ,value[12],value[13],value[14],value[15],value[16],value[17]\n",
    "                   ,value[18],value[19],value[20],value[21],value[22])\n",
    "        curs.execute(sql)\n",
    "print('완료')\n",
    "print('='*60)"
   ]
  }
 ],
 "metadata": {
  "kernelspec": {
   "display_name": "Python 3",
   "language": "python",
   "name": "python3"
  },
  "language_info": {
   "codemirror_mode": {
    "name": "ipython",
    "version": 3
   },
   "file_extension": ".py",
   "mimetype": "text/x-python",
   "name": "python",
   "nbconvert_exporter": "python",
   "pygments_lexer": "ipython3",
   "version": "3.7.3"
  }
 },
 "nbformat": 4,
 "nbformat_minor": 4
}
