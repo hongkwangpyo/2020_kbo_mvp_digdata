{
 "cells": [
  {
   "cell_type": "markdown",
   "metadata": {},
   "source": [
    "CQ(컨택 퀄리티)\n",
    "타자의 능력을 좀 더 다양하게 확인하고 싶다면, 인플레이 타구의 타율(BABIP), 타석당 볼넷비율(BB%), 또는 타석당 삼진비율(K%)을 확인하는 것이 좋다.\n",
    "\n",
    "BABIP은 타자가 인플레이 타구를 만들었을 때 그것이 어느정도 비율로 안타가 되는지 확인할 수 있는 기록이고, BB%은 타자가 볼넷을 얼마나 잘 얻어내는지, K%는 타자가 삼진아웃을 얼마나 잘 당하는지 쉽게 알 수 있는 지표다.\n",
    "\n",
    "그러나 BABIP(인플레이 타구의 타율) 만으로 타자가 실제 컨택한 타구에 대한 가치를 평가하기엔 무리가 있다. BABIP은 모든 안타를 동등한 가치로 간주할 뿐 아니라, 무엇보다 홈런을 제외하기 때문이다.\n",
    "\n",
    "타자들의 인플레이 타구에 대한 퀄리티를 확인할 수 있는 간단한 지표가 있다면 타자가 일단 공을 쳤을 때 그 가치를 평가하기 매우 유용할 것이다.\n",
    "\n",
    "인플레이 타구 이벤트에 대해 적절히 가중치를 부여하고, BABIP 계산시 제외된 홈런까지 포함시킨 스탯이 있다.  야구기록 사이트인 [팬그래프]에 소개된 컨택 퀄리티(Contact Quality, CQ)가 그것이다."
   ]
  },
  {
   "cell_type": "markdown",
   "metadata": {},
   "source": [
    "GPA\n",
    "OPS의 단점을 보완하기 위해 고안된 지표로 2003년 발표된 GPA(Gross Production Average)가 있다. \n",
    "'GPA'는 출루율에 가중치를 부여했고, 타율과 유사한 범위를 갖게 함으로써 값의 수준을 쉽게 이해할 수 있다. \n",
    "OPS 만큼은 아니지만  계산식 역시 다음과 같이 매우 간단한 편이다."
   ]
  },
  {
   "cell_type": "code",
   "execution_count": 56,
   "metadata": {},
   "outputs": [],
   "source": [
    "import pandas as pd\n",
    "import numpy as np\n",
    "from matplotlib import pyplot as plt\n",
    "import matplotlib as mpl\n",
    "import matplotlib.font_manager as fm\n",
    "import seaborn as sns\n",
    "import pymysql\n",
    "import requests\n",
    "from bs4 import BeautifulSoup\n",
    "from selenium import webdriver\n",
    "from selenium.webdriver.support.ui import Select\n",
    "import time\n",
    "from math import pi\n",
    "\n",
    "mpl.rcParams['axes.unicode_minus'] = False\n",
    "path = 'C:/Windows/Fonts/malgun.ttf'\n",
    "font_name = fm.FontProperties(fname=path, size=50).get_name()\n",
    "plt.rc('font', family=font_name)\n",
    "\n",
    "plt.rcParams['figure.figsize'] = (15,5)\n",
    "plt.rcParams['font.size'] = 14"
   ]
  },
  {
   "cell_type": "code",
   "execution_count": 33,
   "metadata": {},
   "outputs": [],
   "source": [
    "conn = pymysql.connect(host='49.247.132.235', user='kbo_db', password='1234',\n",
    "                       db='kbo_data_db', charset='utf8')"
   ]
  },
  {
   "cell_type": "code",
   "execution_count": 34,
   "metadata": {},
   "outputs": [],
   "source": [
    "curs = conn.cursor(pymysql.cursors.DictCursor)"
   ]
  },
  {
   "cell_type": "code",
   "execution_count": 46,
   "metadata": {},
   "outputs": [],
   "source": [
    "sql = '''\n",
    "select \n",
    "cast(player_AVG as decimal(8,3)) as 타율\n",
    ",cast(player_OBP as decimal(8,3)) as 출루율\n",
    ",cast(player_SLG as decimal(8,3)) as 장타율\n",
    ",round(((0.5*cast(player_H as decimal(8,3))) +(0.3*cast(player_TB as decimal(8,3)))) / (cast(player_AB as decimal(8,3)) - cast(player_SO as decimal(8,3))),3)  as CQ\n",
    ",round((cast(player_OBP as decimal(8,3))*1.8+cast(player_SLG as decimal(8,3)))/4,3) as GBA\n",
    "from kbo_hitter_total_status\n",
    "where player_year = '{}'\n",
    "and player_id = {}\n",
    "'''.format('2019',76232)"
   ]
  },
  {
   "cell_type": "code",
   "execution_count": 47,
   "metadata": {},
   "outputs": [
    {
     "data": {
      "text/plain": [
       "1"
      ]
     },
     "execution_count": 47,
     "metadata": {},
     "output_type": "execute_result"
    }
   ],
   "source": [
    "curs.execute(sql)"
   ]
  },
  {
   "cell_type": "code",
   "execution_count": 48,
   "metadata": {},
   "outputs": [],
   "source": [
    "rows = curs.fetchall()"
   ]
  },
  {
   "cell_type": "code",
   "execution_count": 80,
   "metadata": {},
   "outputs": [
    {
     "data": {
      "text/plain": [
       "[{'타율': Decimal('0.354'),\n",
       "  '출루율': Decimal('0.438'),\n",
       "  '장타율': Decimal('0.574'),\n",
       "  'CQ': Decimal('0.393'),\n",
       "  'GBA': Decimal('0.341')}]"
      ]
     },
     "execution_count": 80,
     "metadata": {},
     "output_type": "execute_result"
    }
   ],
   "source": [
    "rows"
   ]
  },
  {
   "cell_type": "code",
   "execution_count": 49,
   "metadata": {},
   "outputs": [
    {
     "name": "stdout",
     "output_type": "stream",
     "text": [
      "타율\n",
      "출루율\n",
      "장타율\n",
      "CQ\n",
      "GBA\n"
     ]
    }
   ],
   "source": [
    "for k,v in rows[0].items():\n",
    "    print(k)"
   ]
  },
  {
   "cell_type": "code",
   "execution_count": 83,
   "metadata": {},
   "outputs": [],
   "source": [
    "df_team = pd.DataFrame.from_dict(rows)"
   ]
  },
  {
   "cell_type": "code",
   "execution_count": 84,
   "metadata": {},
   "outputs": [],
   "source": [
    "df_team = df_team.astype(float)"
   ]
  },
  {
   "cell_type": "code",
   "execution_count": 85,
   "metadata": {},
   "outputs": [
    {
     "data": {
      "text/plain": [
       "[0.354, 0.438, 0.574, 0.393, 0.341, 0.354]"
      ]
     },
     "execution_count": 85,
     "metadata": {},
     "output_type": "execute_result"
    }
   ],
   "source": [
    "var1 =  df_team.iloc[0,:].to_list()\n",
    "var1 += var1[:1]\n",
    "var1"
   ]
  },
  {
   "cell_type": "code",
   "execution_count": 86,
   "metadata": {},
   "outputs": [
    {
     "data": {
      "text/html": [
       "<div>\n",
       "<style scoped>\n",
       "    .dataframe tbody tr th:only-of-type {\n",
       "        vertical-align: middle;\n",
       "    }\n",
       "\n",
       "    .dataframe tbody tr th {\n",
       "        vertical-align: top;\n",
       "    }\n",
       "\n",
       "    .dataframe thead th {\n",
       "        text-align: right;\n",
       "    }\n",
       "</style>\n",
       "<table border=\"1\" class=\"dataframe\">\n",
       "  <thead>\n",
       "    <tr style=\"text-align: right;\">\n",
       "      <th></th>\n",
       "      <th>타율</th>\n",
       "      <th>출루율</th>\n",
       "      <th>장타율</th>\n",
       "      <th>CQ</th>\n",
       "      <th>GBA</th>\n",
       "    </tr>\n",
       "  </thead>\n",
       "  <tbody>\n",
       "    <tr>\n",
       "      <th>0</th>\n",
       "      <td>0.354</td>\n",
       "      <td>0.438</td>\n",
       "      <td>0.574</td>\n",
       "      <td>0.393</td>\n",
       "      <td>0.341</td>\n",
       "    </tr>\n",
       "  </tbody>\n",
       "</table>\n",
       "</div>"
      ],
      "text/plain": [
       "      타율    출루율    장타율     CQ    GBA\n",
       "0  0.354  0.438  0.574  0.393  0.341"
      ]
     },
     "execution_count": 86,
     "metadata": {},
     "output_type": "execute_result"
    }
   ],
   "source": [
    "df_team"
   ]
  },
  {
   "cell_type": "code",
   "execution_count": 87,
   "metadata": {},
   "outputs": [
    {
     "name": "stdout",
     "output_type": "stream",
     "text": [
      "[0.0, 1.2566370614359172, 2.5132741228718345, 3.7699111843077517, 5.026548245743669, 0.0]\n"
     ]
    }
   ],
   "source": [
    "var = ['타율','출루율','장타율','CQ','GBA']\n",
    "num_var = len(var)\n",
    "deg = [n/float(num_var) * 2 * pi for n in range(num_var)]\n",
    "deg += deg[:1]\n",
    "print(deg)"
   ]
  },
  {
   "cell_type": "code",
   "execution_count": 114,
   "metadata": {},
   "outputs": [
    {
     "data": {
      "text/plain": [
       "<matplotlib.legend.Legend at 0x2e5e8420388>"
      ]
     },
     "execution_count": 114,
     "metadata": {},
     "output_type": "execute_result"
    },
    {
     "data": {
      "image/png": "[encoded data removed]",
      "text/plain": [
       "<Figure size 1080x360 with 1 Axes>"
      ]
     },
     "metadata": {},
     "output_type": "display_data"
    }
   ],
   "source": [
    "ax = plt.subplot(111,polar=True)\n",
    "plt.xticks(deg[:-1],var,color='grey',size=10)\n",
    "\n",
    "ax.set_rlabel_position(30)\n",
    "plt.yticks([0.1,0.3,0.5,0.7],['0.1','0.3','0.5','0.7'],color='red',size=10)\n",
    "plt.ylim(0,0.7)\n",
    "\n",
    "ax.plot(deg,var1,linewidth=1,linestyle='solid',label='홈')\n",
    "ax.fill(deg,var1,'blue',alpha=0.1)\n",
    "\n",
    "# ax.plot(deg,var102,linewidth=1,linestyle='solid',label='어웨이팀')\n",
    "# ax.fill(deg,var102,'blue',alpha=0.1)\n",
    "\n",
    "plt.legend(loc='best',bbox_to_anchor=(-0.1,0.95))"
   ]
  },
  {
   "cell_type": "code",
   "execution_count": null,
   "metadata": {},
   "outputs": [],
   "source": []
  },
  {
   "cell_type": "code",
   "execution_count": null,
   "metadata": {},
   "outputs": [],
   "source": []
  }
 ],
 "metadata": {
  "kernelspec": {
   "display_name": "Python 3",
   "language": "python",
   "name": "python3"
  },
  "language_info": {
   "codemirror_mode": {
    "name": "ipython",
    "version": 3
   },
   "file_extension": ".py",
   "mimetype": "text/x-python",
   "name": "python",
   "nbconvert_exporter": "python",
   "pygments_lexer": "ipython3",
   "version": "3.7.6"
  }
 },
 "nbformat": 4,
 "nbformat_minor": 4
}
